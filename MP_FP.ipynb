{
  "cells": [
    {
      "cell_type": "code",
      "execution_count": 1,
      "metadata": {
        "colab": {
          "base_uri": "https://localhost:8080/"
        },
        "id": "bcFTkOCZ1Hz3",
        "outputId": "bab82b65-cee3-4a8b-b7cd-90201d257c11"
      },
      "outputs": [
        {
          "output_type": "stream",
          "name": "stdout",
          "text": [
            "Mounted at /content/drive\n"
          ]
        }
      ],
      "source": [
        "from google.colab import drive\n",
        "drive.mount('/content/drive')\n"
      ]
    },
    {
      "cell_type": "code",
      "execution_count": null,
      "metadata": {
        "id": "W6q99-x01PZY"
      },
      "outputs": [],
      "source": [
        "import pandas as pd\n",
        "import numpy as np\n",
        "import matplotlib.pyplot as plt\n",
        "import seaborn as sns"
      ]
    },
    {
      "cell_type": "code",
      "execution_count": null,
      "metadata": {
        "id": "MzcQsNOn1Tbh"
      },
      "outputs": [],
      "source": [
        "df=pd.read_csv('/content/drive/MyDrive/mini_project/train3.csv',encoding='ISO-8859-1')"
      ]
    },
    {
      "cell_type": "code",
      "execution_count": null,
      "metadata": {
        "colab": {
          "base_uri": "https://localhost:8080/"
        },
        "id": "qcG82XZ91YY7",
        "outputId": "5dcbc730-c69c-4463-98e4-194a9800abc1"
      },
      "outputs": [
        {
          "output_type": "stream",
          "name": "stdout",
          "text": [
            "<class 'pandas.core.frame.DataFrame'>\n",
            "RangeIndex: 99989 entries, 0 to 99988\n",
            "Data columns (total 3 columns):\n",
            " #   Column         Non-Null Count  Dtype \n",
            "---  ------         --------------  ----- \n",
            " 0   ItemID         99989 non-null  int64 \n",
            " 1   Sentiment      99989 non-null  int64 \n",
            " 2   SentimentText  99989 non-null  object\n",
            "dtypes: int64(2), object(1)\n",
            "memory usage: 2.3+ MB\n"
          ]
        }
      ],
      "source": [
        "df.info()#is used to get consice summary of pandas dataframe"
      ]
    },
    {
      "cell_type": "code",
      "execution_count": null,
      "metadata": {
        "colab": {
          "base_uri": "https://localhost:8080/",
          "height": 206
        },
        "id": "g1uNSzvC1dYa",
        "outputId": "c5264862-7544-49b7-af61-a4ca676557ed"
      },
      "outputs": [
        {
          "output_type": "execute_result",
          "data": {
            "text/plain": [
              "   ItemID  Sentiment                                      SentimentText\n",
              "0       1          0                       is so sad for my APL frie...\n",
              "1       2          0                     I missed the New Moon trail...\n",
              "2       3          1                            omg its already 7:30 :O\n",
              "3       4          0            .. Omgaga. Im sooo  im gunna CRy. I'...\n",
              "4       5          0           i think mi bf is cheating on me!!!   ..."
            ],
            "text/html": [
              "\n",
              "  <div id=\"df-6a007878-33aa-41a0-be20-92ef29b3c292\">\n",
              "    <div class=\"colab-df-container\">\n",
              "      <div>\n",
              "<style scoped>\n",
              "    .dataframe tbody tr th:only-of-type {\n",
              "        vertical-align: middle;\n",
              "    }\n",
              "\n",
              "    .dataframe tbody tr th {\n",
              "        vertical-align: top;\n",
              "    }\n",
              "\n",
              "    .dataframe thead th {\n",
              "        text-align: right;\n",
              "    }\n",
              "</style>\n",
              "<table border=\"1\" class=\"dataframe\">\n",
              "  <thead>\n",
              "    <tr style=\"text-align: right;\">\n",
              "      <th></th>\n",
              "      <th>ItemID</th>\n",
              "      <th>Sentiment</th>\n",
              "      <th>SentimentText</th>\n",
              "    </tr>\n",
              "  </thead>\n",
              "  <tbody>\n",
              "    <tr>\n",
              "      <th>0</th>\n",
              "      <td>1</td>\n",
              "      <td>0</td>\n",
              "      <td>is so sad for my APL frie...</td>\n",
              "    </tr>\n",
              "    <tr>\n",
              "      <th>1</th>\n",
              "      <td>2</td>\n",
              "      <td>0</td>\n",
              "      <td>I missed the New Moon trail...</td>\n",
              "    </tr>\n",
              "    <tr>\n",
              "      <th>2</th>\n",
              "      <td>3</td>\n",
              "      <td>1</td>\n",
              "      <td>omg its already 7:30 :O</td>\n",
              "    </tr>\n",
              "    <tr>\n",
              "      <th>3</th>\n",
              "      <td>4</td>\n",
              "      <td>0</td>\n",
              "      <td>.. Omgaga. Im sooo  im gunna CRy. I'...</td>\n",
              "    </tr>\n",
              "    <tr>\n",
              "      <th>4</th>\n",
              "      <td>5</td>\n",
              "      <td>0</td>\n",
              "      <td>i think mi bf is cheating on me!!!   ...</td>\n",
              "    </tr>\n",
              "  </tbody>\n",
              "</table>\n",
              "</div>\n",
              "      <button class=\"colab-df-convert\" onclick=\"convertToInteractive('df-6a007878-33aa-41a0-be20-92ef29b3c292')\"\n",
              "              title=\"Convert this dataframe to an interactive table.\"\n",
              "              style=\"display:none;\">\n",
              "        \n",
              "  <svg xmlns=\"http://www.w3.org/2000/svg\" height=\"24px\"viewBox=\"0 0 24 24\"\n",
              "       width=\"24px\">\n",
              "    <path d=\"M0 0h24v24H0V0z\" fill=\"none\"/>\n",
              "    <path d=\"M18.56 5.44l.94 2.06.94-2.06 2.06-.94-2.06-.94-.94-2.06-.94 2.06-2.06.94zm-11 1L8.5 8.5l.94-2.06 2.06-.94-2.06-.94L8.5 2.5l-.94 2.06-2.06.94zm10 10l.94 2.06.94-2.06 2.06-.94-2.06-.94-.94-2.06-.94 2.06-2.06.94z\"/><path d=\"M17.41 7.96l-1.37-1.37c-.4-.4-.92-.59-1.43-.59-.52 0-1.04.2-1.43.59L10.3 9.45l-7.72 7.72c-.78.78-.78 2.05 0 2.83L4 21.41c.39.39.9.59 1.41.59.51 0 1.02-.2 1.41-.59l7.78-7.78 2.81-2.81c.8-.78.8-2.07 0-2.86zM5.41 20L4 18.59l7.72-7.72 1.47 1.35L5.41 20z\"/>\n",
              "  </svg>\n",
              "      </button>\n",
              "      \n",
              "  <style>\n",
              "    .colab-df-container {\n",
              "      display:flex;\n",
              "      flex-wrap:wrap;\n",
              "      gap: 12px;\n",
              "    }\n",
              "\n",
              "    .colab-df-convert {\n",
              "      background-color: #E8F0FE;\n",
              "      border: none;\n",
              "      border-radius: 50%;\n",
              "      cursor: pointer;\n",
              "      display: none;\n",
              "      fill: #1967D2;\n",
              "      height: 32px;\n",
              "      padding: 0 0 0 0;\n",
              "      width: 32px;\n",
              "    }\n",
              "\n",
              "    .colab-df-convert:hover {\n",
              "      background-color: #E2EBFA;\n",
              "      box-shadow: 0px 1px 2px rgba(60, 64, 67, 0.3), 0px 1px 3px 1px rgba(60, 64, 67, 0.15);\n",
              "      fill: #174EA6;\n",
              "    }\n",
              "\n",
              "    [theme=dark] .colab-df-convert {\n",
              "      background-color: #3B4455;\n",
              "      fill: #D2E3FC;\n",
              "    }\n",
              "\n",
              "    [theme=dark] .colab-df-convert:hover {\n",
              "      background-color: #434B5C;\n",
              "      box-shadow: 0px 1px 3px 1px rgba(0, 0, 0, 0.15);\n",
              "      filter: drop-shadow(0px 1px 2px rgba(0, 0, 0, 0.3));\n",
              "      fill: #FFFFFF;\n",
              "    }\n",
              "  </style>\n",
              "\n",
              "      <script>\n",
              "        const buttonEl =\n",
              "          document.querySelector('#df-6a007878-33aa-41a0-be20-92ef29b3c292 button.colab-df-convert');\n",
              "        buttonEl.style.display =\n",
              "          google.colab.kernel.accessAllowed ? 'block' : 'none';\n",
              "\n",
              "        async function convertToInteractive(key) {\n",
              "          const element = document.querySelector('#df-6a007878-33aa-41a0-be20-92ef29b3c292');\n",
              "          const dataTable =\n",
              "            await google.colab.kernel.invokeFunction('convertToInteractive',\n",
              "                                                     [key], {});\n",
              "          if (!dataTable) return;\n",
              "\n",
              "          const docLinkHtml = 'Like what you see? Visit the ' +\n",
              "            '<a target=\"_blank\" href=https://colab.research.google.com/notebooks/data_table.ipynb>data table notebook</a>'\n",
              "            + ' to learn more about interactive tables.';\n",
              "          element.innerHTML = '';\n",
              "          dataTable['output_type'] = 'display_data';\n",
              "          await google.colab.output.renderOutput(dataTable, element);\n",
              "          const docLink = document.createElement('div');\n",
              "          docLink.innerHTML = docLinkHtml;\n",
              "          element.appendChild(docLink);\n",
              "        }\n",
              "      </script>\n",
              "    </div>\n",
              "  </div>\n",
              "  "
            ]
          },
          "metadata": {},
          "execution_count": 17
        }
      ],
      "source": [
        "df.head()"
      ]
    },
    {
      "cell_type": "code",
      "execution_count": null,
      "metadata": {
        "colab": {
          "base_uri": "https://localhost:8080/",
          "height": 206
        },
        "id": "ZHX73hkF1gQS",
        "outputId": "04825a60-bcbc-4d87-ace9-f76aa003888b"
      },
      "outputs": [
        {
          "output_type": "execute_result",
          "data": {
            "text/plain": [
              "       ItemID  Sentiment                                      SentimentText\n",
              "99984   99996          0  @Cupcake  seems like a repeating problem   hop...\n",
              "99985   99997          1  @cupcake__ arrrr we both replied to each other...\n",
              "99986   99998          0                     @CuPcAkE_2120 ya i thought so \n",
              "99987   99999          1  @Cupcake_Dollie Yes. Yes. I'm glad you had mor...\n",
              "99988  100000          1                    @cupcake_kayla haha yes you do "
            ],
            "text/html": [
              "\n",
              "  <div id=\"df-85cfd945-3317-4fa1-ad63-4f76062e02a4\">\n",
              "    <div class=\"colab-df-container\">\n",
              "      <div>\n",
              "<style scoped>\n",
              "    .dataframe tbody tr th:only-of-type {\n",
              "        vertical-align: middle;\n",
              "    }\n",
              "\n",
              "    .dataframe tbody tr th {\n",
              "        vertical-align: top;\n",
              "    }\n",
              "\n",
              "    .dataframe thead th {\n",
              "        text-align: right;\n",
              "    }\n",
              "</style>\n",
              "<table border=\"1\" class=\"dataframe\">\n",
              "  <thead>\n",
              "    <tr style=\"text-align: right;\">\n",
              "      <th></th>\n",
              "      <th>ItemID</th>\n",
              "      <th>Sentiment</th>\n",
              "      <th>SentimentText</th>\n",
              "    </tr>\n",
              "  </thead>\n",
              "  <tbody>\n",
              "    <tr>\n",
              "      <th>99984</th>\n",
              "      <td>99996</td>\n",
              "      <td>0</td>\n",
              "      <td>@Cupcake  seems like a repeating problem   hop...</td>\n",
              "    </tr>\n",
              "    <tr>\n",
              "      <th>99985</th>\n",
              "      <td>99997</td>\n",
              "      <td>1</td>\n",
              "      <td>@cupcake__ arrrr we both replied to each other...</td>\n",
              "    </tr>\n",
              "    <tr>\n",
              "      <th>99986</th>\n",
              "      <td>99998</td>\n",
              "      <td>0</td>\n",
              "      <td>@CuPcAkE_2120 ya i thought so</td>\n",
              "    </tr>\n",
              "    <tr>\n",
              "      <th>99987</th>\n",
              "      <td>99999</td>\n",
              "      <td>1</td>\n",
              "      <td>@Cupcake_Dollie Yes. Yes. I'm glad you had mor...</td>\n",
              "    </tr>\n",
              "    <tr>\n",
              "      <th>99988</th>\n",
              "      <td>100000</td>\n",
              "      <td>1</td>\n",
              "      <td>@cupcake_kayla haha yes you do</td>\n",
              "    </tr>\n",
              "  </tbody>\n",
              "</table>\n",
              "</div>\n",
              "      <button class=\"colab-df-convert\" onclick=\"convertToInteractive('df-85cfd945-3317-4fa1-ad63-4f76062e02a4')\"\n",
              "              title=\"Convert this dataframe to an interactive table.\"\n",
              "              style=\"display:none;\">\n",
              "        \n",
              "  <svg xmlns=\"http://www.w3.org/2000/svg\" height=\"24px\"viewBox=\"0 0 24 24\"\n",
              "       width=\"24px\">\n",
              "    <path d=\"M0 0h24v24H0V0z\" fill=\"none\"/>\n",
              "    <path d=\"M18.56 5.44l.94 2.06.94-2.06 2.06-.94-2.06-.94-.94-2.06-.94 2.06-2.06.94zm-11 1L8.5 8.5l.94-2.06 2.06-.94-2.06-.94L8.5 2.5l-.94 2.06-2.06.94zm10 10l.94 2.06.94-2.06 2.06-.94-2.06-.94-.94-2.06-.94 2.06-2.06.94z\"/><path d=\"M17.41 7.96l-1.37-1.37c-.4-.4-.92-.59-1.43-.59-.52 0-1.04.2-1.43.59L10.3 9.45l-7.72 7.72c-.78.78-.78 2.05 0 2.83L4 21.41c.39.39.9.59 1.41.59.51 0 1.02-.2 1.41-.59l7.78-7.78 2.81-2.81c.8-.78.8-2.07 0-2.86zM5.41 20L4 18.59l7.72-7.72 1.47 1.35L5.41 20z\"/>\n",
              "  </svg>\n",
              "      </button>\n",
              "      \n",
              "  <style>\n",
              "    .colab-df-container {\n",
              "      display:flex;\n",
              "      flex-wrap:wrap;\n",
              "      gap: 12px;\n",
              "    }\n",
              "\n",
              "    .colab-df-convert {\n",
              "      background-color: #E8F0FE;\n",
              "      border: none;\n",
              "      border-radius: 50%;\n",
              "      cursor: pointer;\n",
              "      display: none;\n",
              "      fill: #1967D2;\n",
              "      height: 32px;\n",
              "      padding: 0 0 0 0;\n",
              "      width: 32px;\n",
              "    }\n",
              "\n",
              "    .colab-df-convert:hover {\n",
              "      background-color: #E2EBFA;\n",
              "      box-shadow: 0px 1px 2px rgba(60, 64, 67, 0.3), 0px 1px 3px 1px rgba(60, 64, 67, 0.15);\n",
              "      fill: #174EA6;\n",
              "    }\n",
              "\n",
              "    [theme=dark] .colab-df-convert {\n",
              "      background-color: #3B4455;\n",
              "      fill: #D2E3FC;\n",
              "    }\n",
              "\n",
              "    [theme=dark] .colab-df-convert:hover {\n",
              "      background-color: #434B5C;\n",
              "      box-shadow: 0px 1px 3px 1px rgba(0, 0, 0, 0.15);\n",
              "      filter: drop-shadow(0px 1px 2px rgba(0, 0, 0, 0.3));\n",
              "      fill: #FFFFFF;\n",
              "    }\n",
              "  </style>\n",
              "\n",
              "      <script>\n",
              "        const buttonEl =\n",
              "          document.querySelector('#df-85cfd945-3317-4fa1-ad63-4f76062e02a4 button.colab-df-convert');\n",
              "        buttonEl.style.display =\n",
              "          google.colab.kernel.accessAllowed ? 'block' : 'none';\n",
              "\n",
              "        async function convertToInteractive(key) {\n",
              "          const element = document.querySelector('#df-85cfd945-3317-4fa1-ad63-4f76062e02a4');\n",
              "          const dataTable =\n",
              "            await google.colab.kernel.invokeFunction('convertToInteractive',\n",
              "                                                     [key], {});\n",
              "          if (!dataTable) return;\n",
              "\n",
              "          const docLinkHtml = 'Like what you see? Visit the ' +\n",
              "            '<a target=\"_blank\" href=https://colab.research.google.com/notebooks/data_table.ipynb>data table notebook</a>'\n",
              "            + ' to learn more about interactive tables.';\n",
              "          element.innerHTML = '';\n",
              "          dataTable['output_type'] = 'display_data';\n",
              "          await google.colab.output.renderOutput(dataTable, element);\n",
              "          const docLink = document.createElement('div');\n",
              "          docLink.innerHTML = docLinkHtml;\n",
              "          element.appendChild(docLink);\n",
              "        }\n",
              "      </script>\n",
              "    </div>\n",
              "  </div>\n",
              "  "
            ]
          },
          "metadata": {},
          "execution_count": 18
        }
      ],
      "source": [
        "df.tail()"
      ]
    },
    {
      "cell_type": "code",
      "execution_count": null,
      "metadata": {
        "colab": {
          "base_uri": "https://localhost:8080/"
        },
        "id": "W4aDbztb1kAG",
        "outputId": "3fc8a797-9020-454c-bc8d-da69ee9c9180"
      },
      "outputs": [
        {
          "output_type": "execute_result",
          "data": {
            "text/plain": [
              "(99989, 3)"
            ]
          },
          "metadata": {},
          "execution_count": 19
        }
      ],
      "source": [
        "df.shape#is used to obtain the Dimensions or shape of a Pandas DataFrame"
      ]
    },
    {
      "cell_type": "code",
      "execution_count": null,
      "metadata": {
        "colab": {
          "base_uri": "https://localhost:8080/"
        },
        "id": "W0F0bjMi1nmA",
        "outputId": "449c3a5e-19bd-448a-8cdd-a4b2f9f91005"
      },
      "outputs": [
        {
          "output_type": "execute_result",
          "data": {
            "text/plain": [
              "<bound method IndexOpsMixin.tolist of Index(['ItemID', 'Sentiment', 'SentimentText'], dtype='object')>"
            ]
          },
          "metadata": {},
          "execution_count": 20
        }
      ],
      "source": [
        "df.columns.tolist"
      ]
    },
    {
      "cell_type": "code",
      "execution_count": null,
      "metadata": {
        "colab": {
          "base_uri": "https://localhost:8080/"
        },
        "id": "RQJycsdJ1tS5",
        "outputId": "9becabc6-6c51-4ea2-abb0-dca26d41ea88"
      },
      "outputs": [
        {
          "output_type": "execute_result",
          "data": {
            "text/plain": [
              "ItemID            int64\n",
              "Sentiment         int64\n",
              "SentimentText    object\n",
              "dtype: object"
            ]
          },
          "metadata": {},
          "execution_count": 21
        }
      ],
      "source": [
        "df.dtypes"
      ]
    },
    {
      "cell_type": "code",
      "execution_count": null,
      "metadata": {
        "id": "b5jZJSDp1wcp"
      },
      "outputs": [],
      "source": [
        "count=[]\n",
        "count.append(int(df.Sentiment.value_counts()[1]))\n",
        "count.append(int(df.Sentiment.value_counts()[0]))"
      ]
    },
    {
      "cell_type": "code",
      "execution_count": null,
      "metadata": {
        "colab": {
          "base_uri": "https://localhost:8080/"
        },
        "id": "27SjL_y710Rs",
        "outputId": "d7651f88-3078-4bf2-a046-a34da59fa6f3"
      },
      "outputs": [
        {
          "output_type": "stream",
          "name": "stdout",
          "text": [
            "[56457, 43532]\n"
          ]
        }
      ],
      "source": [
        "print(count)"
      ]
    },
    {
      "cell_type": "code",
      "execution_count": null,
      "metadata": {
        "colab": {
          "base_uri": "https://localhost:8080/",
          "height": 582
        },
        "id": "wTGQTmCc16n7",
        "outputId": "410c9584-3a0c-49c1-b540-3cfd9d66bf7a"
      },
      "outputs": [
        {
          "output_type": "display_data",
          "data": {
            "text/plain": [
              "<Figure size 640x480 with 1 Axes>"
            ],
            "image/png": "[encoded data removed]"
          },
          "metadata": {}
        }
      ],
      "source": [
        "#PRE-DATA VISULAISATION - Graphical representation of data\n",
        "fig1=plt.figure()\n",
        "axes=fig1.add_axes([0,0,1,1])\n",
        "label=['HAPPY','UNHAPPY']\n",
        "axes.bar(label,count)\n",
        "plt.xlabel(\"SENTIMENT\")\n",
        "plt.ylabel(\"COUNT\")\n",
        "plt.title(\"PRE-DATA VISUALISATION OF DATA\")\n",
        "plt.show()"
      ]
    },
    {
      "cell_type": "code",
      "execution_count": null,
      "metadata": {
        "id": "O2g8v1JO2BVu"
      },
      "outputs": [],
      "source": [
        "#DATA PREPROCESSING\n",
        "#TOKENIZATION OF TEXT\n",
        "import re\n",
        "from nltk.corpus import stopwords\n",
        "from nltk.tokenize import sent_tokenize,word_tokenize"
      ]
    },
    {
      "cell_type": "code",
      "execution_count": null,
      "metadata": {
        "id": "KJL5wL_-2NLJ"
      },
      "outputs": [],
      "source": [
        "preprocess1=[]\n",
        "for each_row in range(df.shape[0]):\n",
        "    text=df['SentimentText'].values[each_row]\n",
        "    ctext=str(text)\n",
        "    regex=re.sub('[^A-Za-z0-9!?]', ' ', ctext)\n",
        "    preprocess1.append(regex)\n",
        "df[\"Preprocessed_1\"]=preprocess1"
      ]
    },
    {
      "cell_type": "code",
      "execution_count": null,
      "metadata": {
        "colab": {
          "base_uri": "https://localhost:8080/",
          "height": 423
        },
        "id": "Dv7xapQT2Ok_",
        "outputId": "912085b6-b939-48ff-df37-e807826db590"
      },
      "outputs": [
        {
          "output_type": "execute_result",
          "data": {
            "text/plain": [
              "                                          Preprocessed_1\n",
              "0                           is so sad for my APL frie...\n",
              "1                         I missed the New Moon trail...\n",
              "2                                omg its already 7 30  O\n",
              "3                   Omgaga  Im sooo  im gunna CRy  I ...\n",
              "4               i think mi bf is cheating on me!!!   ...\n",
              "...                                                  ...\n",
              "99984   Cupcake  seems like a repeating problem   hop...\n",
              "99985   cupcake   arrrr we both replied to each other...\n",
              "99986                      CuPcAkE 2120 ya i thought so \n",
              "99987   Cupcake Dollie Yes  Yes  I m glad you had mor...\n",
              "99988                     cupcake kayla haha yes you do \n",
              "\n",
              "[99989 rows x 1 columns]"
            ],
            "text/html": [
              "\n",
              "  <div id=\"df-9fd84f94-72f8-4ff2-8b29-dd2819a06107\">\n",
              "    <div class=\"colab-df-container\">\n",
              "      <div>\n",
              "<style scoped>\n",
              "    .dataframe tbody tr th:only-of-type {\n",
              "        vertical-align: middle;\n",
              "    }\n",
              "\n",
              "    .dataframe tbody tr th {\n",
              "        vertical-align: top;\n",
              "    }\n",
              "\n",
              "    .dataframe thead th {\n",
              "        text-align: right;\n",
              "    }\n",
              "</style>\n",
              "<table border=\"1\" class=\"dataframe\">\n",
              "  <thead>\n",
              "    <tr style=\"text-align: right;\">\n",
              "      <th></th>\n",
              "      <th>Preprocessed_1</th>\n",
              "    </tr>\n",
              "  </thead>\n",
              "  <tbody>\n",
              "    <tr>\n",
              "      <th>0</th>\n",
              "      <td>is so sad for my APL frie...</td>\n",
              "    </tr>\n",
              "    <tr>\n",
              "      <th>1</th>\n",
              "      <td>I missed the New Moon trail...</td>\n",
              "    </tr>\n",
              "    <tr>\n",
              "      <th>2</th>\n",
              "      <td>omg its already 7 30  O</td>\n",
              "    </tr>\n",
              "    <tr>\n",
              "      <th>3</th>\n",
              "      <td>Omgaga  Im sooo  im gunna CRy  I ...</td>\n",
              "    </tr>\n",
              "    <tr>\n",
              "      <th>4</th>\n",
              "      <td>i think mi bf is cheating on me!!!   ...</td>\n",
              "    </tr>\n",
              "    <tr>\n",
              "      <th>...</th>\n",
              "      <td>...</td>\n",
              "    </tr>\n",
              "    <tr>\n",
              "      <th>99984</th>\n",
              "      <td>Cupcake  seems like a repeating problem   hop...</td>\n",
              "    </tr>\n",
              "    <tr>\n",
              "      <th>99985</th>\n",
              "      <td>cupcake   arrrr we both replied to each other...</td>\n",
              "    </tr>\n",
              "    <tr>\n",
              "      <th>99986</th>\n",
              "      <td>CuPcAkE 2120 ya i thought so</td>\n",
              "    </tr>\n",
              "    <tr>\n",
              "      <th>99987</th>\n",
              "      <td>Cupcake Dollie Yes  Yes  I m glad you had mor...</td>\n",
              "    </tr>\n",
              "    <tr>\n",
              "      <th>99988</th>\n",
              "      <td>cupcake kayla haha yes you do</td>\n",
              "    </tr>\n",
              "  </tbody>\n",
              "</table>\n",
              "<p>99989 rows × 1 columns</p>\n",
              "</div>\n",
              "      <button class=\"colab-df-convert\" onclick=\"convertToInteractive('df-9fd84f94-72f8-4ff2-8b29-dd2819a06107')\"\n",
              "              title=\"Convert this dataframe to an interactive table.\"\n",
              "              style=\"display:none;\">\n",
              "        \n",
              "  <svg xmlns=\"http://www.w3.org/2000/svg\" height=\"24px\"viewBox=\"0 0 24 24\"\n",
              "       width=\"24px\">\n",
              "    <path d=\"M0 0h24v24H0V0z\" fill=\"none\"/>\n",
              "    <path d=\"M18.56 5.44l.94 2.06.94-2.06 2.06-.94-2.06-.94-.94-2.06-.94 2.06-2.06.94zm-11 1L8.5 8.5l.94-2.06 2.06-.94-2.06-.94L8.5 2.5l-.94 2.06-2.06.94zm10 10l.94 2.06.94-2.06 2.06-.94-2.06-.94-.94-2.06-.94 2.06-2.06.94z\"/><path d=\"M17.41 7.96l-1.37-1.37c-.4-.4-.92-.59-1.43-.59-.52 0-1.04.2-1.43.59L10.3 9.45l-7.72 7.72c-.78.78-.78 2.05 0 2.83L4 21.41c.39.39.9.59 1.41.59.51 0 1.02-.2 1.41-.59l7.78-7.78 2.81-2.81c.8-.78.8-2.07 0-2.86zM5.41 20L4 18.59l7.72-7.72 1.47 1.35L5.41 20z\"/>\n",
              "  </svg>\n",
              "      </button>\n",
              "      \n",
              "  <style>\n",
              "    .colab-df-container {\n",
              "      display:flex;\n",
              "      flex-wrap:wrap;\n",
              "      gap: 12px;\n",
              "    }\n",
              "\n",
              "    .colab-df-convert {\n",
              "      background-color: #E8F0FE;\n",
              "      border: none;\n",
              "      border-radius: 50%;\n",
              "      cursor: pointer;\n",
              "      display: none;\n",
              "      fill: #1967D2;\n",
              "      height: 32px;\n",
              "      padding: 0 0 0 0;\n",
              "      width: 32px;\n",
              "    }\n",
              "\n",
              "    .colab-df-convert:hover {\n",
              "      background-color: #E2EBFA;\n",
              "      box-shadow: 0px 1px 2px rgba(60, 64, 67, 0.3), 0px 1px 3px 1px rgba(60, 64, 67, 0.15);\n",
              "      fill: #174EA6;\n",
              "    }\n",
              "\n",
              "    [theme=dark] .colab-df-convert {\n",
              "      background-color: #3B4455;\n",
              "      fill: #D2E3FC;\n",
              "    }\n",
              "\n",
              "    [theme=dark] .colab-df-convert:hover {\n",
              "      background-color: #434B5C;\n",
              "      box-shadow: 0px 1px 3px 1px rgba(0, 0, 0, 0.15);\n",
              "      filter: drop-shadow(0px 1px 2px rgba(0, 0, 0, 0.3));\n",
              "      fill: #FFFFFF;\n",
              "    }\n",
              "  </style>\n",
              "\n",
              "      <script>\n",
              "        const buttonEl =\n",
              "          document.querySelector('#df-9fd84f94-72f8-4ff2-8b29-dd2819a06107 button.colab-df-convert');\n",
              "        buttonEl.style.display =\n",
              "          google.colab.kernel.accessAllowed ? 'block' : 'none';\n",
              "\n",
              "        async function convertToInteractive(key) {\n",
              "          const element = document.querySelector('#df-9fd84f94-72f8-4ff2-8b29-dd2819a06107');\n",
              "          const dataTable =\n",
              "            await google.colab.kernel.invokeFunction('convertToInteractive',\n",
              "                                                     [key], {});\n",
              "          if (!dataTable) return;\n",
              "\n",
              "          const docLinkHtml = 'Like what you see? Visit the ' +\n",
              "            '<a target=\"_blank\" href=https://colab.research.google.com/notebooks/data_table.ipynb>data table notebook</a>'\n",
              "            + ' to learn more about interactive tables.';\n",
              "          element.innerHTML = '';\n",
              "          dataTable['output_type'] = 'display_data';\n",
              "          await google.colab.output.renderOutput(dataTable, element);\n",
              "          const docLink = document.createElement('div');\n",
              "          docLink.innerHTML = docLinkHtml;\n",
              "          element.appendChild(docLink);\n",
              "        }\n",
              "      </script>\n",
              "    </div>\n",
              "  </div>\n",
              "  "
            ]
          },
          "metadata": {},
          "execution_count": 26
        }
      ],
      "source": [
        "df[['Preprocessed_1']]"
      ]
    },
    {
      "cell_type": "code",
      "execution_count": null,
      "metadata": {
        "id": "MWoiW6NK3JoM"
      },
      "outputs": [],
      "source": [
        "preprocess2=[]\n",
        "for each_row in range(df.shape[0]):\n",
        "    text=df['Preprocessed_1'].values[each_row]\n",
        "    ctext_p1=str(text)\n",
        "    regex_p1=re.sub('[^A-Za-z]', ' ', ctext_p1)\n",
        "    preprocess2.append(regex_p1)\n",
        "df[\"Preprocessed_2\"]=preprocess2"
      ]
    },
    {
      "cell_type": "code",
      "execution_count": null,
      "metadata": {
        "colab": {
          "base_uri": "https://localhost:8080/",
          "height": 423
        },
        "id": "slxpNqJX3OTp",
        "outputId": "eff9617e-2670-42fd-d392-a49d81d418cb"
      },
      "outputs": [
        {
          "output_type": "execute_result",
          "data": {
            "text/plain": [
              "                                          Preprocessed_2\n",
              "0                           is so sad for my APL frie...\n",
              "1                         I missed the New Moon trail...\n",
              "2                                omg its already       O\n",
              "3                   Omgaga  Im sooo  im gunna CRy  I ...\n",
              "4               i think mi bf is cheating on me      ...\n",
              "...                                                  ...\n",
              "99984   Cupcake  seems like a repeating problem   hop...\n",
              "99985   cupcake   arrrr we both replied to each other...\n",
              "99986                      CuPcAkE      ya i thought so \n",
              "99987   Cupcake Dollie Yes  Yes  I m glad you had mor...\n",
              "99988                     cupcake kayla haha yes you do \n",
              "\n",
              "[99989 rows x 1 columns]"
            ],
            "text/html": [
              "\n",
              "  <div id=\"df-e438e72b-ac15-44a3-9958-a33198466f87\">\n",
              "    <div class=\"colab-df-container\">\n",
              "      <div>\n",
              "<style scoped>\n",
              "    .dataframe tbody tr th:only-of-type {\n",
              "        vertical-align: middle;\n",
              "    }\n",
              "\n",
              "    .dataframe tbody tr th {\n",
              "        vertical-align: top;\n",
              "    }\n",
              "\n",
              "    .dataframe thead th {\n",
              "        text-align: right;\n",
              "    }\n",
              "</style>\n",
              "<table border=\"1\" class=\"dataframe\">\n",
              "  <thead>\n",
              "    <tr style=\"text-align: right;\">\n",
              "      <th></th>\n",
              "      <th>Preprocessed_2</th>\n",
              "    </tr>\n",
              "  </thead>\n",
              "  <tbody>\n",
              "    <tr>\n",
              "      <th>0</th>\n",
              "      <td>is so sad for my APL frie...</td>\n",
              "    </tr>\n",
              "    <tr>\n",
              "      <th>1</th>\n",
              "      <td>I missed the New Moon trail...</td>\n",
              "    </tr>\n",
              "    <tr>\n",
              "      <th>2</th>\n",
              "      <td>omg its already       O</td>\n",
              "    </tr>\n",
              "    <tr>\n",
              "      <th>3</th>\n",
              "      <td>Omgaga  Im sooo  im gunna CRy  I ...</td>\n",
              "    </tr>\n",
              "    <tr>\n",
              "      <th>4</th>\n",
              "      <td>i think mi bf is cheating on me      ...</td>\n",
              "    </tr>\n",
              "    <tr>\n",
              "      <th>...</th>\n",
              "      <td>...</td>\n",
              "    </tr>\n",
              "    <tr>\n",
              "      <th>99984</th>\n",
              "      <td>Cupcake  seems like a repeating problem   hop...</td>\n",
              "    </tr>\n",
              "    <tr>\n",
              "      <th>99985</th>\n",
              "      <td>cupcake   arrrr we both replied to each other...</td>\n",
              "    </tr>\n",
              "    <tr>\n",
              "      <th>99986</th>\n",
              "      <td>CuPcAkE      ya i thought so</td>\n",
              "    </tr>\n",
              "    <tr>\n",
              "      <th>99987</th>\n",
              "      <td>Cupcake Dollie Yes  Yes  I m glad you had mor...</td>\n",
              "    </tr>\n",
              "    <tr>\n",
              "      <th>99988</th>\n",
              "      <td>cupcake kayla haha yes you do</td>\n",
              "    </tr>\n",
              "  </tbody>\n",
              "</table>\n",
              "<p>99989 rows × 1 columns</p>\n",
              "</div>\n",
              "      <button class=\"colab-df-convert\" onclick=\"convertToInteractive('df-e438e72b-ac15-44a3-9958-a33198466f87')\"\n",
              "              title=\"Convert this dataframe to an interactive table.\"\n",
              "              style=\"display:none;\">\n",
              "        \n",
              "  <svg xmlns=\"http://www.w3.org/2000/svg\" height=\"24px\"viewBox=\"0 0 24 24\"\n",
              "       width=\"24px\">\n",
              "    <path d=\"M0 0h24v24H0V0z\" fill=\"none\"/>\n",
              "    <path d=\"M18.56 5.44l.94 2.06.94-2.06 2.06-.94-2.06-.94-.94-2.06-.94 2.06-2.06.94zm-11 1L8.5 8.5l.94-2.06 2.06-.94-2.06-.94L8.5 2.5l-.94 2.06-2.06.94zm10 10l.94 2.06.94-2.06 2.06-.94-2.06-.94-.94-2.06-.94 2.06-2.06.94z\"/><path d=\"M17.41 7.96l-1.37-1.37c-.4-.4-.92-.59-1.43-.59-.52 0-1.04.2-1.43.59L10.3 9.45l-7.72 7.72c-.78.78-.78 2.05 0 2.83L4 21.41c.39.39.9.59 1.41.59.51 0 1.02-.2 1.41-.59l7.78-7.78 2.81-2.81c.8-.78.8-2.07 0-2.86zM5.41 20L4 18.59l7.72-7.72 1.47 1.35L5.41 20z\"/>\n",
              "  </svg>\n",
              "      </button>\n",
              "      \n",
              "  <style>\n",
              "    .colab-df-container {\n",
              "      display:flex;\n",
              "      flex-wrap:wrap;\n",
              "      gap: 12px;\n",
              "    }\n",
              "\n",
              "    .colab-df-convert {\n",
              "      background-color: #E8F0FE;\n",
              "      border: none;\n",
              "      border-radius: 50%;\n",
              "      cursor: pointer;\n",
              "      display: none;\n",
              "      fill: #1967D2;\n",
              "      height: 32px;\n",
              "      padding: 0 0 0 0;\n",
              "      width: 32px;\n",
              "    }\n",
              "\n",
              "    .colab-df-convert:hover {\n",
              "      background-color: #E2EBFA;\n",
              "      box-shadow: 0px 1px 2px rgba(60, 64, 67, 0.3), 0px 1px 3px 1px rgba(60, 64, 67, 0.15);\n",
              "      fill: #174EA6;\n",
              "    }\n",
              "\n",
              "    [theme=dark] .colab-df-convert {\n",
              "      background-color: #3B4455;\n",
              "      fill: #D2E3FC;\n",
              "    }\n",
              "\n",
              "    [theme=dark] .colab-df-convert:hover {\n",
              "      background-color: #434B5C;\n",
              "      box-shadow: 0px 1px 3px 1px rgba(0, 0, 0, 0.15);\n",
              "      filter: drop-shadow(0px 1px 2px rgba(0, 0, 0, 0.3));\n",
              "      fill: #FFFFFF;\n",
              "    }\n",
              "  </style>\n",
              "\n",
              "      <script>\n",
              "        const buttonEl =\n",
              "          document.querySelector('#df-e438e72b-ac15-44a3-9958-a33198466f87 button.colab-df-convert');\n",
              "        buttonEl.style.display =\n",
              "          google.colab.kernel.accessAllowed ? 'block' : 'none';\n",
              "\n",
              "        async function convertToInteractive(key) {\n",
              "          const element = document.querySelector('#df-e438e72b-ac15-44a3-9958-a33198466f87');\n",
              "          const dataTable =\n",
              "            await google.colab.kernel.invokeFunction('convertToInteractive',\n",
              "                                                     [key], {});\n",
              "          if (!dataTable) return;\n",
              "\n",
              "          const docLinkHtml = 'Like what you see? Visit the ' +\n",
              "            '<a target=\"_blank\" href=https://colab.research.google.com/notebooks/data_table.ipynb>data table notebook</a>'\n",
              "            + ' to learn more about interactive tables.';\n",
              "          element.innerHTML = '';\n",
              "          dataTable['output_type'] = 'display_data';\n",
              "          await google.colab.output.renderOutput(dataTable, element);\n",
              "          const docLink = document.createElement('div');\n",
              "          docLink.innerHTML = docLinkHtml;\n",
              "          element.appendChild(docLink);\n",
              "        }\n",
              "      </script>\n",
              "    </div>\n",
              "  </div>\n",
              "  "
            ]
          },
          "metadata": {},
          "execution_count": 28
        }
      ],
      "source": [
        "df[['Preprocessed_2']]"
      ]
    },
    {
      "cell_type": "code",
      "execution_count": null,
      "metadata": {
        "id": "Hj3xbvJ13Z73"
      },
      "outputs": [],
      "source": [
        "#no need\n",
        "preprocess3=[]\n",
        "for each_row in range(df.shape[0]):\n",
        "    text=df['Preprocessed_2'].values[each_row]\n",
        "    ctext_p2=str(text)\n",
        "    regex_p2=ctext_p2.lower()\n",
        "    preprocess3.append(regex_p2)\n",
        "df[\"Preprocessed_3\"]=preprocess3"
      ]
    },
    {
      "cell_type": "code",
      "execution_count": null,
      "metadata": {
        "colab": {
          "base_uri": "https://localhost:8080/",
          "height": 423
        },
        "id": "HBOAXaao3bRz",
        "outputId": "bc4755cd-c6f2-406d-facd-3090bcabf2b0"
      },
      "outputs": [
        {
          "output_type": "execute_result",
          "data": {
            "text/plain": [
              "                                          Preprocessed_3\n",
              "0                           is so sad for my apl frie...\n",
              "1                         i missed the new moon trail...\n",
              "2                                omg its already       o\n",
              "3                   omgaga  im sooo  im gunna cry  i ...\n",
              "4               i think mi bf is cheating on me      ...\n",
              "...                                                  ...\n",
              "99984   cupcake  seems like a repeating problem   hop...\n",
              "99985   cupcake   arrrr we both replied to each other...\n",
              "99986                      cupcake      ya i thought so \n",
              "99987   cupcake dollie yes  yes  i m glad you had mor...\n",
              "99988                     cupcake kayla haha yes you do \n",
              "\n",
              "[99989 rows x 1 columns]"
            ],
            "text/html": [
              "\n",
              "  <div id=\"df-8e9c96fc-2cbb-400a-9bab-133b954cbfea\">\n",
              "    <div class=\"colab-df-container\">\n",
              "      <div>\n",
              "<style scoped>\n",
              "    .dataframe tbody tr th:only-of-type {\n",
              "        vertical-align: middle;\n",
              "    }\n",
              "\n",
              "    .dataframe tbody tr th {\n",
              "        vertical-align: top;\n",
              "    }\n",
              "\n",
              "    .dataframe thead th {\n",
              "        text-align: right;\n",
              "    }\n",
              "</style>\n",
              "<table border=\"1\" class=\"dataframe\">\n",
              "  <thead>\n",
              "    <tr style=\"text-align: right;\">\n",
              "      <th></th>\n",
              "      <th>Preprocessed_3</th>\n",
              "    </tr>\n",
              "  </thead>\n",
              "  <tbody>\n",
              "    <tr>\n",
              "      <th>0</th>\n",
              "      <td>is so sad for my apl frie...</td>\n",
              "    </tr>\n",
              "    <tr>\n",
              "      <th>1</th>\n",
              "      <td>i missed the new moon trail...</td>\n",
              "    </tr>\n",
              "    <tr>\n",
              "      <th>2</th>\n",
              "      <td>omg its already       o</td>\n",
              "    </tr>\n",
              "    <tr>\n",
              "      <th>3</th>\n",
              "      <td>omgaga  im sooo  im gunna cry  i ...</td>\n",
              "    </tr>\n",
              "    <tr>\n",
              "      <th>4</th>\n",
              "      <td>i think mi bf is cheating on me      ...</td>\n",
              "    </tr>\n",
              "    <tr>\n",
              "      <th>...</th>\n",
              "      <td>...</td>\n",
              "    </tr>\n",
              "    <tr>\n",
              "      <th>99984</th>\n",
              "      <td>cupcake  seems like a repeating problem   hop...</td>\n",
              "    </tr>\n",
              "    <tr>\n",
              "      <th>99985</th>\n",
              "      <td>cupcake   arrrr we both replied to each other...</td>\n",
              "    </tr>\n",
              "    <tr>\n",
              "      <th>99986</th>\n",
              "      <td>cupcake      ya i thought so</td>\n",
              "    </tr>\n",
              "    <tr>\n",
              "      <th>99987</th>\n",
              "      <td>cupcake dollie yes  yes  i m glad you had mor...</td>\n",
              "    </tr>\n",
              "    <tr>\n",
              "      <th>99988</th>\n",
              "      <td>cupcake kayla haha yes you do</td>\n",
              "    </tr>\n",
              "  </tbody>\n",
              "</table>\n",
              "<p>99989 rows × 1 columns</p>\n",
              "</div>\n",
              "      <button class=\"colab-df-convert\" onclick=\"convertToInteractive('df-8e9c96fc-2cbb-400a-9bab-133b954cbfea')\"\n",
              "              title=\"Convert this dataframe to an interactive table.\"\n",
              "              style=\"display:none;\">\n",
              "        \n",
              "  <svg xmlns=\"http://www.w3.org/2000/svg\" height=\"24px\"viewBox=\"0 0 24 24\"\n",
              "       width=\"24px\">\n",
              "    <path d=\"M0 0h24v24H0V0z\" fill=\"none\"/>\n",
              "    <path d=\"M18.56 5.44l.94 2.06.94-2.06 2.06-.94-2.06-.94-.94-2.06-.94 2.06-2.06.94zm-11 1L8.5 8.5l.94-2.06 2.06-.94-2.06-.94L8.5 2.5l-.94 2.06-2.06.94zm10 10l.94 2.06.94-2.06 2.06-.94-2.06-.94-.94-2.06-.94 2.06-2.06.94z\"/><path d=\"M17.41 7.96l-1.37-1.37c-.4-.4-.92-.59-1.43-.59-.52 0-1.04.2-1.43.59L10.3 9.45l-7.72 7.72c-.78.78-.78 2.05 0 2.83L4 21.41c.39.39.9.59 1.41.59.51 0 1.02-.2 1.41-.59l7.78-7.78 2.81-2.81c.8-.78.8-2.07 0-2.86zM5.41 20L4 18.59l7.72-7.72 1.47 1.35L5.41 20z\"/>\n",
              "  </svg>\n",
              "      </button>\n",
              "      \n",
              "  <style>\n",
              "    .colab-df-container {\n",
              "      display:flex;\n",
              "      flex-wrap:wrap;\n",
              "      gap: 12px;\n",
              "    }\n",
              "\n",
              "    .colab-df-convert {\n",
              "      background-color: #E8F0FE;\n",
              "      border: none;\n",
              "      border-radius: 50%;\n",
              "      cursor: pointer;\n",
              "      display: none;\n",
              "      fill: #1967D2;\n",
              "      height: 32px;\n",
              "      padding: 0 0 0 0;\n",
              "      width: 32px;\n",
              "    }\n",
              "\n",
              "    .colab-df-convert:hover {\n",
              "      background-color: #E2EBFA;\n",
              "      box-shadow: 0px 1px 2px rgba(60, 64, 67, 0.3), 0px 1px 3px 1px rgba(60, 64, 67, 0.15);\n",
              "      fill: #174EA6;\n",
              "    }\n",
              "\n",
              "    [theme=dark] .colab-df-convert {\n",
              "      background-color: #3B4455;\n",
              "      fill: #D2E3FC;\n",
              "    }\n",
              "\n",
              "    [theme=dark] .colab-df-convert:hover {\n",
              "      background-color: #434B5C;\n",
              "      box-shadow: 0px 1px 3px 1px rgba(0, 0, 0, 0.15);\n",
              "      filter: drop-shadow(0px 1px 2px rgba(0, 0, 0, 0.3));\n",
              "      fill: #FFFFFF;\n",
              "    }\n",
              "  </style>\n",
              "\n",
              "      <script>\n",
              "        const buttonEl =\n",
              "          document.querySelector('#df-8e9c96fc-2cbb-400a-9bab-133b954cbfea button.colab-df-convert');\n",
              "        buttonEl.style.display =\n",
              "          google.colab.kernel.accessAllowed ? 'block' : 'none';\n",
              "\n",
              "        async function convertToInteractive(key) {\n",
              "          const element = document.querySelector('#df-8e9c96fc-2cbb-400a-9bab-133b954cbfea');\n",
              "          const dataTable =\n",
              "            await google.colab.kernel.invokeFunction('convertToInteractive',\n",
              "                                                     [key], {});\n",
              "          if (!dataTable) return;\n",
              "\n",
              "          const docLinkHtml = 'Like what you see? Visit the ' +\n",
              "            '<a target=\"_blank\" href=https://colab.research.google.com/notebooks/data_table.ipynb>data table notebook</a>'\n",
              "            + ' to learn more about interactive tables.';\n",
              "          element.innerHTML = '';\n",
              "          dataTable['output_type'] = 'display_data';\n",
              "          await google.colab.output.renderOutput(dataTable, element);\n",
              "          const docLink = document.createElement('div');\n",
              "          docLink.innerHTML = docLinkHtml;\n",
              "          element.appendChild(docLink);\n",
              "        }\n",
              "      </script>\n",
              "    </div>\n",
              "  </div>\n",
              "  "
            ]
          },
          "metadata": {},
          "execution_count": 30
        }
      ],
      "source": [
        "df[['Preprocessed_3']]"
      ]
    },
    {
      "cell_type": "code",
      "execution_count": null,
      "metadata": {
        "colab": {
          "base_uri": "https://localhost:8080/"
        },
        "id": "g0KFGHms3mH4",
        "outputId": "0465665f-da0b-4e19-ee0e-66bb336093d5"
      },
      "outputs": [
        {
          "output_type": "stream",
          "name": "stderr",
          "text": [
            "[nltk_data] Downloading package stopwords to /root/nltk_data...\n",
            "[nltk_data]   Package stopwords is already up-to-date!\n"
          ]
        },
        {
          "output_type": "execute_result",
          "data": {
            "text/plain": [
              "True"
            ]
          },
          "metadata": {},
          "execution_count": 31
        }
      ],
      "source": [
        "import nltk\n",
        "nltk.download('stopwords')"
      ]
    },
    {
      "cell_type": "code",
      "execution_count": null,
      "metadata": {
        "id": "GJH7EDAk3qnI"
      },
      "outputs": [],
      "source": [
        "from nltk.corpus import stopwords\n",
        "from nltk.tokenize import word_tokenize,sent_tokenize\n",
        "stopwords_list=stopwords.words('english')"
      ]
    },
    {
      "cell_type": "code",
      "execution_count": null,
      "metadata": {
        "colab": {
          "base_uri": "https://localhost:8080/"
        },
        "id": "9gDhpQBa3vm5",
        "outputId": "d6326a5f-ae19-4d23-d3f9-2e42cfc2f0b4"
      },
      "outputs": [
        {
          "output_type": "stream",
          "name": "stderr",
          "text": [
            "[nltk_data] Downloading package punkt to /root/nltk_data...\n",
            "[nltk_data]   Package punkt is already up-to-date!\n"
          ]
        },
        {
          "output_type": "execute_result",
          "data": {
            "text/plain": [
              "True"
            ]
          },
          "metadata": {},
          "execution_count": 33
        }
      ],
      "source": [
        "import nltk\n",
        "nltk.download('punkt')"
      ]
    },
    {
      "cell_type": "code",
      "execution_count": null,
      "metadata": {
        "id": "DTDIExuS32Fp"
      },
      "outputs": [],
      "source": [
        "preprocess4=[]\n",
        "for each_row in range(df.shape[0]):\n",
        "    text=df[\"Preprocessed_3\"].values[each_row]\n",
        "    tokenized_words=word_tokenize(text)\n",
        "    clean_words=[]\n",
        "    for each_word in tokenized_words:\n",
        "        if not each_word in stopwords_list:\n",
        "            clean_words.append(each_word)\n",
        "    dre=''\n",
        "    for each_data in clean_words:\n",
        "        dre=dre+str(each_data)+' '\n",
        "    preprocess4.append(dre)\n",
        "df['Preprocessed_4']=preprocess4"
      ]
    },
    {
      "cell_type": "code",
      "execution_count": null,
      "metadata": {
        "colab": {
          "base_uri": "https://localhost:8080/",
          "height": 423
        },
        "id": "gmnP_pBc38Nd",
        "outputId": "40eab808-78c0-4b03-a818-78859c8f1f97"
      },
      "outputs": [
        {
          "output_type": "execute_result",
          "data": {
            "text/plain": [
              "                                          Preprocessed_4\n",
              "0                                        sad apl friend \n",
              "1                               missed new moon trailer \n",
              "2                                           omg already \n",
              "3      omgaga im sooo im gunna cry dentist since supo...\n",
              "4                                  think mi bf cheating \n",
              "...                                                  ...\n",
              "99984  cupcake seems like repeating problem hope able...\n",
              "99985  cupcake arrrr replied different tweets time se...\n",
              "99986                                cupcake ya thought \n",
              "99987                   cupcake dollie yes yes glad fun \n",
              "99988                            cupcake kayla haha yes \n",
              "\n",
              "[99989 rows x 1 columns]"
            ],
            "text/html": [
              "\n",
              "  <div id=\"df-1c659cf3-d5c6-4171-8af7-52dbb46727cd\">\n",
              "    <div class=\"colab-df-container\">\n",
              "      <div>\n",
              "<style scoped>\n",
              "    .dataframe tbody tr th:only-of-type {\n",
              "        vertical-align: middle;\n",
              "    }\n",
              "\n",
              "    .dataframe tbody tr th {\n",
              "        vertical-align: top;\n",
              "    }\n",
              "\n",
              "    .dataframe thead th {\n",
              "        text-align: right;\n",
              "    }\n",
              "</style>\n",
              "<table border=\"1\" class=\"dataframe\">\n",
              "  <thead>\n",
              "    <tr style=\"text-align: right;\">\n",
              "      <th></th>\n",
              "      <th>Preprocessed_4</th>\n",
              "    </tr>\n",
              "  </thead>\n",
              "  <tbody>\n",
              "    <tr>\n",
              "      <th>0</th>\n",
              "      <td>sad apl friend</td>\n",
              "    </tr>\n",
              "    <tr>\n",
              "      <th>1</th>\n",
              "      <td>missed new moon trailer</td>\n",
              "    </tr>\n",
              "    <tr>\n",
              "      <th>2</th>\n",
              "      <td>omg already</td>\n",
              "    </tr>\n",
              "    <tr>\n",
              "      <th>3</th>\n",
              "      <td>omgaga im sooo im gunna cry dentist since supo...</td>\n",
              "    </tr>\n",
              "    <tr>\n",
              "      <th>4</th>\n",
              "      <td>think mi bf cheating</td>\n",
              "    </tr>\n",
              "    <tr>\n",
              "      <th>...</th>\n",
              "      <td>...</td>\n",
              "    </tr>\n",
              "    <tr>\n",
              "      <th>99984</th>\n",
              "      <td>cupcake seems like repeating problem hope able...</td>\n",
              "    </tr>\n",
              "    <tr>\n",
              "      <th>99985</th>\n",
              "      <td>cupcake arrrr replied different tweets time se...</td>\n",
              "    </tr>\n",
              "    <tr>\n",
              "      <th>99986</th>\n",
              "      <td>cupcake ya thought</td>\n",
              "    </tr>\n",
              "    <tr>\n",
              "      <th>99987</th>\n",
              "      <td>cupcake dollie yes yes glad fun</td>\n",
              "    </tr>\n",
              "    <tr>\n",
              "      <th>99988</th>\n",
              "      <td>cupcake kayla haha yes</td>\n",
              "    </tr>\n",
              "  </tbody>\n",
              "</table>\n",
              "<p>99989 rows × 1 columns</p>\n",
              "</div>\n",
              "      <button class=\"colab-df-convert\" onclick=\"convertToInteractive('df-1c659cf3-d5c6-4171-8af7-52dbb46727cd')\"\n",
              "              title=\"Convert this dataframe to an interactive table.\"\n",
              "              style=\"display:none;\">\n",
              "        \n",
              "  <svg xmlns=\"http://www.w3.org/2000/svg\" height=\"24px\"viewBox=\"0 0 24 24\"\n",
              "       width=\"24px\">\n",
              "    <path d=\"M0 0h24v24H0V0z\" fill=\"none\"/>\n",
              "    <path d=\"M18.56 5.44l.94 2.06.94-2.06 2.06-.94-2.06-.94-.94-2.06-.94 2.06-2.06.94zm-11 1L8.5 8.5l.94-2.06 2.06-.94-2.06-.94L8.5 2.5l-.94 2.06-2.06.94zm10 10l.94 2.06.94-2.06 2.06-.94-2.06-.94-.94-2.06-.94 2.06-2.06.94z\"/><path d=\"M17.41 7.96l-1.37-1.37c-.4-.4-.92-.59-1.43-.59-.52 0-1.04.2-1.43.59L10.3 9.45l-7.72 7.72c-.78.78-.78 2.05 0 2.83L4 21.41c.39.39.9.59 1.41.59.51 0 1.02-.2 1.41-.59l7.78-7.78 2.81-2.81c.8-.78.8-2.07 0-2.86zM5.41 20L4 18.59l7.72-7.72 1.47 1.35L5.41 20z\"/>\n",
              "  </svg>\n",
              "      </button>\n",
              "      \n",
              "  <style>\n",
              "    .colab-df-container {\n",
              "      display:flex;\n",
              "      flex-wrap:wrap;\n",
              "      gap: 12px;\n",
              "    }\n",
              "\n",
              "    .colab-df-convert {\n",
              "      background-color: #E8F0FE;\n",
              "      border: none;\n",
              "      border-radius: 50%;\n",
              "      cursor: pointer;\n",
              "      display: none;\n",
              "      fill: #1967D2;\n",
              "      height: 32px;\n",
              "      padding: 0 0 0 0;\n",
              "      width: 32px;\n",
              "    }\n",
              "\n",
              "    .colab-df-convert:hover {\n",
              "      background-color: #E2EBFA;\n",
              "      box-shadow: 0px 1px 2px rgba(60, 64, 67, 0.3), 0px 1px 3px 1px rgba(60, 64, 67, 0.15);\n",
              "      fill: #174EA6;\n",
              "    }\n",
              "\n",
              "    [theme=dark] .colab-df-convert {\n",
              "      background-color: #3B4455;\n",
              "      fill: #D2E3FC;\n",
              "    }\n",
              "\n",
              "    [theme=dark] .colab-df-convert:hover {\n",
              "      background-color: #434B5C;\n",
              "      box-shadow: 0px 1px 3px 1px rgba(0, 0, 0, 0.15);\n",
              "      filter: drop-shadow(0px 1px 2px rgba(0, 0, 0, 0.3));\n",
              "      fill: #FFFFFF;\n",
              "    }\n",
              "  </style>\n",
              "\n",
              "      <script>\n",
              "        const buttonEl =\n",
              "          document.querySelector('#df-1c659cf3-d5c6-4171-8af7-52dbb46727cd button.colab-df-convert');\n",
              "        buttonEl.style.display =\n",
              "          google.colab.kernel.accessAllowed ? 'block' : 'none';\n",
              "\n",
              "        async function convertToInteractive(key) {\n",
              "          const element = document.querySelector('#df-1c659cf3-d5c6-4171-8af7-52dbb46727cd');\n",
              "          const dataTable =\n",
              "            await google.colab.kernel.invokeFunction('convertToInteractive',\n",
              "                                                     [key], {});\n",
              "          if (!dataTable) return;\n",
              "\n",
              "          const docLinkHtml = 'Like what you see? Visit the ' +\n",
              "            '<a target=\"_blank\" href=https://colab.research.google.com/notebooks/data_table.ipynb>data table notebook</a>'\n",
              "            + ' to learn more about interactive tables.';\n",
              "          element.innerHTML = '';\n",
              "          dataTable['output_type'] = 'display_data';\n",
              "          await google.colab.output.renderOutput(dataTable, element);\n",
              "          const docLink = document.createElement('div');\n",
              "          docLink.innerHTML = docLinkHtml;\n",
              "          element.appendChild(docLink);\n",
              "        }\n",
              "      </script>\n",
              "    </div>\n",
              "  </div>\n",
              "  "
            ]
          },
          "metadata": {},
          "execution_count": 35
        }
      ],
      "source": [
        "df[['Preprocessed_4']]"
      ]
    },
    {
      "cell_type": "code",
      "execution_count": null,
      "metadata": {
        "id": "_Eir248R4Ea9"
      },
      "outputs": [],
      "source": [
        "from nltk.stem import WordNetLemmatizer\n",
        "lm=WordNetLemmatizer()"
      ]
    },
    {
      "cell_type": "code",
      "execution_count": null,
      "metadata": {
        "colab": {
          "base_uri": "https://localhost:8080/"
        },
        "id": "L5rNSJlw4I1M",
        "outputId": "2b4cb393-e5f4-4015-e0dc-2547de0a31e1"
      },
      "outputs": [
        {
          "output_type": "stream",
          "name": "stderr",
          "text": [
            "[nltk_data] Downloading package wordnet to /root/nltk_data...\n",
            "[nltk_data]   Package wordnet is already up-to-date!\n",
            "[nltk_data] Downloading package omw-1.4 to /root/nltk_data...\n",
            "[nltk_data]   Package omw-1.4 is already up-to-date!\n"
          ]
        },
        {
          "output_type": "execute_result",
          "data": {
            "text/plain": [
              "True"
            ]
          },
          "metadata": {},
          "execution_count": 37
        }
      ],
      "source": [
        "import nltk\n",
        "nltk.download('wordnet')\n",
        "import nltk\n",
        "nltk.download('omw-1.4')"
      ]
    },
    {
      "cell_type": "code",
      "execution_count": null,
      "metadata": {
        "id": "L0lC56oB4TEY"
      },
      "outputs": [],
      "source": [
        "preprocess_5=[]\n",
        "for each_row in range(df.shape[0]):\n",
        "    text=df['Preprocessed_4'].values[each_row]\n",
        "    tokenized_words=word_tokenize(text)\n",
        "    clean_words=[]\n",
        "    for each_word in tokenized_words:\n",
        "        clean_words.append(lm.lemmatize(each_word))\n",
        "    dre=''\n",
        "    for each_data in clean_words:\n",
        "        dre=dre+str(each_data)+' '\n",
        "    preprocess_5.append(dre)\n",
        "df['Preprocessed_5']=preprocess_5"
      ]
    },
    {
      "cell_type": "code",
      "execution_count": null,
      "metadata": {
        "colab": {
          "base_uri": "https://localhost:8080/",
          "height": 423
        },
        "id": "yk-R2LGY4W_l",
        "outputId": "e4c8e6d1-dfb5-4643-8a31-008e52b83704"
      },
      "outputs": [
        {
          "output_type": "execute_result",
          "data": {
            "text/plain": [
              "                                          Preprocessed_5\n",
              "0                                        sad apl friend \n",
              "1                               missed new moon trailer \n",
              "2                                           omg already \n",
              "3      omgaga im sooo im gunna cry dentist since supo...\n",
              "4                                  think mi bf cheating \n",
              "...                                                  ...\n",
              "99984  cupcake seems like repeating problem hope able...\n",
              "99985  cupcake arrrr replied different tweet time see...\n",
              "99986                                cupcake ya thought \n",
              "99987                   cupcake dollie yes yes glad fun \n",
              "99988                            cupcake kayla haha yes \n",
              "\n",
              "[99989 rows x 1 columns]"
            ],
            "text/html": [
              "\n",
              "  <div id=\"df-da897ddf-f15b-4e99-811a-d1b189a8f342\">\n",
              "    <div class=\"colab-df-container\">\n",
              "      <div>\n",
              "<style scoped>\n",
              "    .dataframe tbody tr th:only-of-type {\n",
              "        vertical-align: middle;\n",
              "    }\n",
              "\n",
              "    .dataframe tbody tr th {\n",
              "        vertical-align: top;\n",
              "    }\n",
              "\n",
              "    .dataframe thead th {\n",
              "        text-align: right;\n",
              "    }\n",
              "</style>\n",
              "<table border=\"1\" class=\"dataframe\">\n",
              "  <thead>\n",
              "    <tr style=\"text-align: right;\">\n",
              "      <th></th>\n",
              "      <th>Preprocessed_5</th>\n",
              "    </tr>\n",
              "  </thead>\n",
              "  <tbody>\n",
              "    <tr>\n",
              "      <th>0</th>\n",
              "      <td>sad apl friend</td>\n",
              "    </tr>\n",
              "    <tr>\n",
              "      <th>1</th>\n",
              "      <td>missed new moon trailer</td>\n",
              "    </tr>\n",
              "    <tr>\n",
              "      <th>2</th>\n",
              "      <td>omg already</td>\n",
              "    </tr>\n",
              "    <tr>\n",
              "      <th>3</th>\n",
              "      <td>omgaga im sooo im gunna cry dentist since supo...</td>\n",
              "    </tr>\n",
              "    <tr>\n",
              "      <th>4</th>\n",
              "      <td>think mi bf cheating</td>\n",
              "    </tr>\n",
              "    <tr>\n",
              "      <th>...</th>\n",
              "      <td>...</td>\n",
              "    </tr>\n",
              "    <tr>\n",
              "      <th>99984</th>\n",
              "      <td>cupcake seems like repeating problem hope able...</td>\n",
              "    </tr>\n",
              "    <tr>\n",
              "      <th>99985</th>\n",
              "      <td>cupcake arrrr replied different tweet time see...</td>\n",
              "    </tr>\n",
              "    <tr>\n",
              "      <th>99986</th>\n",
              "      <td>cupcake ya thought</td>\n",
              "    </tr>\n",
              "    <tr>\n",
              "      <th>99987</th>\n",
              "      <td>cupcake dollie yes yes glad fun</td>\n",
              "    </tr>\n",
              "    <tr>\n",
              "      <th>99988</th>\n",
              "      <td>cupcake kayla haha yes</td>\n",
              "    </tr>\n",
              "  </tbody>\n",
              "</table>\n",
              "<p>99989 rows × 1 columns</p>\n",
              "</div>\n",
              "      <button class=\"colab-df-convert\" onclick=\"convertToInteractive('df-da897ddf-f15b-4e99-811a-d1b189a8f342')\"\n",
              "              title=\"Convert this dataframe to an interactive table.\"\n",
              "              style=\"display:none;\">\n",
              "        \n",
              "  <svg xmlns=\"http://www.w3.org/2000/svg\" height=\"24px\"viewBox=\"0 0 24 24\"\n",
              "       width=\"24px\">\n",
              "    <path d=\"M0 0h24v24H0V0z\" fill=\"none\"/>\n",
              "    <path d=\"M18.56 5.44l.94 2.06.94-2.06 2.06-.94-2.06-.94-.94-2.06-.94 2.06-2.06.94zm-11 1L8.5 8.5l.94-2.06 2.06-.94-2.06-.94L8.5 2.5l-.94 2.06-2.06.94zm10 10l.94 2.06.94-2.06 2.06-.94-2.06-.94-.94-2.06-.94 2.06-2.06.94z\"/><path d=\"M17.41 7.96l-1.37-1.37c-.4-.4-.92-.59-1.43-.59-.52 0-1.04.2-1.43.59L10.3 9.45l-7.72 7.72c-.78.78-.78 2.05 0 2.83L4 21.41c.39.39.9.59 1.41.59.51 0 1.02-.2 1.41-.59l7.78-7.78 2.81-2.81c.8-.78.8-2.07 0-2.86zM5.41 20L4 18.59l7.72-7.72 1.47 1.35L5.41 20z\"/>\n",
              "  </svg>\n",
              "      </button>\n",
              "      \n",
              "  <style>\n",
              "    .colab-df-container {\n",
              "      display:flex;\n",
              "      flex-wrap:wrap;\n",
              "      gap: 12px;\n",
              "    }\n",
              "\n",
              "    .colab-df-convert {\n",
              "      background-color: #E8F0FE;\n",
              "      border: none;\n",
              "      border-radius: 50%;\n",
              "      cursor: pointer;\n",
              "      display: none;\n",
              "      fill: #1967D2;\n",
              "      height: 32px;\n",
              "      padding: 0 0 0 0;\n",
              "      width: 32px;\n",
              "    }\n",
              "\n",
              "    .colab-df-convert:hover {\n",
              "      background-color: #E2EBFA;\n",
              "      box-shadow: 0px 1px 2px rgba(60, 64, 67, 0.3), 0px 1px 3px 1px rgba(60, 64, 67, 0.15);\n",
              "      fill: #174EA6;\n",
              "    }\n",
              "\n",
              "    [theme=dark] .colab-df-convert {\n",
              "      background-color: #3B4455;\n",
              "      fill: #D2E3FC;\n",
              "    }\n",
              "\n",
              "    [theme=dark] .colab-df-convert:hover {\n",
              "      background-color: #434B5C;\n",
              "      box-shadow: 0px 1px 3px 1px rgba(0, 0, 0, 0.15);\n",
              "      filter: drop-shadow(0px 1px 2px rgba(0, 0, 0, 0.3));\n",
              "      fill: #FFFFFF;\n",
              "    }\n",
              "  </style>\n",
              "\n",
              "      <script>\n",
              "        const buttonEl =\n",
              "          document.querySelector('#df-da897ddf-f15b-4e99-811a-d1b189a8f342 button.colab-df-convert');\n",
              "        buttonEl.style.display =\n",
              "          google.colab.kernel.accessAllowed ? 'block' : 'none';\n",
              "\n",
              "        async function convertToInteractive(key) {\n",
              "          const element = document.querySelector('#df-da897ddf-f15b-4e99-811a-d1b189a8f342');\n",
              "          const dataTable =\n",
              "            await google.colab.kernel.invokeFunction('convertToInteractive',\n",
              "                                                     [key], {});\n",
              "          if (!dataTable) return;\n",
              "\n",
              "          const docLinkHtml = 'Like what you see? Visit the ' +\n",
              "            '<a target=\"_blank\" href=https://colab.research.google.com/notebooks/data_table.ipynb>data table notebook</a>'\n",
              "            + ' to learn more about interactive tables.';\n",
              "          element.innerHTML = '';\n",
              "          dataTable['output_type'] = 'display_data';\n",
              "          await google.colab.output.renderOutput(dataTable, element);\n",
              "          const docLink = document.createElement('div');\n",
              "          docLink.innerHTML = docLinkHtml;\n",
              "          element.appendChild(docLink);\n",
              "        }\n",
              "      </script>\n",
              "    </div>\n",
              "  </div>\n",
              "  "
            ]
          },
          "metadata": {},
          "execution_count": 39
        }
      ],
      "source": [
        "df[['Preprocessed_5']]"
      ]
    },
    {
      "cell_type": "code",
      "execution_count": null,
      "metadata": {
        "id": "F0xv06k74X9x"
      },
      "outputs": [],
      "source": [
        "#removing empty rows\n",
        "df=df[df['Preprocessed_5']!='']"
      ]
    },
    {
      "cell_type": "code",
      "execution_count": null,
      "metadata": {
        "colab": {
          "base_uri": "https://localhost:8080/"
        },
        "id": "QgUNjH2H4cUJ",
        "outputId": "5e802d6b-70c1-41cc-a35c-5caa12968a29"
      },
      "outputs": [
        {
          "output_type": "execute_result",
          "data": {
            "text/plain": [
              "(99957, 8)"
            ]
          },
          "metadata": {},
          "execution_count": 41
        }
      ],
      "source": [
        "df.shape"
      ]
    },
    {
      "cell_type": "code",
      "execution_count": null,
      "metadata": {
        "colab": {
          "base_uri": "https://localhost:8080/",
          "height": 423
        },
        "id": "DTG92Dw84hb4",
        "outputId": "6222497f-e4b7-4fba-e928-856a5665dec6"
      },
      "outputs": [
        {
          "output_type": "execute_result",
          "data": {
            "text/plain": [
              "                                          Preprocessed_5\n",
              "0                                        sad apl friend \n",
              "1                               missed new moon trailer \n",
              "2                                           omg already \n",
              "3      omgaga im sooo im gunna cry dentist since supo...\n",
              "4                                  think mi bf cheating \n",
              "...                                                  ...\n",
              "99984  cupcake seems like repeating problem hope able...\n",
              "99985  cupcake arrrr replied different tweet time see...\n",
              "99986                                cupcake ya thought \n",
              "99987                   cupcake dollie yes yes glad fun \n",
              "99988                            cupcake kayla haha yes \n",
              "\n",
              "[99957 rows x 1 columns]"
            ],
            "text/html": [
              "\n",
              "  <div id=\"df-60693570-26eb-4052-91b3-ee389f0e2663\">\n",
              "    <div class=\"colab-df-container\">\n",
              "      <div>\n",
              "<style scoped>\n",
              "    .dataframe tbody tr th:only-of-type {\n",
              "        vertical-align: middle;\n",
              "    }\n",
              "\n",
              "    .dataframe tbody tr th {\n",
              "        vertical-align: top;\n",
              "    }\n",
              "\n",
              "    .dataframe thead th {\n",
              "        text-align: right;\n",
              "    }\n",
              "</style>\n",
              "<table border=\"1\" class=\"dataframe\">\n",
              "  <thead>\n",
              "    <tr style=\"text-align: right;\">\n",
              "      <th></th>\n",
              "      <th>Preprocessed_5</th>\n",
              "    </tr>\n",
              "  </thead>\n",
              "  <tbody>\n",
              "    <tr>\n",
              "      <th>0</th>\n",
              "      <td>sad apl friend</td>\n",
              "    </tr>\n",
              "    <tr>\n",
              "      <th>1</th>\n",
              "      <td>missed new moon trailer</td>\n",
              "    </tr>\n",
              "    <tr>\n",
              "      <th>2</th>\n",
              "      <td>omg already</td>\n",
              "    </tr>\n",
              "    <tr>\n",
              "      <th>3</th>\n",
              "      <td>omgaga im sooo im gunna cry dentist since supo...</td>\n",
              "    </tr>\n",
              "    <tr>\n",
              "      <th>4</th>\n",
              "      <td>think mi bf cheating</td>\n",
              "    </tr>\n",
              "    <tr>\n",
              "      <th>...</th>\n",
              "      <td>...</td>\n",
              "    </tr>\n",
              "    <tr>\n",
              "      <th>99984</th>\n",
              "      <td>cupcake seems like repeating problem hope able...</td>\n",
              "    </tr>\n",
              "    <tr>\n",
              "      <th>99985</th>\n",
              "      <td>cupcake arrrr replied different tweet time see...</td>\n",
              "    </tr>\n",
              "    <tr>\n",
              "      <th>99986</th>\n",
              "      <td>cupcake ya thought</td>\n",
              "    </tr>\n",
              "    <tr>\n",
              "      <th>99987</th>\n",
              "      <td>cupcake dollie yes yes glad fun</td>\n",
              "    </tr>\n",
              "    <tr>\n",
              "      <th>99988</th>\n",
              "      <td>cupcake kayla haha yes</td>\n",
              "    </tr>\n",
              "  </tbody>\n",
              "</table>\n",
              "<p>99957 rows × 1 columns</p>\n",
              "</div>\n",
              "      <button class=\"colab-df-convert\" onclick=\"convertToInteractive('df-60693570-26eb-4052-91b3-ee389f0e2663')\"\n",
              "              title=\"Convert this dataframe to an interactive table.\"\n",
              "              style=\"display:none;\">\n",
              "        \n",
              "  <svg xmlns=\"http://www.w3.org/2000/svg\" height=\"24px\"viewBox=\"0 0 24 24\"\n",
              "       width=\"24px\">\n",
              "    <path d=\"M0 0h24v24H0V0z\" fill=\"none\"/>\n",
              "    <path d=\"M18.56 5.44l.94 2.06.94-2.06 2.06-.94-2.06-.94-.94-2.06-.94 2.06-2.06.94zm-11 1L8.5 8.5l.94-2.06 2.06-.94-2.06-.94L8.5 2.5l-.94 2.06-2.06.94zm10 10l.94 2.06.94-2.06 2.06-.94-2.06-.94-.94-2.06-.94 2.06-2.06.94z\"/><path d=\"M17.41 7.96l-1.37-1.37c-.4-.4-.92-.59-1.43-.59-.52 0-1.04.2-1.43.59L10.3 9.45l-7.72 7.72c-.78.78-.78 2.05 0 2.83L4 21.41c.39.39.9.59 1.41.59.51 0 1.02-.2 1.41-.59l7.78-7.78 2.81-2.81c.8-.78.8-2.07 0-2.86zM5.41 20L4 18.59l7.72-7.72 1.47 1.35L5.41 20z\"/>\n",
              "  </svg>\n",
              "      </button>\n",
              "      \n",
              "  <style>\n",
              "    .colab-df-container {\n",
              "      display:flex;\n",
              "      flex-wrap:wrap;\n",
              "      gap: 12px;\n",
              "    }\n",
              "\n",
              "    .colab-df-convert {\n",
              "      background-color: #E8F0FE;\n",
              "      border: none;\n",
              "      border-radius: 50%;\n",
              "      cursor: pointer;\n",
              "      display: none;\n",
              "      fill: #1967D2;\n",
              "      height: 32px;\n",
              "      padding: 0 0 0 0;\n",
              "      width: 32px;\n",
              "    }\n",
              "\n",
              "    .colab-df-convert:hover {\n",
              "      background-color: #E2EBFA;\n",
              "      box-shadow: 0px 1px 2px rgba(60, 64, 67, 0.3), 0px 1px 3px 1px rgba(60, 64, 67, 0.15);\n",
              "      fill: #174EA6;\n",
              "    }\n",
              "\n",
              "    [theme=dark] .colab-df-convert {\n",
              "      background-color: #3B4455;\n",
              "      fill: #D2E3FC;\n",
              "    }\n",
              "\n",
              "    [theme=dark] .colab-df-convert:hover {\n",
              "      background-color: #434B5C;\n",
              "      box-shadow: 0px 1px 3px 1px rgba(0, 0, 0, 0.15);\n",
              "      filter: drop-shadow(0px 1px 2px rgba(0, 0, 0, 0.3));\n",
              "      fill: #FFFFFF;\n",
              "    }\n",
              "  </style>\n",
              "\n",
              "      <script>\n",
              "        const buttonEl =\n",
              "          document.querySelector('#df-60693570-26eb-4052-91b3-ee389f0e2663 button.colab-df-convert');\n",
              "        buttonEl.style.display =\n",
              "          google.colab.kernel.accessAllowed ? 'block' : 'none';\n",
              "\n",
              "        async function convertToInteractive(key) {\n",
              "          const element = document.querySelector('#df-60693570-26eb-4052-91b3-ee389f0e2663');\n",
              "          const dataTable =\n",
              "            await google.colab.kernel.invokeFunction('convertToInteractive',\n",
              "                                                     [key], {});\n",
              "          if (!dataTable) return;\n",
              "\n",
              "          const docLinkHtml = 'Like what you see? Visit the ' +\n",
              "            '<a target=\"_blank\" href=https://colab.research.google.com/notebooks/data_table.ipynb>data table notebook</a>'\n",
              "            + ' to learn more about interactive tables.';\n",
              "          element.innerHTML = '';\n",
              "          dataTable['output_type'] = 'display_data';\n",
              "          await google.colab.output.renderOutput(dataTable, element);\n",
              "          const docLink = document.createElement('div');\n",
              "          docLink.innerHTML = docLinkHtml;\n",
              "          element.appendChild(docLink);\n",
              "        }\n",
              "      </script>\n",
              "    </div>\n",
              "  </div>\n",
              "  "
            ]
          },
          "metadata": {},
          "execution_count": 42
        }
      ],
      "source": [
        "df[['Preprocessed_5']]"
      ]
    },
    {
      "cell_type": "code",
      "execution_count": null,
      "metadata": {
        "id": "q4mHMG0Y4qvD"
      },
      "outputs": [],
      "source": [
        "per=list()\n",
        "df2 = pd.DataFrame()\n",
        "df2['Clean Tweets']=df['Preprocessed_5']\n",
        "df2['Sentiment']=df['Sentiment']"
      ]
    },
    {
      "cell_type": "code",
      "execution_count": null,
      "metadata": {
        "colab": {
          "base_uri": "https://localhost:8080/",
          "height": 423
        },
        "id": "Vet2zXt54sKU",
        "outputId": "0a75d6bc-b14a-46a9-d268-d65cab5bf433"
      },
      "outputs": [
        {
          "output_type": "execute_result",
          "data": {
            "text/plain": [
              "                                            Clean Tweets  Sentiment\n",
              "0                                        sad apl friend           0\n",
              "1                               missed new moon trailer           0\n",
              "2                                           omg already           1\n",
              "3      omgaga im sooo im gunna cry dentist since supo...          0\n",
              "4                                  think mi bf cheating           0\n",
              "...                                                  ...        ...\n",
              "99984  cupcake seems like repeating problem hope able...          0\n",
              "99985  cupcake arrrr replied different tweet time see...          1\n",
              "99986                                cupcake ya thought           0\n",
              "99987                   cupcake dollie yes yes glad fun           1\n",
              "99988                            cupcake kayla haha yes           1\n",
              "\n",
              "[99957 rows x 2 columns]"
            ],
            "text/html": [
              "\n",
              "  <div id=\"df-2b949942-f3e8-4317-8f30-01c42e99f3c7\">\n",
              "    <div class=\"colab-df-container\">\n",
              "      <div>\n",
              "<style scoped>\n",
              "    .dataframe tbody tr th:only-of-type {\n",
              "        vertical-align: middle;\n",
              "    }\n",
              "\n",
              "    .dataframe tbody tr th {\n",
              "        vertical-align: top;\n",
              "    }\n",
              "\n",
              "    .dataframe thead th {\n",
              "        text-align: right;\n",
              "    }\n",
              "</style>\n",
              "<table border=\"1\" class=\"dataframe\">\n",
              "  <thead>\n",
              "    <tr style=\"text-align: right;\">\n",
              "      <th></th>\n",
              "      <th>Clean Tweets</th>\n",
              "      <th>Sentiment</th>\n",
              "    </tr>\n",
              "  </thead>\n",
              "  <tbody>\n",
              "    <tr>\n",
              "      <th>0</th>\n",
              "      <td>sad apl friend</td>\n",
              "      <td>0</td>\n",
              "    </tr>\n",
              "    <tr>\n",
              "      <th>1</th>\n",
              "      <td>missed new moon trailer</td>\n",
              "      <td>0</td>\n",
              "    </tr>\n",
              "    <tr>\n",
              "      <th>2</th>\n",
              "      <td>omg already</td>\n",
              "      <td>1</td>\n",
              "    </tr>\n",
              "    <tr>\n",
              "      <th>3</th>\n",
              "      <td>omgaga im sooo im gunna cry dentist since supo...</td>\n",
              "      <td>0</td>\n",
              "    </tr>\n",
              "    <tr>\n",
              "      <th>4</th>\n",
              "      <td>think mi bf cheating</td>\n",
              "      <td>0</td>\n",
              "    </tr>\n",
              "    <tr>\n",
              "      <th>...</th>\n",
              "      <td>...</td>\n",
              "      <td>...</td>\n",
              "    </tr>\n",
              "    <tr>\n",
              "      <th>99984</th>\n",
              "      <td>cupcake seems like repeating problem hope able...</td>\n",
              "      <td>0</td>\n",
              "    </tr>\n",
              "    <tr>\n",
              "      <th>99985</th>\n",
              "      <td>cupcake arrrr replied different tweet time see...</td>\n",
              "      <td>1</td>\n",
              "    </tr>\n",
              "    <tr>\n",
              "      <th>99986</th>\n",
              "      <td>cupcake ya thought</td>\n",
              "      <td>0</td>\n",
              "    </tr>\n",
              "    <tr>\n",
              "      <th>99987</th>\n",
              "      <td>cupcake dollie yes yes glad fun</td>\n",
              "      <td>1</td>\n",
              "    </tr>\n",
              "    <tr>\n",
              "      <th>99988</th>\n",
              "      <td>cupcake kayla haha yes</td>\n",
              "      <td>1</td>\n",
              "    </tr>\n",
              "  </tbody>\n",
              "</table>\n",
              "<p>99957 rows × 2 columns</p>\n",
              "</div>\n",
              "      <button class=\"colab-df-convert\" onclick=\"convertToInteractive('df-2b949942-f3e8-4317-8f30-01c42e99f3c7')\"\n",
              "              title=\"Convert this dataframe to an interactive table.\"\n",
              "              style=\"display:none;\">\n",
              "        \n",
              "  <svg xmlns=\"http://www.w3.org/2000/svg\" height=\"24px\"viewBox=\"0 0 24 24\"\n",
              "       width=\"24px\">\n",
              "    <path d=\"M0 0h24v24H0V0z\" fill=\"none\"/>\n",
              "    <path d=\"M18.56 5.44l.94 2.06.94-2.06 2.06-.94-2.06-.94-.94-2.06-.94 2.06-2.06.94zm-11 1L8.5 8.5l.94-2.06 2.06-.94-2.06-.94L8.5 2.5l-.94 2.06-2.06.94zm10 10l.94 2.06.94-2.06 2.06-.94-2.06-.94-.94-2.06-.94 2.06-2.06.94z\"/><path d=\"M17.41 7.96l-1.37-1.37c-.4-.4-.92-.59-1.43-.59-.52 0-1.04.2-1.43.59L10.3 9.45l-7.72 7.72c-.78.78-.78 2.05 0 2.83L4 21.41c.39.39.9.59 1.41.59.51 0 1.02-.2 1.41-.59l7.78-7.78 2.81-2.81c.8-.78.8-2.07 0-2.86zM5.41 20L4 18.59l7.72-7.72 1.47 1.35L5.41 20z\"/>\n",
              "  </svg>\n",
              "      </button>\n",
              "      \n",
              "  <style>\n",
              "    .colab-df-container {\n",
              "      display:flex;\n",
              "      flex-wrap:wrap;\n",
              "      gap: 12px;\n",
              "    }\n",
              "\n",
              "    .colab-df-convert {\n",
              "      background-color: #E8F0FE;\n",
              "      border: none;\n",
              "      border-radius: 50%;\n",
              "      cursor: pointer;\n",
              "      display: none;\n",
              "      fill: #1967D2;\n",
              "      height: 32px;\n",
              "      padding: 0 0 0 0;\n",
              "      width: 32px;\n",
              "    }\n",
              "\n",
              "    .colab-df-convert:hover {\n",
              "      background-color: #E2EBFA;\n",
              "      box-shadow: 0px 1px 2px rgba(60, 64, 67, 0.3), 0px 1px 3px 1px rgba(60, 64, 67, 0.15);\n",
              "      fill: #174EA6;\n",
              "    }\n",
              "\n",
              "    [theme=dark] .colab-df-convert {\n",
              "      background-color: #3B4455;\n",
              "      fill: #D2E3FC;\n",
              "    }\n",
              "\n",
              "    [theme=dark] .colab-df-convert:hover {\n",
              "      background-color: #434B5C;\n",
              "      box-shadow: 0px 1px 3px 1px rgba(0, 0, 0, 0.15);\n",
              "      filter: drop-shadow(0px 1px 2px rgba(0, 0, 0, 0.3));\n",
              "      fill: #FFFFFF;\n",
              "    }\n",
              "  </style>\n",
              "\n",
              "      <script>\n",
              "        const buttonEl =\n",
              "          document.querySelector('#df-2b949942-f3e8-4317-8f30-01c42e99f3c7 button.colab-df-convert');\n",
              "        buttonEl.style.display =\n",
              "          google.colab.kernel.accessAllowed ? 'block' : 'none';\n",
              "\n",
              "        async function convertToInteractive(key) {\n",
              "          const element = document.querySelector('#df-2b949942-f3e8-4317-8f30-01c42e99f3c7');\n",
              "          const dataTable =\n",
              "            await google.colab.kernel.invokeFunction('convertToInteractive',\n",
              "                                                     [key], {});\n",
              "          if (!dataTable) return;\n",
              "\n",
              "          const docLinkHtml = 'Like what you see? Visit the ' +\n",
              "            '<a target=\"_blank\" href=https://colab.research.google.com/notebooks/data_table.ipynb>data table notebook</a>'\n",
              "            + ' to learn more about interactive tables.';\n",
              "          element.innerHTML = '';\n",
              "          dataTable['output_type'] = 'display_data';\n",
              "          await google.colab.output.renderOutput(dataTable, element);\n",
              "          const docLink = document.createElement('div');\n",
              "          docLink.innerHTML = docLinkHtml;\n",
              "          element.appendChild(docLink);\n",
              "        }\n",
              "      </script>\n",
              "    </div>\n",
              "  </div>\n",
              "  "
            ]
          },
          "metadata": {},
          "execution_count": 44
        }
      ],
      "source": [
        "df2"
      ]
    },
    {
      "cell_type": "code",
      "execution_count": null,
      "metadata": {
        "colab": {
          "base_uri": "https://localhost:8080/"
        },
        "id": "ze_zZ1-y4vty",
        "outputId": "ad2a43b7-182f-4ade-90e5-5edc2bbe3f23"
      },
      "outputs": [
        {
          "output_type": "stream",
          "name": "stdout",
          "text": [
            "Looking in indexes: https://pypi.org/simple, https://us-python.pkg.dev/colab-wheels/public/simple/\n",
            "Requirement already satisfied: sklearn in /usr/local/lib/python3.10/dist-packages (0.0.post4)\n"
          ]
        }
      ],
      "source": [
        "!pip install sklearn"
      ]
    },
    {
      "cell_type": "code",
      "execution_count": null,
      "metadata": {
        "id": "2RL89CO8401T"
      },
      "outputs": [],
      "source": [
        "#FEATURE EXTRACTION - Mapping from textual data into real valued vectors for making compatible with model\n",
        "from sklearn.feature_extraction.text import TfidfVectorizer\n",
        "vectorizer=TfidfVectorizer()        #Loading tfidf function to our variable"
      ]
    },
    {
      "cell_type": "code",
      "execution_count": null,
      "metadata": {
        "colab": {
          "base_uri": "https://localhost:8080/"
        },
        "id": "OKPcFJKR466A",
        "outputId": "0b68e494-918e-4e8d-fa94-261e823764ea"
      },
      "outputs": [
        {
          "output_type": "stream",
          "name": "stdout",
          "text": [
            "  (0, 77827)\t0.3785826629963296\n",
            "  (0, 53559)\t0.3951112112588359\n",
            "  (0, 13989)\t0.8369959964158628\n"
          ]
        }
      ],
      "source": [
        "#Fitting and transforming the vectorizer to our data\n",
        "x=df2['Clean Tweets']\n",
        "# print(df2)\n",
        "vectorizer.fit(x)\n",
        "\n",
        "x=vectorizer.transform(x)\n",
        "print(x[0])   #Transforming all the text data and gives corresponding tf-idf value"
      ]
    },
    {
      "cell_type": "code",
      "execution_count": null,
      "metadata": {
        "id": "zD-TflFo5Frh"
      },
      "outputs": [],
      "source": [
        "from sklearn.model_selection import train_test_split"
      ]
    },
    {
      "cell_type": "code",
      "execution_count": null,
      "metadata": {
        "id": "Hi5oQqe0t8Sr"
      },
      "outputs": [],
      "source": [
        "from sklearn.model_selection import cross_validate\n",
        "def cross_validation(model, _X, _y, _cv=5):\n",
        "      _scoring = ['accuracy', 'precision', 'recall', 'f1']\n",
        "      results = cross_validate(estimator=model,\n",
        "                               X=_X,\n",
        "                               y=_y,\n",
        "                               cv=_cv,\n",
        "                               scoring=_scoring,\n",
        "                               return_train_score=True)\n",
        ""
      ]
    },
    {
      "cell_type": "code",
      "execution_count": null,
      "metadata": {
        "id": "B8GW2Gln5L0e"
      },
      "outputs": [],
      "source": [
        "x_train,x_test,y_train,y_test=train_test_split(x,df2['Sentiment'],test_size=0.20,train_size=0.80)"
      ]
    },
    {
      "cell_type": "code",
      "execution_count": null,
      "metadata": {
        "colab": {
          "base_uri": "https://localhost:8080/"
        },
        "id": "kRc5hoGF5S_o",
        "outputId": "7d50c4f0-fcda-4ae9-faf4-bf0b24383318"
      },
      "outputs": [
        {
          "output_type": "execute_result",
          "data": {
            "text/plain": [
              "(79965, 92259)"
            ]
          },
          "metadata": {},
          "execution_count": 40
        }
      ],
      "source": [
        "x_train.shape"
      ]
    },
    {
      "cell_type": "code",
      "execution_count": null,
      "metadata": {
        "colab": {
          "base_uri": "https://localhost:8080/"
        },
        "id": "GcKOcrGe5voC",
        "outputId": "d1c3c317-bfdf-40a2-e00b-24c976b70db5"
      },
      "outputs": [
        {
          "output_type": "execute_result",
          "data": {
            "text/plain": [
              "(19992, 92259)"
            ]
          },
          "metadata": {},
          "execution_count": 41
        }
      ],
      "source": [
        "x_test.shape"
      ]
    },
    {
      "cell_type": "code",
      "execution_count": null,
      "metadata": {
        "colab": {
          "base_uri": "https://localhost:8080/"
        },
        "id": "fXj5qp785wuH",
        "outputId": "63973496-7ae6-4067-bec7-aca5a3b35779"
      },
      "outputs": [
        {
          "output_type": "execute_result",
          "data": {
            "text/plain": [
              "(79965,)"
            ]
          },
          "metadata": {},
          "execution_count": 42
        }
      ],
      "source": [
        "y_train.shape"
      ]
    },
    {
      "cell_type": "code",
      "execution_count": null,
      "metadata": {
        "colab": {
          "base_uri": "https://localhost:8080/"
        },
        "id": "ceZdrEoC5y7s",
        "outputId": "e3e48ad6-1783-4c3a-ef52-c586b97fb127"
      },
      "outputs": [
        {
          "output_type": "execute_result",
          "data": {
            "text/plain": [
              "(19992,)"
            ]
          },
          "metadata": {},
          "execution_count": 43
        }
      ],
      "source": [
        "y_test.shape"
      ]
    },
    {
      "cell_type": "code",
      "execution_count": null,
      "metadata": {
        "id": "mSy4Fouc5W_B"
      },
      "outputs": [],
      "source": [
        "from sklearn.metrics import accuracy_score\n",
        "from sklearn.metrics import precision_score\n",
        "from sklearn.metrics import recall_score\n",
        "from sklearn.metrics import f1_score"
      ]
    },
    {
      "cell_type": "code",
      "execution_count": null,
      "metadata": {
        "id": "n_3atmnd56Hf"
      },
      "outputs": [],
      "source": [
        "import functools\n",
        "import sys\n",
        "import matplotlib.pyplot as plt\n",
        "import numpy as np"
      ]
    },
    {
      "cell_type": "markdown",
      "metadata": {
        "id": "wP7QGzw_6Xy4"
      },
      "source": [
        "LOGISTIC REGRESSION"
      ]
    },
    {
      "cell_type": "code",
      "execution_count": null,
      "metadata": {
        "id": "wXUgXy8B6b5X"
      },
      "outputs": [],
      "source": [
        "#LOGISTIC REGRESSION\n",
        "import warnings\n",
        "warnings.filterwarnings(\"ignore\")\n",
        "from sklearn.linear_model import LogisticRegression\n",
        "lrc=LogisticRegression()\n",
        "linear_model_result = cross_validation(lrc,x_train,y_train, 5)"
      ]
    },
    {
      "cell_type": "code",
      "execution_count": null,
      "metadata": {
        "colab": {
          "base_uri": "https://localhost:8080/",
          "height": 74
        },
        "id": "SyuuIomt59f-",
        "outputId": "f95e3db0-75ef-438f-e0c5-bd1952b3d387"
      },
      "outputs": [
        {
          "output_type": "execute_result",
          "data": {
            "text/plain": [
              "LogisticRegression()"
            ],
            "text/html": [
              "<style>#sk-container-id-1 {color: black;background-color: white;}#sk-container-id-1 pre{padding: 0;}#sk-container-id-1 div.sk-toggleable {background-color: white;}#sk-container-id-1 label.sk-toggleable__label {cursor: pointer;display: block;width: 100%;margin-bottom: 0;padding: 0.3em;box-sizing: border-box;text-align: center;}#sk-container-id-1 label.sk-toggleable__label-arrow:before {content: \"▸\";float: left;margin-right: 0.25em;color: #696969;}#sk-container-id-1 label.sk-toggleable__label-arrow:hover:before {color: black;}#sk-container-id-1 div.sk-estimator:hover label.sk-toggleable__label-arrow:before {color: black;}#sk-container-id-1 div.sk-toggleable__content {max-height: 0;max-width: 0;overflow: hidden;text-align: left;background-color: #f0f8ff;}#sk-container-id-1 div.sk-toggleable__content pre {margin: 0.2em;color: black;border-radius: 0.25em;background-color: #f0f8ff;}#sk-container-id-1 input.sk-toggleable__control:checked~div.sk-toggleable__content {max-height: 200px;max-width: 100%;overflow: auto;}#sk-container-id-1 input.sk-toggleable__control:checked~label.sk-toggleable__label-arrow:before {content: \"▾\";}#sk-container-id-1 div.sk-estimator input.sk-toggleable__control:checked~label.sk-toggleable__label {background-color: #d4ebff;}#sk-container-id-1 div.sk-label input.sk-toggleable__control:checked~label.sk-toggleable__label {background-color: #d4ebff;}#sk-container-id-1 input.sk-hidden--visually {border: 0;clip: rect(1px 1px 1px 1px);clip: rect(1px, 1px, 1px, 1px);height: 1px;margin: -1px;overflow: hidden;padding: 0;position: absolute;width: 1px;}#sk-container-id-1 div.sk-estimator {font-family: monospace;background-color: #f0f8ff;border: 1px dotted black;border-radius: 0.25em;box-sizing: border-box;margin-bottom: 0.5em;}#sk-container-id-1 div.sk-estimator:hover {background-color: #d4ebff;}#sk-container-id-1 div.sk-parallel-item::after {content: \"\";width: 100%;border-bottom: 1px solid gray;flex-grow: 1;}#sk-container-id-1 div.sk-label:hover label.sk-toggleable__label {background-color: #d4ebff;}#sk-container-id-1 div.sk-serial::before {content: \"\";position: absolute;border-left: 1px solid gray;box-sizing: border-box;top: 0;bottom: 0;left: 50%;z-index: 0;}#sk-container-id-1 div.sk-serial {display: flex;flex-direction: column;align-items: center;background-color: white;padding-right: 0.2em;padding-left: 0.2em;position: relative;}#sk-container-id-1 div.sk-item {position: relative;z-index: 1;}#sk-container-id-1 div.sk-parallel {display: flex;align-items: stretch;justify-content: center;background-color: white;position: relative;}#sk-container-id-1 div.sk-item::before, #sk-container-id-1 div.sk-parallel-item::before {content: \"\";position: absolute;border-left: 1px solid gray;box-sizing: border-box;top: 0;bottom: 0;left: 50%;z-index: -1;}#sk-container-id-1 div.sk-parallel-item {display: flex;flex-direction: column;z-index: 1;position: relative;background-color: white;}#sk-container-id-1 div.sk-parallel-item:first-child::after {align-self: flex-end;width: 50%;}#sk-container-id-1 div.sk-parallel-item:last-child::after {align-self: flex-start;width: 50%;}#sk-container-id-1 div.sk-parallel-item:only-child::after {width: 0;}#sk-container-id-1 div.sk-dashed-wrapped {border: 1px dashed gray;margin: 0 0.4em 0.5em 0.4em;box-sizing: border-box;padding-bottom: 0.4em;background-color: white;}#sk-container-id-1 div.sk-label label {font-family: monospace;font-weight: bold;display: inline-block;line-height: 1.2em;}#sk-container-id-1 div.sk-label-container {text-align: center;}#sk-container-id-1 div.sk-container {/* jupyter's `normalize.less` sets `[hidden] { display: none; }` but bootstrap.min.css set `[hidden] { display: none !important; }` so we also need the `!important` here to be able to override the default hidden behavior on the sphinx rendered scikit-learn.org. See: https://github.com/scikit-learn/scikit-learn/issues/21755 */display: inline-block !important;position: relative;}#sk-container-id-1 div.sk-text-repr-fallback {display: none;}</style><div id=\"sk-container-id-1\" class=\"sk-top-container\"><div class=\"sk-text-repr-fallback\"><pre>LogisticRegression()</pre><b>In a Jupyter environment, please rerun this cell to show the HTML representation or trust the notebook. <br />On GitHub, the HTML representation is unable to render, please try loading this page with nbviewer.org.</b></div><div class=\"sk-container\" hidden><div class=\"sk-item\"><div class=\"sk-estimator sk-toggleable\"><input class=\"sk-toggleable__control sk-hidden--visually\" id=\"sk-estimator-id-1\" type=\"checkbox\" checked><label for=\"sk-estimator-id-1\" class=\"sk-toggleable__label sk-toggleable__label-arrow\">LogisticRegression</label><div class=\"sk-toggleable__content\"><pre>LogisticRegression()</pre></div></div></div></div></div>"
            ]
          },
          "metadata": {},
          "execution_count": 54
        }
      ],
      "source": [
        "lrc.fit(x_train,y_train)"
      ]
    },
    {
      "cell_type": "code",
      "execution_count": null,
      "metadata": {
        "id": "txe_ZvHc6sSq"
      },
      "outputs": [],
      "source": [
        "y_pred2=lrc.predict(x_test)"
      ]
    },
    {
      "cell_type": "code",
      "execution_count": null,
      "metadata": {
        "id": "6JqjP3Z56tYA"
      },
      "outputs": [],
      "source": [
        "lrc1=accuracy_score(y_pred2,y_test)\n",
        "lrc2=precision_score(y_pred2,y_test)\n",
        "lrc3=recall_score(y_pred2,y_test)\n",
        "lrc4=f1_score(y_pred2,y_test)"
      ]
    },
    {
      "cell_type": "code",
      "execution_count": null,
      "metadata": {
        "colab": {
          "base_uri": "https://localhost:8080/",
          "height": 466
        },
        "id": "jVcqJgMf-7AT",
        "outputId": "e88cab4e-a5c5-4476-c4a2-fe97be9092ac"
      },
      "outputs": [
        {
          "output_type": "display_data",
          "data": {
            "text/plain": [
              "<Figure size 640x480 with 1 Axes>"
            ],
            "image/png": "[encoded data removed]"
          },
          "metadata": {}
        }
      ],
      "source": [
        "g=pd.DataFrame({'Accuracy_Score':[lrc1],'Precision_Score':[lrc2],'Recall_Score':[lrc3],'F1_Score':[lrc4]})\n",
        "g.plot(kind='bar')\n",
        "plt.xlabel('Logistic Regression')\n",
        "plt.ylabel('Percentage')\n",
        "plt.title('Metrics Representation ')\n",
        "plt.show()"
      ]
    },
    {
      "cell_type": "markdown",
      "metadata": {
        "id": "pxcw5uoNzvqR"
      },
      "source": [
        "Gradient Boost Machine"
      ]
    },
    {
      "cell_type": "code",
      "execution_count": null,
      "metadata": {
        "id": "V2vr6Tvr7G40"
      },
      "outputs": [],
      "source": [
        "from xgboost import XGBClassifier\n",
        "classifier_xg = XGBClassifier()\n",
        "linear_model_result = cross_validation(classifier_xg,x_train,y_train, 5)\n",
        "classifier_xg.fit(x_train, y_train)\n",
        "\n",
        "y_pred_xg = classifier_xg.predict(x_test)\n",
        "xgb1=accuracy_score(y_pred_xg,y_test)\n",
        "xgb2=precision_score(y_pred_xg,y_test)\n",
        "xgb3=recall_score(y_pred_xg,y_test)\n",
        "xgb4=f1_score(y_pred_xg,y_test)"
      ]
    },
    {
      "cell_type": "code",
      "execution_count": null,
      "metadata": {
        "colab": {
          "base_uri": "https://localhost:8080/",
          "height": 466
        },
        "id": "lThu-x5uBBMQ",
        "outputId": "85ed6cf7-ee0d-48b9-91d2-686ecb296b1c"
      },
      "outputs": [
        {
          "output_type": "display_data",
          "data": {
            "text/plain": [
              "<Figure size 640x480 with 1 Axes>"
            ],
            "image/png": "[encoded data removed]"
          },
          "metadata": {}
        }
      ],
      "source": [
        "g=pd.DataFrame({'Accuracy_Score':[xgb1],'Precision_Score':[xgb2],'Recall_Score':[xgb3],'F1_Score':[xgb4]})\n",
        "g.plot(kind='bar')\n",
        "plt.xlabel('Gradient Boost Machine')\n",
        "plt.ylabel('Percentage')\n",
        "plt.title('Metrics Representation ')\n",
        "plt.show()"
      ]
    },
    {
      "cell_type": "code",
      "execution_count": null,
      "metadata": {
        "id": "dzS4VFUx7NCH"
      },
      "outputs": [],
      "source": [
        "import keras.models"
      ]
    },
    {
      "cell_type": "code",
      "execution_count": null,
      "metadata": {
        "id": "uAAZ7vV57To2"
      },
      "outputs": [],
      "source": [
        "import pickle"
      ]
    },
    {
      "cell_type": "code",
      "execution_count": null,
      "metadata": {
        "id": "FP7L9sy57UJl"
      },
      "outputs": [],
      "source": [
        "with open('/content/drive/MyDrive/mini_project/model.pkl', 'wb') as files:\n",
        "    pickle.dump(lrc, files)"
      ]
    },
    {
      "cell_type": "markdown",
      "metadata": {
        "id": "7j54xwm_7gWZ"
      },
      "source": [
        "NAIVE BAYES"
      ]
    },
    {
      "cell_type": "code",
      "execution_count": null,
      "metadata": {
        "id": "ZH1Mnz-_7iwz"
      },
      "outputs": [],
      "source": [
        "#NAIVEBayes\n",
        "from sklearn.naive_bayes import MultinomialNB\n",
        "nb=MultinomialNB()\n",
        "linear_model_result = cross_validation(nb,x_train,y_train, 5)"
      ]
    },
    {
      "cell_type": "code",
      "execution_count": null,
      "metadata": {
        "colab": {
          "base_uri": "https://localhost:8080/",
          "height": 74
        },
        "id": "512nnM217obw",
        "outputId": "6e9543d3-2247-4285-964e-8b6530f7adea"
      },
      "outputs": [
        {
          "output_type": "execute_result",
          "data": {
            "text/plain": [
              "MultinomialNB()"
            ],
            "text/html": [
              "<style>#sk-container-id-2 {color: black;background-color: white;}#sk-container-id-2 pre{padding: 0;}#sk-container-id-2 div.sk-toggleable {background-color: white;}#sk-container-id-2 label.sk-toggleable__label {cursor: pointer;display: block;width: 100%;margin-bottom: 0;padding: 0.3em;box-sizing: border-box;text-align: center;}#sk-container-id-2 label.sk-toggleable__label-arrow:before {content: \"▸\";float: left;margin-right: 0.25em;color: #696969;}#sk-container-id-2 label.sk-toggleable__label-arrow:hover:before {color: black;}#sk-container-id-2 div.sk-estimator:hover label.sk-toggleable__label-arrow:before {color: black;}#sk-container-id-2 div.sk-toggleable__content {max-height: 0;max-width: 0;overflow: hidden;text-align: left;background-color: #f0f8ff;}#sk-container-id-2 div.sk-toggleable__content pre {margin: 0.2em;color: black;border-radius: 0.25em;background-color: #f0f8ff;}#sk-container-id-2 input.sk-toggleable__control:checked~div.sk-toggleable__content {max-height: 200px;max-width: 100%;overflow: auto;}#sk-container-id-2 input.sk-toggleable__control:checked~label.sk-toggleable__label-arrow:before {content: \"▾\";}#sk-container-id-2 div.sk-estimator input.sk-toggleable__control:checked~label.sk-toggleable__label {background-color: #d4ebff;}#sk-container-id-2 div.sk-label input.sk-toggleable__control:checked~label.sk-toggleable__label {background-color: #d4ebff;}#sk-container-id-2 input.sk-hidden--visually {border: 0;clip: rect(1px 1px 1px 1px);clip: rect(1px, 1px, 1px, 1px);height: 1px;margin: -1px;overflow: hidden;padding: 0;position: absolute;width: 1px;}#sk-container-id-2 div.sk-estimator {font-family: monospace;background-color: #f0f8ff;border: 1px dotted black;border-radius: 0.25em;box-sizing: border-box;margin-bottom: 0.5em;}#sk-container-id-2 div.sk-estimator:hover {background-color: #d4ebff;}#sk-container-id-2 div.sk-parallel-item::after {content: \"\";width: 100%;border-bottom: 1px solid gray;flex-grow: 1;}#sk-container-id-2 div.sk-label:hover label.sk-toggleable__label {background-color: #d4ebff;}#sk-container-id-2 div.sk-serial::before {content: \"\";position: absolute;border-left: 1px solid gray;box-sizing: border-box;top: 0;bottom: 0;left: 50%;z-index: 0;}#sk-container-id-2 div.sk-serial {display: flex;flex-direction: column;align-items: center;background-color: white;padding-right: 0.2em;padding-left: 0.2em;position: relative;}#sk-container-id-2 div.sk-item {position: relative;z-index: 1;}#sk-container-id-2 div.sk-parallel {display: flex;align-items: stretch;justify-content: center;background-color: white;position: relative;}#sk-container-id-2 div.sk-item::before, #sk-container-id-2 div.sk-parallel-item::before {content: \"\";position: absolute;border-left: 1px solid gray;box-sizing: border-box;top: 0;bottom: 0;left: 50%;z-index: -1;}#sk-container-id-2 div.sk-parallel-item {display: flex;flex-direction: column;z-index: 1;position: relative;background-color: white;}#sk-container-id-2 div.sk-parallel-item:first-child::after {align-self: flex-end;width: 50%;}#sk-container-id-2 div.sk-parallel-item:last-child::after {align-self: flex-start;width: 50%;}#sk-container-id-2 div.sk-parallel-item:only-child::after {width: 0;}#sk-container-id-2 div.sk-dashed-wrapped {border: 1px dashed gray;margin: 0 0.4em 0.5em 0.4em;box-sizing: border-box;padding-bottom: 0.4em;background-color: white;}#sk-container-id-2 div.sk-label label {font-family: monospace;font-weight: bold;display: inline-block;line-height: 1.2em;}#sk-container-id-2 div.sk-label-container {text-align: center;}#sk-container-id-2 div.sk-container {/* jupyter's `normalize.less` sets `[hidden] { display: none; }` but bootstrap.min.css set `[hidden] { display: none !important; }` so we also need the `!important` here to be able to override the default hidden behavior on the sphinx rendered scikit-learn.org. See: https://github.com/scikit-learn/scikit-learn/issues/21755 */display: inline-block !important;position: relative;}#sk-container-id-2 div.sk-text-repr-fallback {display: none;}</style><div id=\"sk-container-id-2\" class=\"sk-top-container\"><div class=\"sk-text-repr-fallback\"><pre>MultinomialNB()</pre><b>In a Jupyter environment, please rerun this cell to show the HTML representation or trust the notebook. <br />On GitHub, the HTML representation is unable to render, please try loading this page with nbviewer.org.</b></div><div class=\"sk-container\" hidden><div class=\"sk-item\"><div class=\"sk-estimator sk-toggleable\"><input class=\"sk-toggleable__control sk-hidden--visually\" id=\"sk-estimator-id-2\" type=\"checkbox\" checked><label for=\"sk-estimator-id-2\" class=\"sk-toggleable__label sk-toggleable__label-arrow\">MultinomialNB</label><div class=\"sk-toggleable__content\"><pre>MultinomialNB()</pre></div></div></div></div></div>"
            ]
          },
          "metadata": {},
          "execution_count": 57
        }
      ],
      "source": [
        "nb.fit(x_train,y_train)"
      ]
    },
    {
      "cell_type": "code",
      "execution_count": null,
      "metadata": {
        "id": "bk1zXcoy7jJ4"
      },
      "outputs": [],
      "source": [
        "y_pred3=nb.predict(x_test)"
      ]
    },
    {
      "cell_type": "code",
      "execution_count": null,
      "metadata": {
        "id": "354wwQ7K70L-"
      },
      "outputs": [],
      "source": [
        "nb1=accuracy_score(y_pred3,y_test)\n",
        "nb2=precision_score(y_pred3,y_test)\n",
        "nb3=recall_score(y_pred3,y_test)\n",
        "nb4=f1_score(y_pred3,y_test)"
      ]
    },
    {
      "cell_type": "code",
      "execution_count": null,
      "metadata": {
        "colab": {
          "base_uri": "https://localhost:8080/",
          "height": 466
        },
        "id": "Ckxt-T6vA0Y1",
        "outputId": "bce8a5c4-e9bd-4f77-bf61-413ae6cc268a"
      },
      "outputs": [
        {
          "output_type": "display_data",
          "data": {
            "text/plain": [
              "<Figure size 640x480 with 1 Axes>"
            ],
            "image/png": "[encoded data removed]"
          },
          "metadata": {}
        }
      ],
      "source": [
        "g=pd.DataFrame({'Accuracy_Score':[nb1],'Precision_Score':[nb2],'Recall_Score':[nb3],'F1_Score':[nb4]})\n",
        "g.plot(kind='bar')\n",
        "plt.xlabel('Naive Bayes')\n",
        "plt.ylabel('Percentage')\n",
        "plt.title('Metrics Representation ')\n",
        "plt.show()"
      ]
    },
    {
      "cell_type": "markdown",
      "metadata": {
        "id": "2eNsQkvT77lq"
      },
      "source": [
        "STOCHASTIC GRADIENT DESCENT"
      ]
    },
    {
      "cell_type": "code",
      "execution_count": null,
      "metadata": {
        "id": "irj_uWrV8Bsh"
      },
      "outputs": [],
      "source": [
        "from sklearn.linear_model import SGDClassifier\n",
        "sgd=SGDClassifier(loss='hinge')\n",
        "linear_model_result = cross_validation(sgd,x_train,y_train, 5)\n",
        "\n"
      ]
    },
    {
      "cell_type": "code",
      "execution_count": null,
      "metadata": {
        "colab": {
          "base_uri": "https://localhost:8080/",
          "height": 74
        },
        "id": "vuEi_Uy48CJM",
        "outputId": "0070ead4-a620-4496-ee92-c7c10cfb4373"
      },
      "outputs": [
        {
          "output_type": "execute_result",
          "data": {
            "text/plain": [
              "SGDClassifier()"
            ],
            "text/html": [
              "<style>#sk-container-id-3 {color: black;background-color: white;}#sk-container-id-3 pre{padding: 0;}#sk-container-id-3 div.sk-toggleable {background-color: white;}#sk-container-id-3 label.sk-toggleable__label {cursor: pointer;display: block;width: 100%;margin-bottom: 0;padding: 0.3em;box-sizing: border-box;text-align: center;}#sk-container-id-3 label.sk-toggleable__label-arrow:before {content: \"▸\";float: left;margin-right: 0.25em;color: #696969;}#sk-container-id-3 label.sk-toggleable__label-arrow:hover:before {color: black;}#sk-container-id-3 div.sk-estimator:hover label.sk-toggleable__label-arrow:before {color: black;}#sk-container-id-3 div.sk-toggleable__content {max-height: 0;max-width: 0;overflow: hidden;text-align: left;background-color: #f0f8ff;}#sk-container-id-3 div.sk-toggleable__content pre {margin: 0.2em;color: black;border-radius: 0.25em;background-color: #f0f8ff;}#sk-container-id-3 input.sk-toggleable__control:checked~div.sk-toggleable__content {max-height: 200px;max-width: 100%;overflow: auto;}#sk-container-id-3 input.sk-toggleable__control:checked~label.sk-toggleable__label-arrow:before {content: \"▾\";}#sk-container-id-3 div.sk-estimator input.sk-toggleable__control:checked~label.sk-toggleable__label {background-color: #d4ebff;}#sk-container-id-3 div.sk-label input.sk-toggleable__control:checked~label.sk-toggleable__label {background-color: #d4ebff;}#sk-container-id-3 input.sk-hidden--visually {border: 0;clip: rect(1px 1px 1px 1px);clip: rect(1px, 1px, 1px, 1px);height: 1px;margin: -1px;overflow: hidden;padding: 0;position: absolute;width: 1px;}#sk-container-id-3 div.sk-estimator {font-family: monospace;background-color: #f0f8ff;border: 1px dotted black;border-radius: 0.25em;box-sizing: border-box;margin-bottom: 0.5em;}#sk-container-id-3 div.sk-estimator:hover {background-color: #d4ebff;}#sk-container-id-3 div.sk-parallel-item::after {content: \"\";width: 100%;border-bottom: 1px solid gray;flex-grow: 1;}#sk-container-id-3 div.sk-label:hover label.sk-toggleable__label {background-color: #d4ebff;}#sk-container-id-3 div.sk-serial::before {content: \"\";position: absolute;border-left: 1px solid gray;box-sizing: border-box;top: 0;bottom: 0;left: 50%;z-index: 0;}#sk-container-id-3 div.sk-serial {display: flex;flex-direction: column;align-items: center;background-color: white;padding-right: 0.2em;padding-left: 0.2em;position: relative;}#sk-container-id-3 div.sk-item {position: relative;z-index: 1;}#sk-container-id-3 div.sk-parallel {display: flex;align-items: stretch;justify-content: center;background-color: white;position: relative;}#sk-container-id-3 div.sk-item::before, #sk-container-id-3 div.sk-parallel-item::before {content: \"\";position: absolute;border-left: 1px solid gray;box-sizing: border-box;top: 0;bottom: 0;left: 50%;z-index: -1;}#sk-container-id-3 div.sk-parallel-item {display: flex;flex-direction: column;z-index: 1;position: relative;background-color: white;}#sk-container-id-3 div.sk-parallel-item:first-child::after {align-self: flex-end;width: 50%;}#sk-container-id-3 div.sk-parallel-item:last-child::after {align-self: flex-start;width: 50%;}#sk-container-id-3 div.sk-parallel-item:only-child::after {width: 0;}#sk-container-id-3 div.sk-dashed-wrapped {border: 1px dashed gray;margin: 0 0.4em 0.5em 0.4em;box-sizing: border-box;padding-bottom: 0.4em;background-color: white;}#sk-container-id-3 div.sk-label label {font-family: monospace;font-weight: bold;display: inline-block;line-height: 1.2em;}#sk-container-id-3 div.sk-label-container {text-align: center;}#sk-container-id-3 div.sk-container {/* jupyter's `normalize.less` sets `[hidden] { display: none; }` but bootstrap.min.css set `[hidden] { display: none !important; }` so we also need the `!important` here to be able to override the default hidden behavior on the sphinx rendered scikit-learn.org. See: https://github.com/scikit-learn/scikit-learn/issues/21755 */display: inline-block !important;position: relative;}#sk-container-id-3 div.sk-text-repr-fallback {display: none;}</style><div id=\"sk-container-id-3\" class=\"sk-top-container\"><div class=\"sk-text-repr-fallback\"><pre>SGDClassifier()</pre><b>In a Jupyter environment, please rerun this cell to show the HTML representation or trust the notebook. <br />On GitHub, the HTML representation is unable to render, please try loading this page with nbviewer.org.</b></div><div class=\"sk-container\" hidden><div class=\"sk-item\"><div class=\"sk-estimator sk-toggleable\"><input class=\"sk-toggleable__control sk-hidden--visually\" id=\"sk-estimator-id-3\" type=\"checkbox\" checked><label for=\"sk-estimator-id-3\" class=\"sk-toggleable__label sk-toggleable__label-arrow\">SGDClassifier</label><div class=\"sk-toggleable__content\"><pre>SGDClassifier()</pre></div></div></div></div></div>"
            ]
          },
          "metadata": {},
          "execution_count": 62
        }
      ],
      "source": [
        "sgd.fit(x_train,y_train)\n",
        "\n"
      ]
    },
    {
      "cell_type": "code",
      "execution_count": null,
      "metadata": {
        "id": "x3YCHeIM7zs4"
      },
      "outputs": [],
      "source": [
        "y_pred4=sgd.predict(x_test)"
      ]
    },
    {
      "cell_type": "code",
      "execution_count": null,
      "metadata": {
        "id": "xDS35S8O7U4Q"
      },
      "outputs": [],
      "source": [
        "sgd1=accuracy_score(y_pred4,y_test)\n",
        "sgd2=precision_score(y_pred4,y_test)\n",
        "sgd3=recall_score(y_pred4,y_test)\n",
        "sgd4=f1_score(y_pred4,y_test)"
      ]
    },
    {
      "cell_type": "code",
      "execution_count": null,
      "metadata": {
        "colab": {
          "base_uri": "https://localhost:8080/",
          "height": 466
        },
        "id": "1_336LAbDU7a",
        "outputId": "757f466e-6611-41e1-90b9-2169fee7befd"
      },
      "outputs": [
        {
          "output_type": "display_data",
          "data": {
            "text/plain": [
              "<Figure size 640x480 with 1 Axes>"
            ],
            "image/png": "[encoded data removed]"
          },
          "metadata": {}
        }
      ],
      "source": [
        "g=pd.DataFrame({'Accuracy_Score':[sgd1],'Precision_Score':[sgd2],'Recall_Score':[sgd3],'F1_Score':[sgd4]})\n",
        "g.plot(kind='bar')\n",
        "plt.xlabel('Stochastic Gradient Descent')\n",
        "plt.ylabel('Percentage')\n",
        "plt.title('Metrics Representation ')\n",
        "plt.show()"
      ]
    },
    {
      "cell_type": "markdown",
      "metadata": {
        "id": "pH2SUXrr8X_k"
      },
      "source": [
        "DECISION TREE CLASSIFIER"
      ]
    },
    {
      "cell_type": "code",
      "execution_count": null,
      "metadata": {
        "id": "tVV9In1n8dCg"
      },
      "outputs": [],
      "source": [
        "from sklearn.tree import DecisionTreeClassifier\n",
        "dt=DecisionTreeClassifier()\n",
        "linear_model_result = cross_validation(dt,x_train,y_train, 5)"
      ]
    },
    {
      "cell_type": "code",
      "execution_count": null,
      "metadata": {
        "colab": {
          "base_uri": "https://localhost:8080/",
          "height": 74
        },
        "id": "5WPMocEL8S77",
        "outputId": "d4ce767e-2f3b-4e3e-9d5e-21b4dcf64ea3"
      },
      "outputs": [
        {
          "output_type": "execute_result",
          "data": {
            "text/plain": [
              "DecisionTreeClassifier()"
            ],
            "text/html": [
              "<style>#sk-container-id-4 {color: black;background-color: white;}#sk-container-id-4 pre{padding: 0;}#sk-container-id-4 div.sk-toggleable {background-color: white;}#sk-container-id-4 label.sk-toggleable__label {cursor: pointer;display: block;width: 100%;margin-bottom: 0;padding: 0.3em;box-sizing: border-box;text-align: center;}#sk-container-id-4 label.sk-toggleable__label-arrow:before {content: \"▸\";float: left;margin-right: 0.25em;color: #696969;}#sk-container-id-4 label.sk-toggleable__label-arrow:hover:before {color: black;}#sk-container-id-4 div.sk-estimator:hover label.sk-toggleable__label-arrow:before {color: black;}#sk-container-id-4 div.sk-toggleable__content {max-height: 0;max-width: 0;overflow: hidden;text-align: left;background-color: #f0f8ff;}#sk-container-id-4 div.sk-toggleable__content pre {margin: 0.2em;color: black;border-radius: 0.25em;background-color: #f0f8ff;}#sk-container-id-4 input.sk-toggleable__control:checked~div.sk-toggleable__content {max-height: 200px;max-width: 100%;overflow: auto;}#sk-container-id-4 input.sk-toggleable__control:checked~label.sk-toggleable__label-arrow:before {content: \"▾\";}#sk-container-id-4 div.sk-estimator input.sk-toggleable__control:checked~label.sk-toggleable__label {background-color: #d4ebff;}#sk-container-id-4 div.sk-label input.sk-toggleable__control:checked~label.sk-toggleable__label {background-color: #d4ebff;}#sk-container-id-4 input.sk-hidden--visually {border: 0;clip: rect(1px 1px 1px 1px);clip: rect(1px, 1px, 1px, 1px);height: 1px;margin: -1px;overflow: hidden;padding: 0;position: absolute;width: 1px;}#sk-container-id-4 div.sk-estimator {font-family: monospace;background-color: #f0f8ff;border: 1px dotted black;border-radius: 0.25em;box-sizing: border-box;margin-bottom: 0.5em;}#sk-container-id-4 div.sk-estimator:hover {background-color: #d4ebff;}#sk-container-id-4 div.sk-parallel-item::after {content: \"\";width: 100%;border-bottom: 1px solid gray;flex-grow: 1;}#sk-container-id-4 div.sk-label:hover label.sk-toggleable__label {background-color: #d4ebff;}#sk-container-id-4 div.sk-serial::before {content: \"\";position: absolute;border-left: 1px solid gray;box-sizing: border-box;top: 0;bottom: 0;left: 50%;z-index: 0;}#sk-container-id-4 div.sk-serial {display: flex;flex-direction: column;align-items: center;background-color: white;padding-right: 0.2em;padding-left: 0.2em;position: relative;}#sk-container-id-4 div.sk-item {position: relative;z-index: 1;}#sk-container-id-4 div.sk-parallel {display: flex;align-items: stretch;justify-content: center;background-color: white;position: relative;}#sk-container-id-4 div.sk-item::before, #sk-container-id-4 div.sk-parallel-item::before {content: \"\";position: absolute;border-left: 1px solid gray;box-sizing: border-box;top: 0;bottom: 0;left: 50%;z-index: -1;}#sk-container-id-4 div.sk-parallel-item {display: flex;flex-direction: column;z-index: 1;position: relative;background-color: white;}#sk-container-id-4 div.sk-parallel-item:first-child::after {align-self: flex-end;width: 50%;}#sk-container-id-4 div.sk-parallel-item:last-child::after {align-self: flex-start;width: 50%;}#sk-container-id-4 div.sk-parallel-item:only-child::after {width: 0;}#sk-container-id-4 div.sk-dashed-wrapped {border: 1px dashed gray;margin: 0 0.4em 0.5em 0.4em;box-sizing: border-box;padding-bottom: 0.4em;background-color: white;}#sk-container-id-4 div.sk-label label {font-family: monospace;font-weight: bold;display: inline-block;line-height: 1.2em;}#sk-container-id-4 div.sk-label-container {text-align: center;}#sk-container-id-4 div.sk-container {/* jupyter's `normalize.less` sets `[hidden] { display: none; }` but bootstrap.min.css set `[hidden] { display: none !important; }` so we also need the `!important` here to be able to override the default hidden behavior on the sphinx rendered scikit-learn.org. See: https://github.com/scikit-learn/scikit-learn/issues/21755 */display: inline-block !important;position: relative;}#sk-container-id-4 div.sk-text-repr-fallback {display: none;}</style><div id=\"sk-container-id-4\" class=\"sk-top-container\"><div class=\"sk-text-repr-fallback\"><pre>DecisionTreeClassifier()</pre><b>In a Jupyter environment, please rerun this cell to show the HTML representation or trust the notebook. <br />On GitHub, the HTML representation is unable to render, please try loading this page with nbviewer.org.</b></div><div class=\"sk-container\" hidden><div class=\"sk-item\"><div class=\"sk-estimator sk-toggleable\"><input class=\"sk-toggleable__control sk-hidden--visually\" id=\"sk-estimator-id-4\" type=\"checkbox\" checked><label for=\"sk-estimator-id-4\" class=\"sk-toggleable__label sk-toggleable__label-arrow\">DecisionTreeClassifier</label><div class=\"sk-toggleable__content\"><pre>DecisionTreeClassifier()</pre></div></div></div></div></div>"
            ]
          },
          "metadata": {},
          "execution_count": 67
        }
      ],
      "source": [
        "dt.fit(x_train,y_train)"
      ]
    },
    {
      "cell_type": "code",
      "execution_count": null,
      "metadata": {
        "id": "1-oQzy7C8TU0"
      },
      "outputs": [],
      "source": [
        "y_pred5=dt.predict(x_test)"
      ]
    },
    {
      "cell_type": "code",
      "execution_count": null,
      "metadata": {
        "id": "hMRE3vII8mzC"
      },
      "outputs": [],
      "source": [
        "dt1=accuracy_score(y_pred5,y_test)\n",
        "dt2=precision_score(y_pred5,y_test)\n",
        "dt3=recall_score(y_pred5,y_test)\n",
        "dt4=f1_score(y_pred5,y_test)"
      ]
    },
    {
      "cell_type": "code",
      "execution_count": null,
      "metadata": {
        "colab": {
          "base_uri": "https://localhost:8080/",
          "height": 466
        },
        "id": "M0_nvAgWFXhv",
        "outputId": "79e7df22-24d0-4a7f-8304-6b32b9365355"
      },
      "outputs": [
        {
          "output_type": "display_data",
          "data": {
            "text/plain": [
              "<Figure size 640x480 with 1 Axes>"
            ],
            "image/png": "[encoded data removed]"
          },
          "metadata": {}
        }
      ],
      "source": [
        "g=pd.DataFrame({'Accuracy_Score':[dt1],'Precision_Score':[dt2],'Recall_Score':[dt3],'F1_Score':[dt4]})\n",
        "g.plot(kind='bar')\n",
        "plt.xlabel('Decision Tree Classifier')\n",
        "plt.ylabel('Percentage')\n",
        "plt.title('Metrics Representation ')\n",
        "plt.show()"
      ]
    },
    {
      "cell_type": "markdown",
      "metadata": {
        "id": "QBESC5ZGB3SK"
      },
      "source": [
        "RANDOM FOREST CLASSIFIER"
      ]
    },
    {
      "cell_type": "code",
      "execution_count": null,
      "metadata": {
        "id": "7e2sejMnB5V7"
      },
      "outputs": [],
      "source": [
        "from sklearn.ensemble import RandomForestClassifier"
      ]
    },
    {
      "cell_type": "code",
      "execution_count": null,
      "metadata": {
        "id": "gxGvWvGpB-VV"
      },
      "outputs": [],
      "source": [
        "rfc= RandomForestClassifier()\n"
      ]
    },
    {
      "cell_type": "code",
      "execution_count": null,
      "metadata": {
        "colab": {
          "base_uri": "https://localhost:8080/",
          "height": 74
        },
        "id": "0YO2uwPiCBgh",
        "outputId": "ef50ae16-71c0-4bae-bea2-2fdc961ac535"
      },
      "outputs": [
        {
          "output_type": "execute_result",
          "data": {
            "text/plain": [
              "RandomForestClassifier()"
            ],
            "text/html": [
              "<style>#sk-container-id-5 {color: black;background-color: white;}#sk-container-id-5 pre{padding: 0;}#sk-container-id-5 div.sk-toggleable {background-color: white;}#sk-container-id-5 label.sk-toggleable__label {cursor: pointer;display: block;width: 100%;margin-bottom: 0;padding: 0.3em;box-sizing: border-box;text-align: center;}#sk-container-id-5 label.sk-toggleable__label-arrow:before {content: \"▸\";float: left;margin-right: 0.25em;color: #696969;}#sk-container-id-5 label.sk-toggleable__label-arrow:hover:before {color: black;}#sk-container-id-5 div.sk-estimator:hover label.sk-toggleable__label-arrow:before {color: black;}#sk-container-id-5 div.sk-toggleable__content {max-height: 0;max-width: 0;overflow: hidden;text-align: left;background-color: #f0f8ff;}#sk-container-id-5 div.sk-toggleable__content pre {margin: 0.2em;color: black;border-radius: 0.25em;background-color: #f0f8ff;}#sk-container-id-5 input.sk-toggleable__control:checked~div.sk-toggleable__content {max-height: 200px;max-width: 100%;overflow: auto;}#sk-container-id-5 input.sk-toggleable__control:checked~label.sk-toggleable__label-arrow:before {content: \"▾\";}#sk-container-id-5 div.sk-estimator input.sk-toggleable__control:checked~label.sk-toggleable__label {background-color: #d4ebff;}#sk-container-id-5 div.sk-label input.sk-toggleable__control:checked~label.sk-toggleable__label {background-color: #d4ebff;}#sk-container-id-5 input.sk-hidden--visually {border: 0;clip: rect(1px 1px 1px 1px);clip: rect(1px, 1px, 1px, 1px);height: 1px;margin: -1px;overflow: hidden;padding: 0;position: absolute;width: 1px;}#sk-container-id-5 div.sk-estimator {font-family: monospace;background-color: #f0f8ff;border: 1px dotted black;border-radius: 0.25em;box-sizing: border-box;margin-bottom: 0.5em;}#sk-container-id-5 div.sk-estimator:hover {background-color: #d4ebff;}#sk-container-id-5 div.sk-parallel-item::after {content: \"\";width: 100%;border-bottom: 1px solid gray;flex-grow: 1;}#sk-container-id-5 div.sk-label:hover label.sk-toggleable__label {background-color: #d4ebff;}#sk-container-id-5 div.sk-serial::before {content: \"\";position: absolute;border-left: 1px solid gray;box-sizing: border-box;top: 0;bottom: 0;left: 50%;z-index: 0;}#sk-container-id-5 div.sk-serial {display: flex;flex-direction: column;align-items: center;background-color: white;padding-right: 0.2em;padding-left: 0.2em;position: relative;}#sk-container-id-5 div.sk-item {position: relative;z-index: 1;}#sk-container-id-5 div.sk-parallel {display: flex;align-items: stretch;justify-content: center;background-color: white;position: relative;}#sk-container-id-5 div.sk-item::before, #sk-container-id-5 div.sk-parallel-item::before {content: \"\";position: absolute;border-left: 1px solid gray;box-sizing: border-box;top: 0;bottom: 0;left: 50%;z-index: -1;}#sk-container-id-5 div.sk-parallel-item {display: flex;flex-direction: column;z-index: 1;position: relative;background-color: white;}#sk-container-id-5 div.sk-parallel-item:first-child::after {align-self: flex-end;width: 50%;}#sk-container-id-5 div.sk-parallel-item:last-child::after {align-self: flex-start;width: 50%;}#sk-container-id-5 div.sk-parallel-item:only-child::after {width: 0;}#sk-container-id-5 div.sk-dashed-wrapped {border: 1px dashed gray;margin: 0 0.4em 0.5em 0.4em;box-sizing: border-box;padding-bottom: 0.4em;background-color: white;}#sk-container-id-5 div.sk-label label {font-family: monospace;font-weight: bold;display: inline-block;line-height: 1.2em;}#sk-container-id-5 div.sk-label-container {text-align: center;}#sk-container-id-5 div.sk-container {/* jupyter's `normalize.less` sets `[hidden] { display: none; }` but bootstrap.min.css set `[hidden] { display: none !important; }` so we also need the `!important` here to be able to override the default hidden behavior on the sphinx rendered scikit-learn.org. See: https://github.com/scikit-learn/scikit-learn/issues/21755 */display: inline-block !important;position: relative;}#sk-container-id-5 div.sk-text-repr-fallback {display: none;}</style><div id=\"sk-container-id-5\" class=\"sk-top-container\"><div class=\"sk-text-repr-fallback\"><pre>RandomForestClassifier()</pre><b>In a Jupyter environment, please rerun this cell to show the HTML representation or trust the notebook. <br />On GitHub, the HTML representation is unable to render, please try loading this page with nbviewer.org.</b></div><div class=\"sk-container\" hidden><div class=\"sk-item\"><div class=\"sk-estimator sk-toggleable\"><input class=\"sk-toggleable__control sk-hidden--visually\" id=\"sk-estimator-id-5\" type=\"checkbox\" checked><label for=\"sk-estimator-id-5\" class=\"sk-toggleable__label sk-toggleable__label-arrow\">RandomForestClassifier</label><div class=\"sk-toggleable__content\"><pre>RandomForestClassifier()</pre></div></div></div></div></div>"
            ]
          },
          "metadata": {},
          "execution_count": 73
        }
      ],
      "source": [
        "rfc.fit(x_train, y_train)"
      ]
    },
    {
      "cell_type": "code",
      "execution_count": null,
      "metadata": {
        "id": "uAUoL6e4CFIs"
      },
      "outputs": [],
      "source": [
        "y_pred6=rfc.predict(x_test)"
      ]
    },
    {
      "cell_type": "code",
      "execution_count": null,
      "metadata": {
        "id": "DYaQr-1KCNUS"
      },
      "outputs": [],
      "source": [
        "rfc1=accuracy_score(y_pred6,y_test)\n",
        "rfc2=precision_score(y_pred6,y_test)\n",
        "rfc3=recall_score(y_pred6,y_test)\n",
        "rfc4=f1_score(y_pred6,y_test)"
      ]
    },
    {
      "cell_type": "code",
      "execution_count": null,
      "metadata": {
        "colab": {
          "base_uri": "https://localhost:8080/",
          "height": 466
        },
        "id": "cyKASo2NCOUF",
        "outputId": "a0963ae8-4429-4b62-cb15-f6f9628bde28"
      },
      "outputs": [
        {
          "output_type": "display_data",
          "data": {
            "text/plain": [
              "<Figure size 640x480 with 1 Axes>"
            ],
            "image/png": "[encoded data removed]"
          },
          "metadata": {}
        }
      ],
      "source": [
        "g=pd.DataFrame({'Accuracy_Score':[rfc1],'Precision_Score':[rfc2],'Recall_Score':[rfc3],'F1_Score':[rfc4]})\n",
        "g.plot(kind='bar')\n",
        "plt.xlabel('Random Forest Classifier')\n",
        "plt.ylabel('Percentage')\n",
        "plt.title('Metrics Representation ')\n",
        "plt.show()"
      ]
    },
    {
      "cell_type": "markdown",
      "metadata": {
        "id": "FrnvEafmDXAu"
      },
      "source": [
        "SUPPORT VECTOR MACHINE"
      ]
    },
    {
      "cell_type": "code",
      "execution_count": null,
      "metadata": {
        "id": "q8VLMj6DCpKk"
      },
      "outputs": [],
      "source": [
        "from sklearn.svm import SVC"
      ]
    },
    {
      "cell_type": "code",
      "execution_count": null,
      "metadata": {
        "id": "0lZF0od9Cpry"
      },
      "outputs": [],
      "source": [
        "svm=SVC()\n"
      ]
    },
    {
      "cell_type": "code",
      "execution_count": null,
      "metadata": {
        "colab": {
          "base_uri": "https://localhost:8080/",
          "height": 74
        },
        "id": "ZmTEL2JGCqAL",
        "outputId": "86fbc545-c52d-47fd-d188-9e12285b93d8"
      },
      "outputs": [
        {
          "output_type": "execute_result",
          "data": {
            "text/plain": [
              "SVC()"
            ],
            "text/html": [
              "<style>#sk-container-id-6 {color: black;background-color: white;}#sk-container-id-6 pre{padding: 0;}#sk-container-id-6 div.sk-toggleable {background-color: white;}#sk-container-id-6 label.sk-toggleable__label {cursor: pointer;display: block;width: 100%;margin-bottom: 0;padding: 0.3em;box-sizing: border-box;text-align: center;}#sk-container-id-6 label.sk-toggleable__label-arrow:before {content: \"▸\";float: left;margin-right: 0.25em;color: #696969;}#sk-container-id-6 label.sk-toggleable__label-arrow:hover:before {color: black;}#sk-container-id-6 div.sk-estimator:hover label.sk-toggleable__label-arrow:before {color: black;}#sk-container-id-6 div.sk-toggleable__content {max-height: 0;max-width: 0;overflow: hidden;text-align: left;background-color: #f0f8ff;}#sk-container-id-6 div.sk-toggleable__content pre {margin: 0.2em;color: black;border-radius: 0.25em;background-color: #f0f8ff;}#sk-container-id-6 input.sk-toggleable__control:checked~div.sk-toggleable__content {max-height: 200px;max-width: 100%;overflow: auto;}#sk-container-id-6 input.sk-toggleable__control:checked~label.sk-toggleable__label-arrow:before {content: \"▾\";}#sk-container-id-6 div.sk-estimator input.sk-toggleable__control:checked~label.sk-toggleable__label {background-color: #d4ebff;}#sk-container-id-6 div.sk-label input.sk-toggleable__control:checked~label.sk-toggleable__label {background-color: #d4ebff;}#sk-container-id-6 input.sk-hidden--visually {border: 0;clip: rect(1px 1px 1px 1px);clip: rect(1px, 1px, 1px, 1px);height: 1px;margin: -1px;overflow: hidden;padding: 0;position: absolute;width: 1px;}#sk-container-id-6 div.sk-estimator {font-family: monospace;background-color: #f0f8ff;border: 1px dotted black;border-radius: 0.25em;box-sizing: border-box;margin-bottom: 0.5em;}#sk-container-id-6 div.sk-estimator:hover {background-color: #d4ebff;}#sk-container-id-6 div.sk-parallel-item::after {content: \"\";width: 100%;border-bottom: 1px solid gray;flex-grow: 1;}#sk-container-id-6 div.sk-label:hover label.sk-toggleable__label {background-color: #d4ebff;}#sk-container-id-6 div.sk-serial::before {content: \"\";position: absolute;border-left: 1px solid gray;box-sizing: border-box;top: 0;bottom: 0;left: 50%;z-index: 0;}#sk-container-id-6 div.sk-serial {display: flex;flex-direction: column;align-items: center;background-color: white;padding-right: 0.2em;padding-left: 0.2em;position: relative;}#sk-container-id-6 div.sk-item {position: relative;z-index: 1;}#sk-container-id-6 div.sk-parallel {display: flex;align-items: stretch;justify-content: center;background-color: white;position: relative;}#sk-container-id-6 div.sk-item::before, #sk-container-id-6 div.sk-parallel-item::before {content: \"\";position: absolute;border-left: 1px solid gray;box-sizing: border-box;top: 0;bottom: 0;left: 50%;z-index: -1;}#sk-container-id-6 div.sk-parallel-item {display: flex;flex-direction: column;z-index: 1;position: relative;background-color: white;}#sk-container-id-6 div.sk-parallel-item:first-child::after {align-self: flex-end;width: 50%;}#sk-container-id-6 div.sk-parallel-item:last-child::after {align-self: flex-start;width: 50%;}#sk-container-id-6 div.sk-parallel-item:only-child::after {width: 0;}#sk-container-id-6 div.sk-dashed-wrapped {border: 1px dashed gray;margin: 0 0.4em 0.5em 0.4em;box-sizing: border-box;padding-bottom: 0.4em;background-color: white;}#sk-container-id-6 div.sk-label label {font-family: monospace;font-weight: bold;display: inline-block;line-height: 1.2em;}#sk-container-id-6 div.sk-label-container {text-align: center;}#sk-container-id-6 div.sk-container {/* jupyter's `normalize.less` sets `[hidden] { display: none; }` but bootstrap.min.css set `[hidden] { display: none !important; }` so we also need the `!important` here to be able to override the default hidden behavior on the sphinx rendered scikit-learn.org. See: https://github.com/scikit-learn/scikit-learn/issues/21755 */display: inline-block !important;position: relative;}#sk-container-id-6 div.sk-text-repr-fallback {display: none;}</style><div id=\"sk-container-id-6\" class=\"sk-top-container\"><div class=\"sk-text-repr-fallback\"><pre>SVC()</pre><b>In a Jupyter environment, please rerun this cell to show the HTML representation or trust the notebook. <br />On GitHub, the HTML representation is unable to render, please try loading this page with nbviewer.org.</b></div><div class=\"sk-container\" hidden><div class=\"sk-item\"><div class=\"sk-estimator sk-toggleable\"><input class=\"sk-toggleable__control sk-hidden--visually\" id=\"sk-estimator-id-6\" type=\"checkbox\" checked><label for=\"sk-estimator-id-6\" class=\"sk-toggleable__label sk-toggleable__label-arrow\">SVC</label><div class=\"sk-toggleable__content\"><pre>SVC()</pre></div></div></div></div></div>"
            ]
          },
          "metadata": {},
          "execution_count": 79
        }
      ],
      "source": [
        "svm.fit(x_train,y_train)"
      ]
    },
    {
      "cell_type": "code",
      "execution_count": null,
      "metadata": {
        "id": "r6vvJWhzCqne"
      },
      "outputs": [],
      "source": [
        "y_pred7=svm.predict(x_test)"
      ]
    },
    {
      "cell_type": "code",
      "execution_count": null,
      "metadata": {
        "id": "tdDVpPNLCrCj"
      },
      "outputs": [],
      "source": [
        "svm1=accuracy_score(y_pred7,y_test)\n",
        "svm2=precision_score(y_pred7,y_test)\n",
        "svm3=recall_score(y_pred7,y_test)\n",
        "svm4=f1_score(y_pred7,y_test)"
      ]
    },
    {
      "cell_type": "code",
      "execution_count": null,
      "metadata": {
        "colab": {
          "base_uri": "https://localhost:8080/",
          "height": 466
        },
        "id": "Tu8YLvHvDFo0",
        "outputId": "2015fa1a-574f-47ee-de86-79a69320374a"
      },
      "outputs": [
        {
          "output_type": "display_data",
          "data": {
            "text/plain": [
              "<Figure size 640x480 with 1 Axes>"
            ],
            "image/png": "[encoded data removed]"
          },
          "metadata": {}
        }
      ],
      "source": [
        "g=pd.DataFrame({'Accuracy_Score':[svm1],'Precision_Score':[svm2],'Recall_Score':[svm3],'F1_Score':[svm4]})\n",
        "g.plot(kind='bar')\n",
        "plt.xlabel('Support Vector Machine')\n",
        "plt.ylabel('Percentage')\n",
        "plt.title('Metrics Representation ')\n",
        "plt.show()"
      ]
    },
    {
      "cell_type": "markdown",
      "metadata": {
        "id": "su0ZXjdjNpXU"
      },
      "source": [
        "VOTING CLASSIFIER"
      ]
    },
    {
      "cell_type": "code",
      "execution_count": null,
      "metadata": {
        "id": "9mpfdyw0IMQI"
      },
      "outputs": [],
      "source": [
        "from sklearn.ensemble import VotingClassifier"
      ]
    },
    {
      "cell_type": "code",
      "execution_count": null,
      "metadata": {
        "id": "42-fTn_5IUQ0"
      },
      "outputs": [],
      "source": [
        "one=LogisticRegression(max_iter=250)\n",
        "two=SGDClassifier()\n",
        "three=SVC()\n",
        "four=DecisionTreeClassifier()\n"
      ]
    },
    {
      "cell_type": "code",
      "execution_count": null,
      "metadata": {
        "id": "eSGxAmyCIUs0"
      },
      "outputs": [],
      "source": [
        "ens=VotingClassifier(estimators=[('Logistic',one),('SGD',two)],voting='soft')"
      ]
    },
    {
      "cell_type": "code",
      "execution_count": null,
      "metadata": {
        "colab": {
          "base_uri": "https://localhost:8080/",
          "height": 109
        },
        "id": "uRVyUaCpIVGK",
        "outputId": "cc61dd69-5ad0-4a38-a3a8-cf11548d4014"
      },
      "outputs": [
        {
          "output_type": "execute_result",
          "data": {
            "text/plain": [
              "VotingClassifier(estimators=[('Logistic', LogisticRegression(max_iter=250)),\n",
              "                             ('SGD', SGDClassifier())])"
            ],
            "text/html": [
              "<style>#sk-container-id-7 {color: black;background-color: white;}#sk-container-id-7 pre{padding: 0;}#sk-container-id-7 div.sk-toggleable {background-color: white;}#sk-container-id-7 label.sk-toggleable__label {cursor: pointer;display: block;width: 100%;margin-bottom: 0;padding: 0.3em;box-sizing: border-box;text-align: center;}#sk-container-id-7 label.sk-toggleable__label-arrow:before {content: \"▸\";float: left;margin-right: 0.25em;color: #696969;}#sk-container-id-7 label.sk-toggleable__label-arrow:hover:before {color: black;}#sk-container-id-7 div.sk-estimator:hover label.sk-toggleable__label-arrow:before {color: black;}#sk-container-id-7 div.sk-toggleable__content {max-height: 0;max-width: 0;overflow: hidden;text-align: left;background-color: #f0f8ff;}#sk-container-id-7 div.sk-toggleable__content pre {margin: 0.2em;color: black;border-radius: 0.25em;background-color: #f0f8ff;}#sk-container-id-7 input.sk-toggleable__control:checked~div.sk-toggleable__content {max-height: 200px;max-width: 100%;overflow: auto;}#sk-container-id-7 input.sk-toggleable__control:checked~label.sk-toggleable__label-arrow:before {content: \"▾\";}#sk-container-id-7 div.sk-estimator input.sk-toggleable__control:checked~label.sk-toggleable__label {background-color: #d4ebff;}#sk-container-id-7 div.sk-label input.sk-toggleable__control:checked~label.sk-toggleable__label {background-color: #d4ebff;}#sk-container-id-7 input.sk-hidden--visually {border: 0;clip: rect(1px 1px 1px 1px);clip: rect(1px, 1px, 1px, 1px);height: 1px;margin: -1px;overflow: hidden;padding: 0;position: absolute;width: 1px;}#sk-container-id-7 div.sk-estimator {font-family: monospace;background-color: #f0f8ff;border: 1px dotted black;border-radius: 0.25em;box-sizing: border-box;margin-bottom: 0.5em;}#sk-container-id-7 div.sk-estimator:hover {background-color: #d4ebff;}#sk-container-id-7 div.sk-parallel-item::after {content: \"\";width: 100%;border-bottom: 1px solid gray;flex-grow: 1;}#sk-container-id-7 div.sk-label:hover label.sk-toggleable__label {background-color: #d4ebff;}#sk-container-id-7 div.sk-serial::before {content: \"\";position: absolute;border-left: 1px solid gray;box-sizing: border-box;top: 0;bottom: 0;left: 50%;z-index: 0;}#sk-container-id-7 div.sk-serial {display: flex;flex-direction: column;align-items: center;background-color: white;padding-right: 0.2em;padding-left: 0.2em;position: relative;}#sk-container-id-7 div.sk-item {position: relative;z-index: 1;}#sk-container-id-7 div.sk-parallel {display: flex;align-items: stretch;justify-content: center;background-color: white;position: relative;}#sk-container-id-7 div.sk-item::before, #sk-container-id-7 div.sk-parallel-item::before {content: \"\";position: absolute;border-left: 1px solid gray;box-sizing: border-box;top: 0;bottom: 0;left: 50%;z-index: -1;}#sk-container-id-7 div.sk-parallel-item {display: flex;flex-direction: column;z-index: 1;position: relative;background-color: white;}#sk-container-id-7 div.sk-parallel-item:first-child::after {align-self: flex-end;width: 50%;}#sk-container-id-7 div.sk-parallel-item:last-child::after {align-self: flex-start;width: 50%;}#sk-container-id-7 div.sk-parallel-item:only-child::after {width: 0;}#sk-container-id-7 div.sk-dashed-wrapped {border: 1px dashed gray;margin: 0 0.4em 0.5em 0.4em;box-sizing: border-box;padding-bottom: 0.4em;background-color: white;}#sk-container-id-7 div.sk-label label {font-family: monospace;font-weight: bold;display: inline-block;line-height: 1.2em;}#sk-container-id-7 div.sk-label-container {text-align: center;}#sk-container-id-7 div.sk-container {/* jupyter's `normalize.less` sets `[hidden] { display: none; }` but bootstrap.min.css set `[hidden] { display: none !important; }` so we also need the `!important` here to be able to override the default hidden behavior on the sphinx rendered scikit-learn.org. See: https://github.com/scikit-learn/scikit-learn/issues/21755 */display: inline-block !important;position: relative;}#sk-container-id-7 div.sk-text-repr-fallback {display: none;}</style><div id=\"sk-container-id-7\" class=\"sk-top-container\"><div class=\"sk-text-repr-fallback\"><pre>VotingClassifier(estimators=[(&#x27;Logistic&#x27;, LogisticRegression(max_iter=250)),\n",
              "                             (&#x27;SGD&#x27;, SGDClassifier())])</pre><b>In a Jupyter environment, please rerun this cell to show the HTML representation or trust the notebook. <br />On GitHub, the HTML representation is unable to render, please try loading this page with nbviewer.org.</b></div><div class=\"sk-container\" hidden><div class=\"sk-item sk-dashed-wrapped\"><div class=\"sk-label-container\"><div class=\"sk-label sk-toggleable\"><input class=\"sk-toggleable__control sk-hidden--visually\" id=\"sk-estimator-id-7\" type=\"checkbox\" ><label for=\"sk-estimator-id-7\" class=\"sk-toggleable__label sk-toggleable__label-arrow\">VotingClassifier</label><div class=\"sk-toggleable__content\"><pre>VotingClassifier(estimators=[(&#x27;Logistic&#x27;, LogisticRegression(max_iter=250)),\n",
              "                             (&#x27;SGD&#x27;, SGDClassifier())])</pre></div></div></div><div class=\"sk-parallel\"><div class=\"sk-parallel-item\"><div class=\"sk-item\"><div class=\"sk-label-container\"><div class=\"sk-label sk-toggleable\"><label>Logistic</label></div></div><div class=\"sk-serial\"><div class=\"sk-item\"><div class=\"sk-estimator sk-toggleable\"><input class=\"sk-toggleable__control sk-hidden--visually\" id=\"sk-estimator-id-8\" type=\"checkbox\" ><label for=\"sk-estimator-id-8\" class=\"sk-toggleable__label sk-toggleable__label-arrow\">LogisticRegression</label><div class=\"sk-toggleable__content\"><pre>LogisticRegression(max_iter=250)</pre></div></div></div></div></div></div><div class=\"sk-parallel-item\"><div class=\"sk-item\"><div class=\"sk-label-container\"><div class=\"sk-label sk-toggleable\"><label>SGD</label></div></div><div class=\"sk-serial\"><div class=\"sk-item\"><div class=\"sk-estimator sk-toggleable\"><input class=\"sk-toggleable__control sk-hidden--visually\" id=\"sk-estimator-id-9\" type=\"checkbox\" ><label for=\"sk-estimator-id-9\" class=\"sk-toggleable__label sk-toggleable__label-arrow\">SGDClassifier</label><div class=\"sk-toggleable__content\"><pre>SGDClassifier()</pre></div></div></div></div></div></div></div></div></div></div>"
            ]
          },
          "metadata": {},
          "execution_count": 88
        }
      ],
      "source": [
        "ens.fit(x_train,y_train)"
      ]
    },
    {
      "cell_type": "code",
      "execution_count": null,
      "metadata": {
        "id": "qikrnrLHIjnv"
      },
      "outputs": [],
      "source": [
        "ens_y_pred=ens.predict(x_test)"
      ]
    },
    {
      "cell_type": "code",
      "execution_count": null,
      "metadata": {
        "id": "T75lYDhpIkes"
      },
      "outputs": [],
      "source": [
        "ens1=accuracy_score(ens_y_pred,y_test)\n",
        "ens2=precision_score(ens_y_pred,y_test)\n",
        "ens3=recall_score(ens_y_pred,y_test)\n",
        "ens4=f1_score(ens_y_pred,y_test)"
      ]
    },
    {
      "cell_type": "code",
      "execution_count": null,
      "metadata": {
        "colab": {
          "base_uri": "https://localhost:8080/",
          "height": 466
        },
        "id": "EwQiW6rrRgmk",
        "outputId": "6d0e5193-4aac-4bca-d9a1-9b8c466f7e81"
      },
      "outputs": [
        {
          "output_type": "display_data",
          "data": {
            "text/plain": [
              "<Figure size 640x480 with 1 Axes>"
            ],
            "image/png": "[encoded data removed]"
          },
          "metadata": {}
        }
      ],
      "source": [
        "g=pd.DataFrame({'Accuracy_Score':[ens1],'Precision_Score':[ens2],'Recall_Score':[ens3],'F1_Score':[ens4]})\n",
        "g.plot(kind='bar')\n",
        "plt.xlabel('Voting Classifier[LR-SGD]')\n",
        "plt.ylabel('Percentage')\n",
        "plt.title('Metrics Representation ')\n",
        "plt.show()"
      ]
    },
    {
      "cell_type": "markdown",
      "metadata": {
        "id": "4ziCMtOzNHnI"
      },
      "source": [
        "pip install pyvi"
      ]
    },
    {
      "cell_type": "code",
      "execution_count": null,
      "metadata": {
        "colab": {
          "base_uri": "https://localhost:8080/",
          "height": 919
        },
        "id": "w2bcGBIAMEhR",
        "outputId": "ed2d5fd8-5a31-4a01-c334-5b8730eb36ed"
      },
      "outputs": [
        {
          "output_type": "execute_result",
          "data": {
            "text/plain": [
              "Text(0.5, 1.0, 'Representation of measures')"
            ]
          },
          "metadata": {},
          "execution_count": 92
        },
        {
          "output_type": "display_data",
          "data": {
            "text/plain": [
              "<Figure size 1000x800 with 1 Axes>"
            ],
            "image/png": "[encoded data removed]"
          },
          "metadata": {}
        }
      ],
      "source": [
        "graph=pd.DataFrame({\"accuracy\":[lrc1,nb1,sgd1,xgb1,dt1,rfc1,svm1,ens1],\n",
        "                    \"precision\":[lrc2,nb2,sgd2,xgb2,dt2,rfc2,svm2,ens2],\n",
        "                     \"recall\":[lrc3,nb3,sgd3,xgb3,dt3,rfc3,svm3,ens3],\n",
        "                     \"f1_score\":[lrc4,nb4,sgd4,xgb4,dt4,rfc4,svm4,ens4]},\n",
        "                  index=[\"Logistic Regression\",\"Naive Bayes\",\"Stochastic Gradient Descent\",\"Gradient Boosting Machine\",\"Decision Tree\",\"Random Forest\",\"Support Vector Machine\",\"Voting Classifier\"])\n",
        "graph.plot(kind='bar',figsize=(10,8))\n",
        "plt.xlabel(\"Algorithms\")\n",
        "plt.ylabel(\"Percentage\")\n",
        "plt.title(\"Representation of measures\")"
      ]
    },
    {
      "cell_type": "code",
      "execution_count": null,
      "metadata": {
        "colab": {
          "base_uri": "https://localhost:8080/"
        },
        "id": "sash3VQFME8C",
        "outputId": "6b06a381-3d9b-4da7-a275-8193191423fd"
      },
      "outputs": [
        {
          "output_type": "stream",
          "name": "stdout",
          "text": [
            "+------------+----------+-----------+--------+----------+\n",
            "| Algorithms | Accuracy | Precision | Recall | F1_Score |\n",
            "+------------+----------+-----------+--------+----------+\n",
            "|     NB     |   74.9   |    73.8   |  77.9  |   74.8   |\n",
            "|     LR     |   75.7   |    81.7   |  81.7  |   79.5   |\n",
            "|    SGD     |   75.3   |    78.8   |  75.2  |   79.0   |\n",
            "|     GB     |   73.7   |    71.6   |  78.9  |   75.6   |\n",
            "|     DT     |   74.1   |    73.8   |  76.8  |   75.9   |\n",
            "|     RF     |   73.9   |    73.5   |  79.0  |   76.7   |\n",
            "|    SVM     |   75.6   |    75.5   |  80.0  |   77.7   |\n",
            "|     VC     |   77.9   |    77.6   |  83.7  |   80.8   |\n",
            "+------------+----------+-----------+--------+----------+\n"
          ]
        }
      ],
      "source": [
        "from prettytable import PrettyTable\n",
        "\n",
        "Table = PrettyTable([\"Algorithms\", \"Accuracy\", \"Precision\", \"Recall\",\"F1_Score\"])\n",
        "\n",
        "\n",
        "Table.add_row([\"NB\", round(nb1*100,1),round(nb2*100,1),round(nb3*100,1),round(nb4*100,1)])\n",
        "Table.add_row([\"LR\", round(lrc1*100,1),round(lrc2*100,1),round(lrc3*100,1),round(lrc4*100,1)])\n",
        "Table.add_row([\"SGD\", round(sgd1*100,1),round(sgd2*100,1),round(sgd3*100,1),round(sgd4*100,1)])\n",
        "Table.add_row([\"GB\", round(xgb1*100,1),round(xgb2*100,1),round(xgb3*100,1),round(xgb4*100,1)])\n",
        "Table.add_row([\"DT\", round(dt1*100,1),round(dt2*100,1),round(dt3*100,1),round(dt4*100,1)])\n",
        "Table.add_row([\"RF\", round(rfc1*100,1),round(rfc2*100,1),round(rfc3*100,1),round(rfc4*100,1)])\n",
        "Table.add_row([\"SVM\", round(svm1*100,1),round(svm2*100,1),round(svm3*100,1),round(svm4*100,1)])\n",
        "Table.add_row([\"VC\", round(ens1*100,1),round(ens2*100,1),round(ens3*100,1),round(ens4*100,1)])\n",
        "print(Table)"
      ]
    },
    {
      "cell_type": "code",
      "execution_count": null,
      "metadata": {
        "colab": {
          "base_uri": "https://localhost:8080/"
        },
        "id": "vN6mFbHGuVDl",
        "outputId": "249904c7-214b-405f-81c6-29d48353789d"
      },
      "outputs": [
        {
          "output_type": "stream",
          "name": "stdout",
          "text": [
            "Looking in indexes: https://pypi.org/simple, https://us-python.pkg.dev/colab-wheels/public/simple/\n",
            "Requirement already satisfied: facebook_page_scraper in /usr/local/lib/python3.10/dist-packages (4.0.3)\n",
            "Requirement already satisfied: webdriver-manager==3.2.2 in /usr/local/lib/python3.10/dist-packages (from facebook_page_scraper) (3.2.2)\n",
            "Requirement already satisfied: selenium-wire==4.3.1 in /usr/local/lib/python3.10/dist-packages (from facebook_page_scraper) (4.3.1)\n",
            "Requirement already satisfied: python-dateutil==2.8.2 in /usr/local/lib/python3.10/dist-packages (from facebook_page_scraper) (2.8.2)\n",
            "Requirement already satisfied: selenium==4.1.0 in /usr/local/lib/python3.10/dist-packages (from facebook_page_scraper) (4.1.0)\n",
            "Requirement already satisfied: six>=1.5 in /usr/local/lib/python3.10/dist-packages (from python-dateutil==2.8.2->facebook_page_scraper) (1.16.0)\n",
            "Requirement already satisfied: trio~=0.17 in /usr/local/lib/python3.10/dist-packages (from selenium==4.1.0->facebook_page_scraper) (0.22.0)\n",
            "Requirement already satisfied: trio-websocket~=0.9 in /usr/local/lib/python3.10/dist-packages (from selenium==4.1.0->facebook_page_scraper) (0.10.2)\n",
            "Requirement already satisfied: urllib3[secure]~=1.26 in /usr/local/lib/python3.10/dist-packages (from selenium==4.1.0->facebook_page_scraper) (1.26.15)\n",
            "Requirement already satisfied: pyparsing>=2.4.2 in /usr/local/lib/python3.10/dist-packages (from selenium-wire==4.3.1->facebook_page_scraper) (3.0.9)\n",
            "Requirement already satisfied: h2>=4.0 in /usr/local/lib/python3.10/dist-packages (from selenium-wire==4.3.1->facebook_page_scraper) (4.1.0)\n",
            "Requirement already satisfied: pysocks>=1.7.1 in /usr/local/lib/python3.10/dist-packages (from selenium-wire==4.3.1->facebook_page_scraper) (1.7.1)\n",
            "Requirement already satisfied: certifi>=2019.9.11 in /usr/local/lib/python3.10/dist-packages (from selenium-wire==4.3.1->facebook_page_scraper) (2022.12.7)\n",
            "Requirement already satisfied: blinker>=1.4 in /usr/local/lib/python3.10/dist-packages (from selenium-wire==4.3.1->facebook_page_scraper) (1.6.2)\n",
            "Requirement already satisfied: kaitaistruct>=0.7 in /usr/local/lib/python3.10/dist-packages (from selenium-wire==4.3.1->facebook_page_scraper) (0.10)\n",
            "Requirement already satisfied: pyOpenSSL>=19.1.0 in /usr/local/lib/python3.10/dist-packages (from selenium-wire==4.3.1->facebook_page_scraper) (22.0.0)\n",
            "Requirement already satisfied: wsproto>=0.14 in /usr/local/lib/python3.10/dist-packages (from selenium-wire==4.3.1->facebook_page_scraper) (1.2.0)\n",
            "Requirement already satisfied: hyperframe>=6.0 in /usr/local/lib/python3.10/dist-packages (from selenium-wire==4.3.1->facebook_page_scraper) (6.0.1)\n",
            "Requirement already satisfied: pyasn1>=0.3.1 in /usr/local/lib/python3.10/dist-packages (from selenium-wire==4.3.1->facebook_page_scraper) (0.5.0)\n",
            "Requirement already satisfied: requests in /usr/local/lib/python3.10/dist-packages (from webdriver-manager==3.2.2->facebook_page_scraper) (2.27.1)\n",
            "Requirement already satisfied: crayons in /usr/local/lib/python3.10/dist-packages (from webdriver-manager==3.2.2->facebook_page_scraper) (0.4.0)\n",
            "Requirement already satisfied: configparser in /usr/local/lib/python3.10/dist-packages (from webdriver-manager==3.2.2->facebook_page_scraper) (5.3.0)\n",
            "Requirement already satisfied: hpack<5,>=4.0 in /usr/local/lib/python3.10/dist-packages (from h2>=4.0->selenium-wire==4.3.1->facebook_page_scraper) (4.0.0)\n",
            "Requirement already satisfied: cryptography>=35.0 in /usr/local/lib/python3.10/dist-packages (from pyOpenSSL>=19.1.0->selenium-wire==4.3.1->facebook_page_scraper) (38.0.4)\n",
            "Requirement already satisfied: idna in /usr/local/lib/python3.10/dist-packages (from trio~=0.17->selenium==4.1.0->facebook_page_scraper) (3.4)\n",
            "Requirement already satisfied: outcome in /usr/local/lib/python3.10/dist-packages (from trio~=0.17->selenium==4.1.0->facebook_page_scraper) (1.2.0)\n",
            "Requirement already satisfied: async-generator>=1.9 in /usr/local/lib/python3.10/dist-packages (from trio~=0.17->selenium==4.1.0->facebook_page_scraper) (1.10)\n",
            "Requirement already satisfied: sortedcontainers in /usr/local/lib/python3.10/dist-packages (from trio~=0.17->selenium==4.1.0->facebook_page_scraper) (2.4.0)\n",
            "Requirement already satisfied: exceptiongroup>=1.0.0rc9 in /usr/local/lib/python3.10/dist-packages (from trio~=0.17->selenium==4.1.0->facebook_page_scraper) (1.1.1)\n",
            "Requirement already satisfied: attrs>=19.2.0 in /usr/local/lib/python3.10/dist-packages (from trio~=0.17->selenium==4.1.0->facebook_page_scraper) (23.1.0)\n",
            "Requirement already satisfied: sniffio in /usr/local/lib/python3.10/dist-packages (from trio~=0.17->selenium==4.1.0->facebook_page_scraper) (1.3.0)\n",
            "Requirement already satisfied: urllib3-secure-extra in /usr/local/lib/python3.10/dist-packages (from urllib3[secure]~=1.26->selenium==4.1.0->facebook_page_scraper) (0.1.0)\n",
            "Requirement already satisfied: h11<1,>=0.9.0 in /usr/local/lib/python3.10/dist-packages (from wsproto>=0.14->selenium-wire==4.3.1->facebook_page_scraper) (0.14.0)\n",
            "Requirement already satisfied: colorama in /usr/local/lib/python3.10/dist-packages (from crayons->webdriver-manager==3.2.2->facebook_page_scraper) (0.4.6)\n",
            "Requirement already satisfied: charset-normalizer~=2.0.0 in /usr/local/lib/python3.10/dist-packages (from requests->webdriver-manager==3.2.2->facebook_page_scraper) (2.0.12)\n",
            "Requirement already satisfied: cffi>=1.12 in /usr/local/lib/python3.10/dist-packages (from cryptography>=35.0->pyOpenSSL>=19.1.0->selenium-wire==4.3.1->facebook_page_scraper) (1.15.1)\n",
            "Requirement already satisfied: pycparser in /usr/local/lib/python3.10/dist-packages (from cffi>=1.12->cryptography>=35.0->pyOpenSSL>=19.1.0->selenium-wire==4.3.1->facebook_page_scraper) (2.21)\n",
            "Looking in indexes: https://pypi.org/simple, https://us-python.pkg.dev/colab-wheels/public/simple/\n",
            "Requirement already satisfied: pyopenssl==22.0.0 in /usr/local/lib/python3.10/dist-packages (22.0.0)\n",
            "Requirement already satisfied: cryptography>=35.0 in /usr/local/lib/python3.10/dist-packages (from pyopenssl==22.0.0) (38.0.4)\n",
            "Requirement already satisfied: cffi>=1.12 in /usr/local/lib/python3.10/dist-packages (from cryptography>=35.0->pyopenssl==22.0.0) (1.15.1)\n",
            "Requirement already satisfied: pycparser in /usr/local/lib/python3.10/dist-packages (from cffi>=1.12->cryptography>=35.0->pyopenssl==22.0.0) (2.21)\n",
            "Looking in indexes: https://pypi.org/simple, https://us-python.pkg.dev/colab-wheels/public/simple/\n",
            "Requirement already satisfied: cryptography==38.0.4 in /usr/local/lib/python3.10/dist-packages (38.0.4)\n",
            "Requirement already satisfied: cffi>=1.12 in /usr/local/lib/python3.10/dist-packages (from cryptography==38.0.4) (1.15.1)\n",
            "Requirement already satisfied: pycparser in /usr/local/lib/python3.10/dist-packages (from cffi>=1.12->cryptography==38.0.4) (2.21)\n",
            "Get:1 http://security.ubuntu.com/ubuntu focal-security InRelease [114 kB]\n",
            "Hit:2 https://developer.download.nvidia.com/compute/cuda/repos/ubuntu2004/x86_64  InRelease\n",
            "Hit:3 https://cloud.r-project.org/bin/linux/ubuntu focal-cran40/ InRelease\n",
            "Hit:4 http://ppa.launchpad.net/c2d4u.team/c2d4u4.0+/ubuntu focal InRelease\n",
            "Hit:5 http://archive.ubuntu.com/ubuntu focal InRelease\n",
            "Hit:6 http://archive.ubuntu.com/ubuntu focal-updates InRelease\n",
            "Hit:7 http://ppa.launchpad.net/cran/libgit2/ubuntu focal InRelease\n",
            "Get:8 http://archive.ubuntu.com/ubuntu focal-backports InRelease [108 kB]\n",
            "Hit:9 http://ppa.launchpad.net/deadsnakes/ppa/ubuntu focal InRelease\n",
            "Hit:10 http://ppa.launchpad.net/graphics-drivers/ppa/ubuntu focal InRelease\n",
            "Hit:11 http://ppa.launchpad.net/ubuntugis/ppa/ubuntu focal InRelease\n",
            "Fetched 222 kB in 3s (84.5 kB/s)\n",
            "Reading package lists... Done\n",
            "Reading package lists... Done\n",
            "Building dependency tree       \n",
            "Reading state information... Done\n",
            "chromium-chromedriver is already the newest version (1:85.0.4183.83-0ubuntu0.20.04.3).\n",
            "0 upgraded, 0 newly installed, 0 to remove and 24 not upgraded.\n",
            "\n",
            "WARNING: apt does not have a stable CLI interface. Use with caution in scripts.\n",
            "\n"
          ]
        }
      ],
      "source": [
        "!pip install facebook_page_scraper\n",
        "!pip install pyopenssl==22.0.0\n",
        "!pip3 install cryptography==38.0.4\n",
        "!apt-get update\n",
        "!apt install chromium-chromedriver\n",
        "! apt install firefox  xvfb > /dev/null\n",
        "! pip3 install  pyvirtualdisplay selenium webdriver_manager  > /dev/null\n",
        "\n"
      ]
    },
    {
      "cell_type": "code",
      "execution_count": null,
      "metadata": {
        "colab": {
          "base_uri": "https://localhost:8080/"
        },
        "id": "bStk3SV9xmZa",
        "outputId": "af7d264c-8383-43d3-cc16-2de8824f3872"
      },
      "outputs": [
        {
          "output_type": "stream",
          "name": "stdout",
          "text": [
            "<facebook_page_scraper.scraper.Facebook_scraper object at 0x7f585d4df070>\n"
          ]
        }
      ],
      "source": [
        "from facebook_page_scraper import Facebook_scraper\n",
        "page_name = \"metaai\"\n",
        "posts_count = 15\n",
        "browser = \"firefox\"\n",
        "proxy = \"IP:PORT\" #if proxy requires authentication then user:password@IP:PORT\n",
        "timeout = 600 #600 seconds\n",
        "headless = True\n",
        "meta_ai = Facebook_scraper(page_name, posts_count, browser, proxy=proxy, timeout=timeout, headless=headless)\n",
        "print(meta_ai)"
      ]
    },
    {
      "cell_type": "code",
      "execution_count": null,
      "metadata": {
        "colab": {
          "base_uri": "https://localhost:8080/"
        },
        "id": "mUkFuaq-vV_R",
        "outputId": "c6562b5e-b49a-468e-c6b6-e742ab03f97e"
      },
      "outputs": [
        {
          "output_type": "stream",
          "name": "stderr",
          "text": [
            "2023-05-06 15:13:56,452 - facebook_page_scraper.driver_initialization - INFO - Using: IP:PORT\n",
            "INFO:facebook_page_scraper.driver_initialization:Using: IP:PORT\n",
            "[WDM] - Driver [/root/.wdm/drivers/geckodriver/linux64/v0.33.0/geckodriver] found in cache\n",
            "INFO:WDM:Driver [/root/.wdm/drivers/geckodriver/linux64/v0.33.0/geckodriver] found in cache\n"
          ]
        },
        {
          "output_type": "stream",
          "name": "stdout",
          "text": [
            "{\"pfbid0vjEnVRrGftxxbTNF3qAKHZUREfQdUXZcpbUxjYkGfBRxnFXdt9QA2XYm8hW5mKm9l\": {\"name\": \"Meta AI\", \"shares\": 0, \"reactions\": {\"likes\": 95, \"loves\": 14, \"wow\": 0, \"cares\": 0, \"sad\": 0, \"angry\": 0, \"haha\": 0}, \"reaction_count\": 109, \"comments\": 0, \"content\": \"Self-supervised learning, or \\\"the dark matter of intelligence\\\", is a key ingredient in many recent AI breakthroughs. In order to lower barriers and help democratize access to this important field of research, we released the SSL Cookbook, a practical guide for researchers working to navigate the intricacies of SSL research and contribute to this important space.We're excited to offer this resource for the community to help more researchers access this space.\", \"posted_on\": \"2023-05-05T17:46:30.587412\", \"video\": [], \"image\": [\"https://scontent.xx.fbcdn.net/v/t39.2365-6/343195068_1321941345018091_9184153495097341883_n.jpg?_nc_cat=109&ccb=1-7&_nc_sid=ad8a9d&_nc_ohc=YH5NU5YCVoAAX9tG7t1&_nc_ht=scontent.xx&stp=c0.5000x0.5000f_dst-jpg_flffffff_p500x261_q75&ur=c97757&oh=00_AfB1O6X2hTAV-wVKUjFyTehxcSNdgDnOlvHu79FFJGQ4wg&oe=645ABBCC\", \"https://static.xx.fbcdn.net/rsrc.php/v3/y9/r/Z-dbClQDXLv.png\"], \"post_url\": \"https://www.facebook.com/MetaAI/posts/pfbid0vjEnVRrGftxxbTNF3qAKHZUREfQdUXZcpbUxjYkGfBRxnFXdt9QA2XYm8hW5mKm9l?__cft__[0]=AZVIf7d3BbDzfwkSqT9PFMXyB1UY_wgj0cwQetJBX5yjDrGB6myE8yzYrUAJhj6g3v-aC1m1DgcfmJPUNsqkLRF_G_RbdX8bbFpO8LtugpGzYNbLtFrZ0jXOhrMiGbEX0-KrcFkcT-7Sj8hIsJan5HUX6MX8HqE4Nfjc8AdJcMnD-bRVTrQjW9NhNVhwsnMZMubZB6BIybXCu8d-yyzBDJDP&__tn__=%2CO%2CP-R\"}, \"pfbid0GC9L1dSkfCJrsDQXByoigMhYA4PMFA4m11vnNTfFKdHfN8yHP7kEDpTstkfUShHHl\": {\"name\": \"Meta AI\", \"shares\": 0, \"reactions\": {\"likes\": 63, \"loves\": 16, \"wow\": 0, \"cares\": 0, \"sad\": 0, \"angry\": 0, \"haha\": 0}, \"reaction_count\": 79, \"comments\": 0, \"content\": \"RSVP to join us and get notified when we go live on May 18th @ 9am PT.AI Infra @Scale is a one-day virtual event featuring a range of speakers from Meta who will unveil the latest AI infrastructure investments and innovations powering Meta's products and services.\", \"posted_on\": \"2023-05-04T14:46:30.822912\", \"video\": [], \"image\": [\"https://scontent-iad3-1.xx.fbcdn.net/v/t39.30808-6/343164137_557245819867874_336306445236802819_n.jpg?stp=dst-jpg_s526x296&_nc_cat=110&ccb=1-7&_nc_sid=340051&_nc_ohc=5jPMAnd7MZYAX-JCokn&_nc_ht=scontent-iad3-1.xx&oh=00_AfDBwxZlV7vpl4_gT1pmb5oKHLWZb2U3vu1SsdDPgGa41w&oe=645BAD08\"], \"post_url\": \"https://www.facebook.com/MetaAI/posts/pfbid0GC9L1dSkfCJrsDQXByoigMhYA4PMFA4m11vnNTfFKdHfN8yHP7kEDpTstkfUShHHl?__cft__[0]=AZUWdsWa4itTuzifJuLpYc7N6jvHxBe9pkUFXZQfNqrSCAsXKfK2WX5RzSeZCseSTXcO7yjbEloSsPpWqyb1WwUl1MxaxbmK3aw9qzJg4EHwj1YUrueour8rhSHgJauXvEIradyaNorWQlbfm8ZhyqT8RrCpgl-pldb9penvXpPk470hddtoCPFO5fwGZ4qGAG_JdftFT17iE0xfycos8Jz2&__tn__=%2CO%2CP-R\"}, \"pfbid02PmphiM7EqxdUXzDpmFpq9voAuJbK2fatSbvS7bsmeN2g6mKmwamiZ4XioJSF6pnQl\": {\"name\": \"Meta AI\", \"shares\": 25, \"reactions\": {\"likes\": 150, \"loves\": 33, \"wow\": 0, \"cares\": 0, \"sad\": 0, \"angry\": 0, \"haha\": 0}, \"reaction_count\": 183, \"comments\": 13, \"content\": \"Do SSL models have a case of Déjà Vu?Read the paper  https://bit.ly/429QwpiIn a new paper, we performed a systematic study of the unintended memorization of image-specific information in SSL models. The work uncovered new, previously unknown risks in SSL models which we refer to as déjà vu memorization. This type of memorization is common to different SSL algorithms, is exacerbated by certain design choices, and cannot be detected by conventional techniques for evaluating representation quality. As part of this work Meta AI researchers suggest new, potential practical mitigation strategies for consideration by others in the field working to build new SSL models.\", \"posted_on\": \"2023-05-03T14:46:31.911890\", \"video\": [], \"image\": [\"https://scontent-iad3-1.xx.fbcdn.net/v/t39.30808-6/344585587_623657722947452_705526035212395002_n.jpg?stp=dst-jpg_p180x540&_nc_cat=110&ccb=1-7&_nc_sid=730e14&_nc_ohc=gJVn3PGNKYMAX904vof&_nc_ht=scontent-iad3-1.xx&oh=00_AfDczgIx8nsx9p0NCHLWqwKhvk8iqvoO6sOKXKWwmtOQxA&oe=645C52B1\"], \"post_url\": \"https://www.facebook.com/MetaAI/posts/pfbid02PmphiM7EqxdUXzDpmFpq9voAuJbK2fatSbvS7bsmeN2g6mKmwamiZ4XioJSF6pnQl?__cft__[0]=AZVGZDNE5TDFyB0dg3vodUBxYoGiitd_H8yPr30mbR7v7Tph-zmV4Tf8-0ML9516xoGNYSj8RP4gtbtrGXfzjOYijRrN6hnByNHdxThMJq7WZBWhaml8YTYXh_O8rinSOv11zFn1Rv3f3N7MgwgLdM-ko1ywbD7zetRtpinsTREXjQ7bpsQRCO73nidOtGpggjYfD7269aO_Awt9LF49SXeN&__tn__=%2CO%2CP-R\"}, \"pfbid02SAdTFwNnoUuHs1dmff2XbkvFzs42GEZwn2SnxjxDnu99r2MeurPJP13JcjaG16aWl\": {\"name\": \"Meta AI\", \"shares\": 0, \"reactions\": {\"likes\": 101, \"loves\": 15, \"wow\": 0, \"cares\": 0, \"sad\": 0, \"angry\": 0, \"haha\": 0}, \"reaction_count\": 116, \"comments\": 19, \"content\": \" Just announced! Join us live on May 18th for AI Infra @Scale, a one-day virtual event sharing a look at the next generation of AI infrastructure and innovations powering Meta’s products and services today and in the future.RSVP \", \"posted_on\": \"2023-04-27T20:53:00\", \"video\": [], \"image\": [\"https://scontent-iad3-1.xx.fbcdn.net/v/t39.30808-6/343164137_557245819867874_336306445236802819_n.jpg?stp=dst-jpg_s526x296&_nc_cat=110&ccb=1-7&_nc_sid=340051&_nc_ohc=5jPMAnd7MZYAX-JCokn&_nc_ht=scontent-iad3-1.xx&oh=00_AfDBwxZlV7vpl4_gT1pmb5oKHLWZb2U3vu1SsdDPgGa41w&oe=645BAD08\"], \"post_url\": \"https://www.facebook.com/MetaAI/posts/pfbid02SAdTFwNnoUuHs1dmff2XbkvFzs42GEZwn2SnxjxDnu99r2MeurPJP13JcjaG16aWl?__cft__[0]=AZU6ZSxGDHWbL3wWGikM3vl4fqEGSH8e0oQH8-0IRhfHTBMc6qMhqYudu7aHU6cEi8BG0Cvx5ZmHZO577VjHx0yVoadQOQUAOQ0hlR091d5nfgbeFASv27sns8LBcqUUba5wYzfXmPEbix4FPQ60GWoKmwMIZ9_wDizPAqtzHemw-Z7QkxJcwsdE3xfofJ5dXtJpA2GFu9FK1vD6g26S9xjM&__tn__=%2CO%2CP-R\"}, \"pfbid02jQSvqMyW2RQKygRz6rc6Gshed6qHxAxQdmWe643k3y2vwRpGmPMH47z8ZSMY9YXJl\": {\"name\": \"Meta AI\", \"shares\": 122, \"reactions\": {\"likes\": 360, \"loves\": 67, \"wow\": 0, \"cares\": 0, \"sad\": 0, \"angry\": 0, \"haha\": 0}, \"reaction_count\": 427, \"comments\": 33, \"content\": \"Today we're releasing DINOv2 — a new state-of-the-art method by Meta AI that uses self-supervised learning to train high-performance computer vision models.Announced by Mark Zuckerberg this morning, models using the DINOv2 method can be trained on any collection of licensed images without requiring additional metadata. On top of this, DINOv2 doesn't require fine-tuning — making it suitable as a backbone for many different types of computer vision tasks.Self-supervised computer vision models like DINOv2 will be useful in a wide variety of applications. For example, Meta collaborated with the World Resources Institute to use AI to map forests, tree by tree, across areas the size of continents. Our self-supervised model was trained on data from forests in North America, but evaluations confirm that it generalizes well and delivers accurate maps in other locations around the world.Learn more about this newly released work  https://bit.ly/3oeaOPLTry the demo  https://bit.ly/3L6ke8V\", \"posted_on\": \"2023-04-17T19:02:00\", \"video\": [\"blob:https://www.facebook.com/cb518999-7709-46d9-821f-99fe6ca4123d\"], \"image\": [\"https://scontent-iad3-1.xx.fbcdn.net/v/t15.5256-10/341505544_3266937666860179_1147848005024566324_n.jpg?stp=dst-jpg_p180x540&_nc_cat=107&ccb=1-7&_nc_sid=ad6a45&_nc_ohc=3rO7-_G_QhEAX8gfIqc&_nc_ht=scontent-iad3-1.xx&oh=00_AfBlkCXCdNldpudiH6VKNhwIv1AWZIlLXUbg0x4T3tDAUA&oe=645B0967\"], \"post_url\": \"https://www.facebook.com/MetaAI/posts/pfbid02jQSvqMyW2RQKygRz6rc6Gshed6qHxAxQdmWe643k3y2vwRpGmPMH47z8ZSMY9YXJl?__cft__[0]=AZUekOC-6PzWOuBtRmgtm-bzaoR-8FRrF8vl1xjJ9EQyadZoBahY3AU8N2FVooOb6oLg2jJe1GYRUVnZqZj5PRXuGvRHEiEKQwsV85kPRV4oan00Z6bO5adpWTAsRy-xDFhbfq_M8f0ZaF8XbKjpHXwMj-ucIaavTh_CvPWlmJvEqCzGIWVgRAvWvLz9pP_lbDXkA04tg-2gODd54-DAdPgy&__tn__=%2CO%2CP-R\"}, \"pfbid0hQgkXkrZPNwJYaZZ8bURM6nKj1b8pqZHmc6HyYbmwCTS4UpXkhvTpMZmkciw5ME8l\": {\"name\": \"Meta AI\", \"shares\": 84, \"reactions\": {\"likes\": 243, \"loves\": 38, \"wow\": 0, \"cares\": 0, \"sad\": 0, \"angry\": 0, \"haha\": 0}, \"reaction_count\": 281, \"comments\": 21, \"content\": \"Drawing as a unique form of human communication is often clear to other humans, but the abstract appearance of amateur art can be challenging for AI models trained on real objects. With the new dataset we're releasing today, researchers and practitioners can build tools to more effectively analyze the contents of amateur drawings.Today, we're open-sourcing our animated drawings code + releasing a first-of-its-kind dataset of nearly 180,000 annotated amateur drawings to help researchers keep innovating in this space.More details on our blog  https://bit.ly/43qVIXqWe're excited for how this work will open new opportunities in areas ranging from storytelling, to accessibility and more.\", \"posted_on\": \"2023-04-13T15:09:00\", \"video\": [\"blob:https://www.facebook.com/1377d62f-945a-4b2d-86b3-ca0fcda1d543\"], \"image\": [\"https://scontent-iad3-1.xx.fbcdn.net/v/t15.5256-10/340826396_1341902803332074_6970849862674314445_n.jpg?stp=dst-jpg_p180x540&_nc_cat=107&ccb=1-7&_nc_sid=ad6a45&_nc_ohc=dJ6ToK3Ahx4AX-aNvqs&_nc_ht=scontent-iad3-1.xx&oh=00_AfB74TpVSk6b6Unm5zQ0_bjlRfdK8qYaLMwese4CfaFb1w&oe=645BEE7B\", \"https://static.xx.fbcdn.net/rsrc.php/v3/y9/r/Z-dbClQDXLv.png\"], \"post_url\": \"https://www.facebook.com/MetaAI/posts/pfbid0hQgkXkrZPNwJYaZZ8bURM6nKj1b8pqZHmc6HyYbmwCTS4UpXkhvTpMZmkciw5ME8l?__cft__[0]=AZVwOUhQjIeiUY2hRd243MQkjgehkZQ4sDGqXdoasBNuHbcydu4sFWkrieYF9BhjnO2nSipyGaMYUQK4qmw60-zJ0Y5xkgLztoV3kF6W3vml1L2mJW-Qt9WE8Xxiqx_oNEzIYSCAVRpWFgGFsOSONgv6ow_9AhnBnRZQjekmD8mQJmLjWn9vLvp_pB11BMDdB5gqIaP_N8dDAv29eSZr2AW2&__tn__=%2CO%2CP-R\"}, \"pfbid0ADBcqkemEHh7T2hp6bEB7KugR5JssFAr6FQSKYGTrweW5a5Wq3d7kQ9Up1Y58BvSl\": {\"name\": \"Meta AI\", \"shares\": 49, \"reactions\": {\"likes\": 194, \"loves\": 22, \"wow\": 0, \"cares\": 0, \"sad\": 0, \"angry\": 0, \"haha\": 0}, \"reaction_count\": 216, \"comments\": 23, \"content\": \"This new model by Meta AI is capable of one-click segmentation and masking any object from any photo or video. Segment Anything Model (SAM) has learned a general notion of what objects are and can generate masks for any object in any image, including types that it didn’t see during training.There's a link to the demo so you can try it yourself in the full post on our bio.We hope this work will help accelerate computer vision research and enable entirely new applications.\", \"posted_on\": \"2023-04-11T17:04:00\", \"video\": [\"blob:https://www.facebook.com/a1ba1d02-68d3-4709-ace3-f2c9eb3d4570\"], \"image\": [\"https://scontent-iad3-2.xx.fbcdn.net/v/t15.5256-10/340918268_1389115961824057_3810649682587741029_n.jpg?stp=dst-jpg_s960x960&_nc_cat=103&ccb=1-7&_nc_sid=ad6a45&_nc_ohc=UN-S5l0ZypIAX8p-fAX&_nc_ht=scontent-iad3-2.xx&oh=00_AfAErp4eBJSDgDh8Z9if-MDX-w_2UZudkp_XIJJg4gzwqA&oe=645B0FD6\"], \"post_url\": \"https://www.facebook.com/MetaAI/posts/pfbid0ADBcqkemEHh7T2hp6bEB7KugR5JssFAr6FQSKYGTrweW5a5Wq3d7kQ9Up1Y58BvSl?__cft__[0]=AZX4Heh3TLKPhZlcFJooJ-7R78wK68179wfYNi7lmW9vmLinDZYpdw9K0io2ZJTuBd4H8jCNtueOdZ72UzPLe9cXtfXm8qgH2BZv77SAMWBW-p0BPdZsZ3UyVwFUwOMolwSvyhfhHwe40BCFFeNAJAo4a-Rh4Pfq2_dhfvAyPEBboMgZqhzNnePE5T3VYcrXBmIKLfRgOkimll0x9rpNsuPU&__tn__=%2CO%2CP-R\"}, \"pfbid0azHBAfD5eJURk37ULVPbUnGH7vbShweVtevGdPeWS1mn5agbz4jvnTDn5zFpUPRfl\": {\"name\": \"Meta AI\", \"shares\": 54, \"reactions\": {\"likes\": 388, \"loves\": 75, \"wow\": 0, \"cares\": 0, \"sad\": 0, \"angry\": 0, \"haha\": 0}, \"reaction_count\": 463, \"comments\": 62, \"content\": \"Knowing that this work is changing the world in fields such as accessibility, sustainability, climate change and so much more is a big part of what drives us to keep pushing the boundaries of what's possible with AI.\", \"posted_on\": \"2023-04-07T17:05:00\", \"video\": [\"blob:https://www.facebook.com/714cfba9-ba77-4428-aae6-1f9938af229b\"], \"image\": [\"https://scontent-iad3-1.xx.fbcdn.net/v/t15.5256-10/339062453_1383510812491728_5056007175780343838_n.jpg?stp=dst-jpg_p180x540&_nc_cat=101&ccb=1-7&_nc_sid=ad6a45&_nc_ohc=-GRt8n6ztIkAX95mKl8&_nc_ht=scontent-iad3-1.xx&oh=00_AfAnVEGbx6fGbI4FQTz8g85qJKyyblO-hfxdIGxFd5KANA&oe=645BF7A0\"], \"post_url\": \"https://www.facebook.com/MetaAI/posts/pfbid0azHBAfD5eJURk37ULVPbUnGH7vbShweVtevGdPeWS1mn5agbz4jvnTDn5zFpUPRfl?__cft__[0]=AZWY0ek6GhSjpC34eFYywC2RpBVBWXjWIIkgu9vpYv8tk8WU1X0ikg7S03AuzrQaKRmu4BrZ-E1cLa58pjjtb3MThTO0XxpD5XbhX4ogj6MI2xkTbp0vfVBQ-2hBX1ExDZ8Uh0NVw-k6boXHksYvLIJygj6hChB7Eyc8k3TU8T1L_ImAL4y1EGHo7tnn_fgj637-uKOAf3oUyeDLQctEWkJ63rFzM2_PxaS4oN6oSkluT-r_eFwANyYpSUFmmpVINCQ&__tn__=%2CO%2CP-R\"}, \"pfbid0H6EjcJTFVZGfbYAXVZfbFDNuAzW6tYDowPZCG3vnEzF72ccLHmsucsgnGkWbpNAEl\": {\"name\": \"Meta AI\", \"shares\": 72, \"reactions\": {\"likes\": 161, \"loves\": 33, \"wow\": 0, \"cares\": 0, \"sad\": 0, \"angry\": 0, \"haha\": 0}, \"reaction_count\": 194, \"comments\": 24, \"content\": \"Segmentation has far-ranging use cases and implications, from creative to geological, scientific and much more. Today we're releasing Segment Anything, an important step toward the first foundation model for image segmentation — and an accompanying dataset to help progress the field.This new model is capable of one-click segmentation and masking any object from any photo or video. While typical segmentation models have been limited to highly specialized and narrow tasks, Segment Anything Model (SAM) has learned a general notion of what objects are and can generate masks for any object in any image, including types that it didn’t see during training.More details  https://bit.ly/3U8FdecTry the demo  https://bit.ly/3KaFFEjIn addition to the new model, we’re releasing a Segment Anything dataset of over 1 billion masks (SA-1B), which is 400x larger than existing segmentation datasets. It was collected using SAM and was also used to train it. Human annotators used the model to interactively annotate images, and this data was used to update the model. We repeated this cycle many times to continuously improve both the model and dataset, ultimately reaching a state where we were able to generate the final version of SA-1B automatically without human feedback.We hope this work will help accelerate computer vision research and enable entirely new applications.\", \"posted_on\": \"2023-04-05T00:00:00\", \"video\": [\"blob:https://www.facebook.com/f547d68b-9aa3-442c-9118-17fc9210654b\"], \"image\": [\"https://scontent-iad3-2.xx.fbcdn.net/v/t15.5256-10/337539254_1619135781846070_4808261077772789360_n.jpg?stp=dst-jpg_p180x540&_nc_cat=105&ccb=1-7&_nc_sid=ad6a45&_nc_ohc=ODjLofBY9iAAX_Lczbz&_nc_ht=scontent-iad3-2.xx&oh=00_AfAqHXskJa7014PZLVWOeQ5824ejo_NpKJWdTb1XVlFfkQ&oe=645B6601\"], \"post_url\": \"https://www.facebook.com/MetaAI/posts/pfbid0H6EjcJTFVZGfbYAXVZfbFDNuAzW6tYDowPZCG3vnEzF72ccLHmsucsgnGkWbpNAEl?__cft__[0]=AZWYBFJpJObJ3Q-yV7L1sgmT4N-k_bge5mrMtVDFH28ggpWEot3y3UENZLPLqOjhwFUCcearMAZ8LxP0XoY24Cv1rubDcEMB8yHEnc0scLqhDKhC9iG7WNXECCgHSVtgT7VjDPS9yKno3DamTVK6qsoHQxtnsQMkg8mfMvX2WFSdU-hkW073bzAtN6fm_X55-xULkqmxofsujsbJCxs2GCq9&__tn__=%2CO%2CP-R\"}, \"pfbid02Qr5BusJn1sit3oEse3Ki2TgR9bCMPBpid1R9dzaCCXamppcHwKoyLiLPeV3VeFwAl\": {\"name\": \"Meta AI\", \"shares\": 25, \"reactions\": {\"likes\": 114, \"loves\": 16, \"wow\": 0, \"cares\": 0, \"sad\": 0, \"angry\": 0, \"haha\": 0}, \"reaction_count\": 130, \"comments\": 18, \"content\": \" New paper: Learning to Read Braille: Bridging the Tactile Reality Gap with Diffusion Models. Together with researchers at University of Washington, we present Tactile Diffusion, the first method to leverage probabilistic diffusion models for narrowing the sim2real gap for vision-based tactile sensing. Tactile diffusion generates from sim depth data tactile images that realistically render the complex illumination changes due to the gel deformation.On real braille reading tasks with a DIGIT sensor, a classifier trained with our diffusion model outperformed classifiers trained with simulation fine-tuned with 4x more real data.Read the full paper  https://bit.ly/3nKchxc\", \"posted_on\": \"2023-04-04T00:00:00\", \"video\": [\"blob:https://www.facebook.com/24cbd4d7-5b54-45e4-a809-a5ded66fe622\"], \"image\": [\"https://scontent-iad3-2.xx.fbcdn.net/v/t15.5256-10/339792056_222330397144336_197603122201078584_n.jpg?stp=dst-jpg_p180x540&_nc_cat=100&ccb=1-7&_nc_sid=ad6a45&_nc_ohc=OjY7UpLSp-AAX9Z4LOB&_nc_ht=scontent-iad3-2.xx&oh=00_AfDc5j_4q7AWdzUbAyPZS7xm4W1Y0Ech7eMCCV5lV-yC4A&oe=645B21FA\", \"https://scontent-iad3-2.xx.fbcdn.net/v/t39.1997-6/47472862_1846683478763869_5271603212267290624_n.png?stp=dst-png_p240x240&_nc_cat=1&ccb=1-7&_nc_sid=0572db&_nc_ohc=SQS69t3fgcYAX8SOpdc&_nc_ht=scontent-iad3-2.xx&oh=00_AfCmeRCquVtFvGMtygO9xbU47q1O8GCAiGLWJrYxVH17vA&oe=645B56FE\"], \"post_url\": \"https://www.facebook.com/MetaAI/posts/pfbid02Qr5BusJn1sit3oEse3Ki2TgR9bCMPBpid1R9dzaCCXamppcHwKoyLiLPeV3VeFwAl?__cft__[0]=AZVCMtUhb87Cop9d-VuRHL1KW_SoFfA7K46XymatzOhxs4qzWhJC41FiV1MV3b5nm6kcL30YBsvpH1uEGbvaB3Z30yMY1a6xCQZSFNNtTBsSdPgVZ9luqZt_9vaIyW_TDDR5SIrZO3VsqDwGiKbcttOzDn0VvXPWpi0cf16Ml0MLJ3QEryqmh93WvwyFahuG9AOAXrX1ROCKe0c3GGsPDTCr&__tn__=%2CO%2CP-R\"}, \"pfbid031naNfoorgNx5n8npnxkRvp9pa5xq23Ny7sJ9v24hA4tN1iQHtbLHr9wzrZ1JoAPQl\": {\"name\": \"Meta AI\", \"shares\": 69, \"reactions\": {\"likes\": 379, \"loves\": 0, \"wow\": 0, \"cares\": 0, \"sad\": 0, \"angry\": 0, \"haha\": 0}, \"reaction_count\": 379, \"comments\": 25, \"content\": \"We announced two major advancements in our work toward general-purpose embodied AI agents that can help form the foundation for embodied intelligence. More details on the Meta AI blog.\", \"posted_on\": \"2023-03-31T00:00:00\", \"video\": [\"blob:https://www.facebook.com/5425471f-0fa7-423b-9b93-ef2b1061d860\"], \"image\": [\"https://scontent-iad3-2.xx.fbcdn.net/v/t15.5256-10/337647332_721613416420601_3031355615129340579_n.jpg?stp=dst-jpg_s960x960&_nc_cat=111&ccb=1-7&_nc_sid=ad6a45&_nc_ohc=FCsDis6hwkYAX8AkwT2&_nc_ht=scontent-iad3-2.xx&oh=00_AfD323wrAfWPL6oNCxR3voBmk2njdsvwdZPf_gzudjShng&oe=645A62CA\", \"https://static.xx.fbcdn.net/rsrc.php/v3/yw/r/8iuTX4LlGZO.png\", \"https://www.facebook.com/\"], \"post_url\": \"https://www.facebook.com/MetaAI/posts/pfbid031naNfoorgNx5n8npnxkRvp9pa5xq23Ny7sJ9v24hA4tN1iQHtbLHr9wzrZ1JoAPQl?__cft__[0]=AZUOmcEEXhZhhDOUecVKwmfxeErsQ0mXWYWXN2SkiGjH2s5xsc2xtZJOxiRHqEbD0zY7fWs2NBuDIQDN9XpL2q2k_vlYg5vhOGdLrZ_IueFv6N4He9hW_R0Ov5KZYqaxeOfO9ZprH4QcQxNpSjGTdWSsAYECGbLy9Aj7OERUoGgDMBJqc4hqrg3i28lP_ohTtkTCOYEozujRLM4FIgoH2bV8&__tn__=%2CO%2CP-R\"}, \"pfbid02WoitVK3UJZyu4hwcpwYFDWoyTxikxs9FQUn4KFwLu4hwqkyLLDQ5eCiNYiQbJxoal\": {\"name\": \"Meta AI\", \"shares\": 159, \"reactions\": {\"likes\": 264, \"loves\": 31, \"wow\": 0, \"cares\": 0, \"sad\": 0, \"angry\": 0, \"haha\": 0}, \"reaction_count\": 295, \"comments\": 29, \"content\": \"Today, we're announcing two major advancements in our work toward general-purpose embodied AI agents that can help form the foundation for embodied intelligence.More details on this new research  https://bit.ly/40vsKUfOptimistic science fiction typically imagines a future where humans create art and pursue fulfilling pastimes while AI-enabled robots handle dull or dangerous tasks. But while we're seeing the use of AI expand quickly in knowledge and creative tasks, robots aren't yet doing our household chores. VC-1 and ASC by Meta AI researchers are taking a step toward robots that can better generalize from human videos & simulated interactions and apply those learnings to real-world tasks.We are optimistic about how these advancements could one day serve as building blocks for AI-powered experiences where virtual assistants and physical robots can assist humans and interact seamlessly with both the virtual and physical world.\", \"posted_on\": \"2023-03-31T00:00:00\", \"video\": [\"blob:https://www.facebook.com/09a4955c-d46e-464a-bb29-196c93c89414\"], \"image\": [\"https://scontent-iad3-1.xx.fbcdn.net/v/t15.5256-10/338738933_2349371695240783_975898390803865771_n.jpg?stp=dst-jpg_p180x540&_nc_cat=107&ccb=1-7&_nc_sid=ad6a45&_nc_ohc=dT09Vy0lSWoAX9Mn_zH&_nc_ht=scontent-iad3-1.xx&oh=00_AfB-v6xLWegIT834Vkurm36fnafSY4k9agmXFe5tgfvw7w&oe=645BCF84\"], \"post_url\": \"https://www.facebook.com/MetaAI/posts/pfbid02WoitVK3UJZyu4hwcpwYFDWoyTxikxs9FQUn4KFwLu4hwqkyLLDQ5eCiNYiQbJxoal?__cft__[0]=AZW8qwa8QyiR_TbIQQ3OUJGnTa76eoiBwStw3UK-ZtVa65N1uKwj7xYur9zVeyho22CMgq7oR3_lrGzIYbDX4LMrY-Qd4K3Tu5Woa1A9LKYX_t9rT8aGr6ZbL8AQRhTSBgV0-yqlCzmlJ2z34ZG2tjaKytOl9EPuY27BqcoMo9EeP1PlzdF87lKOFl3ABFTtmhZnCzpJ2ty-liuWMBVmXSJV&__tn__=%2CO%2CP-R\"}, \"pfbid035w5k6Ng7tX1XR52evkf37PqcHWFtPEZdbkgTxqprPoqFm3sT7ihPntCYUSQNEfDl\": {\"name\": \"Meta AI\", \"shares\": 44, \"reactions\": {\"likes\": 236, \"loves\": 19, \"wow\": 0, \"cares\": 0, \"sad\": 0, \"angry\": 0, \"haha\": 0}, \"reaction_count\": 255, \"comments\": 18, \"content\": \"AI development ecosystems are increasingly complex and challenging to maintain, and companies at Meta's scale need to develop highly efficient systems to build, serve and improve AI models for production applications. We believe many of the techniques outlined in this new post on our blog can be applied broadly and we hope that sharing this work and our learnings will help others find greater efficiencies as they approach this work.\", \"posted_on\": \"2023-03-24T00:00:00\", \"video\": [], \"image\": [\"https://www.facebook.com/\"], \"post_url\": \"https://www.facebook.com/MetaAI/posts/pfbid035w5k6Ng7tX1XR52evkf37PqcHWFtPEZdbkgTxqprPoqFm3sT7ihPntCYUSQNEfDl?__cft__[0]=AZUBEj_994ImAm6XHYb0nfjA-f8JENrr6u7jL0ppYSPTYpYTfndKqtLtzqgMzeSKitWCA0uOMARjMqt4fYzGZ6Cna_XqQPGLv3tdLPuiZeP0Fm9DxC4AU38qMnJaQT94ndt3ZJZK5wmdOjLV_ztGABdoI_PovVO0sjkz6fqUcO0CeQNRhKUBRULIDpeOphVCQis6Dy_1UEM3jDfgccNGiJ6b&__tn__=%2CO%2CP-R\"}, \"pfbid02MgP7UDUxLTx8hJKqi14Vj7TP7DxJedB4nMQw9dBDKx4FK86nNBknxCXK8kQPgfs3l\": {\"name\": \"Meta AI\", \"shares\": 30, \"reactions\": {\"likes\": 261, \"loves\": 25, \"wow\": 0, \"cares\": 0, \"sad\": 0, \"angry\": 0, \"haha\": 0}, \"reaction_count\": 286, \"comments\": 27, \"content\": \"Newly published in Science Magazine today — Meta AI researchers developed a breakthrough model for protein folding by using a large language model that can accelerate folding by up to 60x — with the potential to aid work in medicine, green chemistry, renewable energy & more.Additionally today, using this model and thanks to the latest additions to the MGnify database by European Bioinformatics Institute (EMBL-EBI), we're excited to share that we’ve expanded the ESM Atlas from 617M predicted protein structures to 740M+ by computationally folding the additional sequences in just 6 days using spare capacity in our GPU cluster. We're excited to share these with the scientific community and can't wait to see what others in the field are able to do with this expanded resource in this ever-important space.\", \"posted_on\": \"2023-03-17T00:00:00\", \"video\": [], \"image\": [\"https://external-iad3-2.xx.fbcdn.net/emg1/v/t13/10056304650692282424?url=https%3A%2F%2Fwww.science.org%2Fcms%2Fasset%2F0e8a1fa5-4590-4a9b-b92e-85ca7dda4817%2Fkeyimage.gif&fb_obo=1&utld=science.org&stp=c0.5000x0.5000f_dst-jpg_flffffff_p500x261_q75&ccb=13-1&oh=06_AbGWKCeHQsfx7mHbCxkumcJPQPOzbrO_cxRWAAAkHC3_jQ&oe=6457CCAA&_nc_sid=aeaded\"], \"post_url\": \"https://www.facebook.com/MetaAI/posts/pfbid02MgP7UDUxLTx8hJKqi14Vj7TP7DxJedB4nMQw9dBDKx4FK86nNBknxCXK8kQPgfs3l?__cft__[0]=AZX81rxs73mLkkh0aWF26TpJrZTD64mc5mfB5zoE5IgfgAkFudIyHBPmPn8smDjBgT5vrQApyzIF8bOgiHzY59Qsi_lZ4Hp8j8o2Fzi10OzGYqtpEWeyP878v7YIjLYRLIxRhbVSz_NOefJDwQxz7_lWsrtvysqFd8DzMAtSeZhams4hm4_08H4b_7C5a6wZDN5UPUiSXwgfEy5xxkngJwIA&__tn__=%2CO%2CP-R\"}, \"pfbid023KUTk14ZodAZQCP4v2xUJaeQidHZqwQttpcJ8W5yEFyNYK37N1esyCJ9aaDij2d7l\": {\"name\": \"Meta AI\", \"shares\": 39, \"reactions\": {\"likes\": 127, \"loves\": 15, \"wow\": 0, \"cares\": 0, \"sad\": 0, \"angry\": 0, \"haha\": 0}, \"reaction_count\": 142, \"comments\": 18, \"content\": \"Today we’re open-sourcing Casual Conversations v2.To evaluate fairness rigorously in applications like computer vision and speech recognition, AI researchers need data that shows how well a model works for different demographic groups. We released Casual Conversations in 2021 as the first consent-driven data set that includes self-identified categories of participants having video conversations. With today’s release of Casual Conversations v2, we’re introducing a new dataset to include a broader and more granular list of self-identified and annotated categories, plus the inclusion of recordings from seven countries.With a more diverse data set, researchers can fine-tune AI models even further, with greater opportunities to evaluate fairness when it comes to categories such as language, voice timbre and more. More info on the work that went into this updated dataset in this new post on the Meta AI blog  https://bit.ly/41VFG7a\", \"posted_on\": \"2023-03-09T00:00:00\", \"video\": [\"blob:https://www.facebook.com/afc7695c-59e5-462f-a9c3-53b73f7074d5\"], \"image\": [\"https://scontent-iad3-2.xx.fbcdn.net/v/t15.5256-10/334563816_167771406113734_4567055150261609340_n.jpg?stp=dst-jpg_p180x540&_nc_cat=103&ccb=1-7&_nc_sid=ad6a45&_nc_ohc=-u3YLsPNQCoAX_72kX_&_nc_ht=scontent-iad3-2.xx&oh=00_AfBm_26QLJjDL6_4WrM5hZA7T1flWrU6Dslmh6PlhNWVhA&oe=645BFEA0\"], \"post_url\": \"https://www.facebook.com/MetaAI/posts/pfbid023KUTk14ZodAZQCP4v2xUJaeQidHZqwQttpcJ8W5yEFyNYK37N1esyCJ9aaDij2d7l?__cft__[0]=AZWxXnsseF-utnbcgAp_Rqu3a2BmoH6QKXb3Dmksi4MMT3yRkmoSmswDJHdZCSi6H54eus7mVvd72CzY8OZX0K3eGxLgzJA1o2-SvU7hLb3zgzj93eT0kFgd2BFiov-HsPSEHjSyoKzSZRzbV5zjhQrFZF0mQdbQ-zB1mHFcn570Yn4nBBgPAP4Z--rb93RecvadbJ3E5VMtAK6oPHSt9iUc&__tn__=%2CO%2CP-R\"}}\n"
          ]
        }
      ],
      "source": [
        "json_data = meta_ai.scrap_to_json()\n",
        "print(json_data)"
      ]
    },
    {
      "cell_type": "code",
      "execution_count": null,
      "metadata": {
        "colab": {
          "base_uri": "https://localhost:8080/"
        },
        "id": "h3XEN6KY0Wyd",
        "outputId": "a184537f-736a-412d-a4b4-8753deda140d"
      },
      "outputs": [
        {
          "output_type": "stream",
          "name": "stdout",
          "text": [
            "<class 'str'>\n"
          ]
        }
      ],
      "source": [
        "print(type(json_data))"
      ]
    },
    {
      "cell_type": "code",
      "execution_count": null,
      "metadata": {
        "colab": {
          "base_uri": "https://localhost:8080/"
        },
        "id": "rjtHlvuG0aJD",
        "outputId": "6147eb6f-2bf0-4d2a-bd11-e58e2ac1d9b1"
      },
      "outputs": [
        {
          "output_type": "stream",
          "name": "stdout",
          "text": [
            "{'pfbid0vjEnVRrGftxxbTNF3qAKHZUREfQdUXZcpbUxjYkGfBRxnFXdt9QA2XYm8hW5mKm9l': {'name': 'Meta AI', 'shares': 0, 'reactions': {'likes': 95, 'loves': 14, 'wow': 0, 'cares': 0, 'sad': 0, 'angry': 0, 'haha': 0}, 'reaction_count': 109, 'comments': 0, 'content': 'Self-supervised learning, or \"the dark matter of intelligence\", is a key ingredient in many recent AI breakthroughs. In order to lower barriers and help democratize access to this important field of research, we released the SSL Cookbook, a practical guide for researchers working to navigate the intricacies of SSL research and contribute to this important space.We\\'re excited to offer this resource for the community to help more researchers access this space.', 'posted_on': '2023-05-05T17:46:30.587412', 'video': [], 'image': ['https://scontent.xx.fbcdn.net/v/t39.2365-6/343195068_1321941345018091_9184153495097341883_n.jpg?_nc_cat=109&ccb=1-7&_nc_sid=ad8a9d&_nc_ohc=YH5NU5YCVoAAX9tG7t1&_nc_ht=scontent.xx&stp=c0.5000x0.5000f_dst-jpg_flffffff_p500x261_q75&ur=c97757&oh=00_AfB1O6X2hTAV-wVKUjFyTehxcSNdgDnOlvHu79FFJGQ4wg&oe=645ABBCC', 'https://static.xx.fbcdn.net/rsrc.php/v3/y9/r/Z-dbClQDXLv.png'], 'post_url': 'https://www.facebook.com/MetaAI/posts/pfbid0vjEnVRrGftxxbTNF3qAKHZUREfQdUXZcpbUxjYkGfBRxnFXdt9QA2XYm8hW5mKm9l?__cft__[0]=AZVIf7d3BbDzfwkSqT9PFMXyB1UY_wgj0cwQetJBX5yjDrGB6myE8yzYrUAJhj6g3v-aC1m1DgcfmJPUNsqkLRF_G_RbdX8bbFpO8LtugpGzYNbLtFrZ0jXOhrMiGbEX0-KrcFkcT-7Sj8hIsJan5HUX6MX8HqE4Nfjc8AdJcMnD-bRVTrQjW9NhNVhwsnMZMubZB6BIybXCu8d-yyzBDJDP&__tn__=%2CO%2CP-R'}, 'pfbid0GC9L1dSkfCJrsDQXByoigMhYA4PMFA4m11vnNTfFKdHfN8yHP7kEDpTstkfUShHHl': {'name': 'Meta AI', 'shares': 0, 'reactions': {'likes': 63, 'loves': 16, 'wow': 0, 'cares': 0, 'sad': 0, 'angry': 0, 'haha': 0}, 'reaction_count': 79, 'comments': 0, 'content': \"RSVP to join us and get notified when we go live on May 18th @ 9am PT.AI Infra @Scale is a one-day virtual event featuring a range of speakers from Meta who will unveil the latest AI infrastructure investments and innovations powering Meta's products and services.\", 'posted_on': '2023-05-04T14:46:30.822912', 'video': [], 'image': ['https://scontent-iad3-1.xx.fbcdn.net/v/t39.30808-6/343164137_557245819867874_336306445236802819_n.jpg?stp=dst-jpg_s526x296&_nc_cat=110&ccb=1-7&_nc_sid=340051&_nc_ohc=5jPMAnd7MZYAX-JCokn&_nc_ht=scontent-iad3-1.xx&oh=00_AfDBwxZlV7vpl4_gT1pmb5oKHLWZb2U3vu1SsdDPgGa41w&oe=645BAD08'], 'post_url': 'https://www.facebook.com/MetaAI/posts/pfbid0GC9L1dSkfCJrsDQXByoigMhYA4PMFA4m11vnNTfFKdHfN8yHP7kEDpTstkfUShHHl?__cft__[0]=AZUWdsWa4itTuzifJuLpYc7N6jvHxBe9pkUFXZQfNqrSCAsXKfK2WX5RzSeZCseSTXcO7yjbEloSsPpWqyb1WwUl1MxaxbmK3aw9qzJg4EHwj1YUrueour8rhSHgJauXvEIradyaNorWQlbfm8ZhyqT8RrCpgl-pldb9penvXpPk470hddtoCPFO5fwGZ4qGAG_JdftFT17iE0xfycos8Jz2&__tn__=%2CO%2CP-R'}, 'pfbid02PmphiM7EqxdUXzDpmFpq9voAuJbK2fatSbvS7bsmeN2g6mKmwamiZ4XioJSF6pnQl': {'name': 'Meta AI', 'shares': 25, 'reactions': {'likes': 150, 'loves': 33, 'wow': 0, 'cares': 0, 'sad': 0, 'angry': 0, 'haha': 0}, 'reaction_count': 183, 'comments': 13, 'content': 'Do SSL models have a case of Déjà Vu?Read the paper  https://bit.ly/429QwpiIn a new paper, we performed a systematic study of the unintended memorization of image-specific information in SSL models. The work uncovered new, previously unknown risks in SSL models which we refer to as déjà vu memorization. This type of memorization is common to different SSL algorithms, is exacerbated by certain design choices, and cannot be detected by conventional techniques for evaluating representation quality. As part of this work Meta AI researchers suggest new, potential practical mitigation strategies for consideration by others in the field working to build new SSL models.', 'posted_on': '2023-05-03T14:46:31.911890', 'video': [], 'image': ['https://scontent-iad3-1.xx.fbcdn.net/v/t39.30808-6/344585587_623657722947452_705526035212395002_n.jpg?stp=dst-jpg_p180x540&_nc_cat=110&ccb=1-7&_nc_sid=730e14&_nc_ohc=gJVn3PGNKYMAX904vof&_nc_ht=scontent-iad3-1.xx&oh=00_AfDczgIx8nsx9p0NCHLWqwKhvk8iqvoO6sOKXKWwmtOQxA&oe=645C52B1'], 'post_url': 'https://www.facebook.com/MetaAI/posts/pfbid02PmphiM7EqxdUXzDpmFpq9voAuJbK2fatSbvS7bsmeN2g6mKmwamiZ4XioJSF6pnQl?__cft__[0]=AZVGZDNE5TDFyB0dg3vodUBxYoGiitd_H8yPr30mbR7v7Tph-zmV4Tf8-0ML9516xoGNYSj8RP4gtbtrGXfzjOYijRrN6hnByNHdxThMJq7WZBWhaml8YTYXh_O8rinSOv11zFn1Rv3f3N7MgwgLdM-ko1ywbD7zetRtpinsTREXjQ7bpsQRCO73nidOtGpggjYfD7269aO_Awt9LF49SXeN&__tn__=%2CO%2CP-R'}, 'pfbid02SAdTFwNnoUuHs1dmff2XbkvFzs42GEZwn2SnxjxDnu99r2MeurPJP13JcjaG16aWl': {'name': 'Meta AI', 'shares': 0, 'reactions': {'likes': 101, 'loves': 15, 'wow': 0, 'cares': 0, 'sad': 0, 'angry': 0, 'haha': 0}, 'reaction_count': 116, 'comments': 19, 'content': ' Just announced! Join us live on May 18th for AI Infra @Scale, a one-day virtual event sharing a look at the next generation of AI infrastructure and innovations powering Meta’s products and services today and in the future.RSVP ', 'posted_on': '2023-04-27T20:53:00', 'video': [], 'image': ['https://scontent-iad3-1.xx.fbcdn.net/v/t39.30808-6/343164137_557245819867874_336306445236802819_n.jpg?stp=dst-jpg_s526x296&_nc_cat=110&ccb=1-7&_nc_sid=340051&_nc_ohc=5jPMAnd7MZYAX-JCokn&_nc_ht=scontent-iad3-1.xx&oh=00_AfDBwxZlV7vpl4_gT1pmb5oKHLWZb2U3vu1SsdDPgGa41w&oe=645BAD08'], 'post_url': 'https://www.facebook.com/MetaAI/posts/pfbid02SAdTFwNnoUuHs1dmff2XbkvFzs42GEZwn2SnxjxDnu99r2MeurPJP13JcjaG16aWl?__cft__[0]=AZU6ZSxGDHWbL3wWGikM3vl4fqEGSH8e0oQH8-0IRhfHTBMc6qMhqYudu7aHU6cEi8BG0Cvx5ZmHZO577VjHx0yVoadQOQUAOQ0hlR091d5nfgbeFASv27sns8LBcqUUba5wYzfXmPEbix4FPQ60GWoKmwMIZ9_wDizPAqtzHemw-Z7QkxJcwsdE3xfofJ5dXtJpA2GFu9FK1vD6g26S9xjM&__tn__=%2CO%2CP-R'}, 'pfbid02jQSvqMyW2RQKygRz6rc6Gshed6qHxAxQdmWe643k3y2vwRpGmPMH47z8ZSMY9YXJl': {'name': 'Meta AI', 'shares': 122, 'reactions': {'likes': 360, 'loves': 67, 'wow': 0, 'cares': 0, 'sad': 0, 'angry': 0, 'haha': 0}, 'reaction_count': 427, 'comments': 33, 'content': \"Today we're releasing DINOv2 — a new state-of-the-art method by Meta AI that uses self-supervised learning to train high-performance computer vision models.Announced by Mark Zuckerberg this morning, models using the DINOv2 method can be trained on any collection of licensed images without requiring additional metadata. On top of this, DINOv2 doesn't require fine-tuning — making it suitable as a backbone for many different types of computer vision tasks.Self-supervised computer vision models like DINOv2 will be useful in a wide variety of applications. For example, Meta collaborated with the World Resources Institute to use AI to map forests, tree by tree, across areas the size of continents. Our self-supervised model was trained on data from forests in North America, but evaluations confirm that it generalizes well and delivers accurate maps in other locations around the world.Learn more about this newly released work  https://bit.ly/3oeaOPLTry the demo  https://bit.ly/3L6ke8V\", 'posted_on': '2023-04-17T19:02:00', 'video': ['blob:https://www.facebook.com/cb518999-7709-46d9-821f-99fe6ca4123d'], 'image': ['https://scontent-iad3-1.xx.fbcdn.net/v/t15.5256-10/341505544_3266937666860179_1147848005024566324_n.jpg?stp=dst-jpg_p180x540&_nc_cat=107&ccb=1-7&_nc_sid=ad6a45&_nc_ohc=3rO7-_G_QhEAX8gfIqc&_nc_ht=scontent-iad3-1.xx&oh=00_AfBlkCXCdNldpudiH6VKNhwIv1AWZIlLXUbg0x4T3tDAUA&oe=645B0967'], 'post_url': 'https://www.facebook.com/MetaAI/posts/pfbid02jQSvqMyW2RQKygRz6rc6Gshed6qHxAxQdmWe643k3y2vwRpGmPMH47z8ZSMY9YXJl?__cft__[0]=AZUekOC-6PzWOuBtRmgtm-bzaoR-8FRrF8vl1xjJ9EQyadZoBahY3AU8N2FVooOb6oLg2jJe1GYRUVnZqZj5PRXuGvRHEiEKQwsV85kPRV4oan00Z6bO5adpWTAsRy-xDFhbfq_M8f0ZaF8XbKjpHXwMj-ucIaavTh_CvPWlmJvEqCzGIWVgRAvWvLz9pP_lbDXkA04tg-2gODd54-DAdPgy&__tn__=%2CO%2CP-R'}, 'pfbid0hQgkXkrZPNwJYaZZ8bURM6nKj1b8pqZHmc6HyYbmwCTS4UpXkhvTpMZmkciw5ME8l': {'name': 'Meta AI', 'shares': 84, 'reactions': {'likes': 243, 'loves': 38, 'wow': 0, 'cares': 0, 'sad': 0, 'angry': 0, 'haha': 0}, 'reaction_count': 281, 'comments': 21, 'content': \"Drawing as a unique form of human communication is often clear to other humans, but the abstract appearance of amateur art can be challenging for AI models trained on real objects. With the new dataset we're releasing today, researchers and practitioners can build tools to more effectively analyze the contents of amateur drawings.Today, we're open-sourcing our animated drawings code + releasing a first-of-its-kind dataset of nearly 180,000 annotated amateur drawings to help researchers keep innovating in this space.More details on our blog  https://bit.ly/43qVIXqWe're excited for how this work will open new opportunities in areas ranging from storytelling, to accessibility and more.\", 'posted_on': '2023-04-13T15:09:00', 'video': ['blob:https://www.facebook.com/1377d62f-945a-4b2d-86b3-ca0fcda1d543'], 'image': ['https://scontent-iad3-1.xx.fbcdn.net/v/t15.5256-10/340826396_1341902803332074_6970849862674314445_n.jpg?stp=dst-jpg_p180x540&_nc_cat=107&ccb=1-7&_nc_sid=ad6a45&_nc_ohc=dJ6ToK3Ahx4AX-aNvqs&_nc_ht=scontent-iad3-1.xx&oh=00_AfB74TpVSk6b6Unm5zQ0_bjlRfdK8qYaLMwese4CfaFb1w&oe=645BEE7B', 'https://static.xx.fbcdn.net/rsrc.php/v3/y9/r/Z-dbClQDXLv.png'], 'post_url': 'https://www.facebook.com/MetaAI/posts/pfbid0hQgkXkrZPNwJYaZZ8bURM6nKj1b8pqZHmc6HyYbmwCTS4UpXkhvTpMZmkciw5ME8l?__cft__[0]=AZVwOUhQjIeiUY2hRd243MQkjgehkZQ4sDGqXdoasBNuHbcydu4sFWkrieYF9BhjnO2nSipyGaMYUQK4qmw60-zJ0Y5xkgLztoV3kF6W3vml1L2mJW-Qt9WE8Xxiqx_oNEzIYSCAVRpWFgGFsOSONgv6ow_9AhnBnRZQjekmD8mQJmLjWn9vLvp_pB11BMDdB5gqIaP_N8dDAv29eSZr2AW2&__tn__=%2CO%2CP-R'}, 'pfbid0ADBcqkemEHh7T2hp6bEB7KugR5JssFAr6FQSKYGTrweW5a5Wq3d7kQ9Up1Y58BvSl': {'name': 'Meta AI', 'shares': 49, 'reactions': {'likes': 194, 'loves': 22, 'wow': 0, 'cares': 0, 'sad': 0, 'angry': 0, 'haha': 0}, 'reaction_count': 216, 'comments': 23, 'content': \"This new model by Meta AI is capable of one-click segmentation and masking any object from any photo or video. Segment Anything Model (SAM) has learned a general notion of what objects are and can generate masks for any object in any image, including types that it didn’t see during training.There's a link to the demo so you can try it yourself in the full post on our bio.We hope this work will help accelerate computer vision research and enable entirely new applications.\", 'posted_on': '2023-04-11T17:04:00', 'video': ['blob:https://www.facebook.com/a1ba1d02-68d3-4709-ace3-f2c9eb3d4570'], 'image': ['https://scontent-iad3-2.xx.fbcdn.net/v/t15.5256-10/340918268_1389115961824057_3810649682587741029_n.jpg?stp=dst-jpg_s960x960&_nc_cat=103&ccb=1-7&_nc_sid=ad6a45&_nc_ohc=UN-S5l0ZypIAX8p-fAX&_nc_ht=scontent-iad3-2.xx&oh=00_AfAErp4eBJSDgDh8Z9if-MDX-w_2UZudkp_XIJJg4gzwqA&oe=645B0FD6'], 'post_url': 'https://www.facebook.com/MetaAI/posts/pfbid0ADBcqkemEHh7T2hp6bEB7KugR5JssFAr6FQSKYGTrweW5a5Wq3d7kQ9Up1Y58BvSl?__cft__[0]=AZX4Heh3TLKPhZlcFJooJ-7R78wK68179wfYNi7lmW9vmLinDZYpdw9K0io2ZJTuBd4H8jCNtueOdZ72UzPLe9cXtfXm8qgH2BZv77SAMWBW-p0BPdZsZ3UyVwFUwOMolwSvyhfhHwe40BCFFeNAJAo4a-Rh4Pfq2_dhfvAyPEBboMgZqhzNnePE5T3VYcrXBmIKLfRgOkimll0x9rpNsuPU&__tn__=%2CO%2CP-R'}, 'pfbid0azHBAfD5eJURk37ULVPbUnGH7vbShweVtevGdPeWS1mn5agbz4jvnTDn5zFpUPRfl': {'name': 'Meta AI', 'shares': 54, 'reactions': {'likes': 388, 'loves': 75, 'wow': 0, 'cares': 0, 'sad': 0, 'angry': 0, 'haha': 0}, 'reaction_count': 463, 'comments': 62, 'content': \"Knowing that this work is changing the world in fields such as accessibility, sustainability, climate change and so much more is a big part of what drives us to keep pushing the boundaries of what's possible with AI.\", 'posted_on': '2023-04-07T17:05:00', 'video': ['blob:https://www.facebook.com/714cfba9-ba77-4428-aae6-1f9938af229b'], 'image': ['https://scontent-iad3-1.xx.fbcdn.net/v/t15.5256-10/339062453_1383510812491728_5056007175780343838_n.jpg?stp=dst-jpg_p180x540&_nc_cat=101&ccb=1-7&_nc_sid=ad6a45&_nc_ohc=-GRt8n6ztIkAX95mKl8&_nc_ht=scontent-iad3-1.xx&oh=00_AfAnVEGbx6fGbI4FQTz8g85qJKyyblO-hfxdIGxFd5KANA&oe=645BF7A0'], 'post_url': 'https://www.facebook.com/MetaAI/posts/pfbid0azHBAfD5eJURk37ULVPbUnGH7vbShweVtevGdPeWS1mn5agbz4jvnTDn5zFpUPRfl?__cft__[0]=AZWY0ek6GhSjpC34eFYywC2RpBVBWXjWIIkgu9vpYv8tk8WU1X0ikg7S03AuzrQaKRmu4BrZ-E1cLa58pjjtb3MThTO0XxpD5XbhX4ogj6MI2xkTbp0vfVBQ-2hBX1ExDZ8Uh0NVw-k6boXHksYvLIJygj6hChB7Eyc8k3TU8T1L_ImAL4y1EGHo7tnn_fgj637-uKOAf3oUyeDLQctEWkJ63rFzM2_PxaS4oN6oSkluT-r_eFwANyYpSUFmmpVINCQ&__tn__=%2CO%2CP-R'}, 'pfbid0H6EjcJTFVZGfbYAXVZfbFDNuAzW6tYDowPZCG3vnEzF72ccLHmsucsgnGkWbpNAEl': {'name': 'Meta AI', 'shares': 72, 'reactions': {'likes': 161, 'loves': 33, 'wow': 0, 'cares': 0, 'sad': 0, 'angry': 0, 'haha': 0}, 'reaction_count': 194, 'comments': 24, 'content': \"Segmentation has far-ranging use cases and implications, from creative to geological, scientific and much more. Today we're releasing Segment Anything, an important step toward the first foundation model for image segmentation — and an accompanying dataset to help progress the field.This new model is capable of one-click segmentation and masking any object from any photo or video. While typical segmentation models have been limited to highly specialized and narrow tasks, Segment Anything Model (SAM) has learned a general notion of what objects are and can generate masks for any object in any image, including types that it didn’t see during training.More details  https://bit.ly/3U8FdecTry the demo  https://bit.ly/3KaFFEjIn addition to the new model, we’re releasing a Segment Anything dataset of over 1 billion masks (SA-1B), which is 400x larger than existing segmentation datasets. It was collected using SAM and was also used to train it. Human annotators used the model to interactively annotate images, and this data was used to update the model. We repeated this cycle many times to continuously improve both the model and dataset, ultimately reaching a state where we were able to generate the final version of SA-1B automatically without human feedback.We hope this work will help accelerate computer vision research and enable entirely new applications.\", 'posted_on': '2023-04-05T00:00:00', 'video': ['blob:https://www.facebook.com/f547d68b-9aa3-442c-9118-17fc9210654b'], 'image': ['https://scontent-iad3-2.xx.fbcdn.net/v/t15.5256-10/337539254_1619135781846070_4808261077772789360_n.jpg?stp=dst-jpg_p180x540&_nc_cat=105&ccb=1-7&_nc_sid=ad6a45&_nc_ohc=ODjLofBY9iAAX_Lczbz&_nc_ht=scontent-iad3-2.xx&oh=00_AfAqHXskJa7014PZLVWOeQ5824ejo_NpKJWdTb1XVlFfkQ&oe=645B6601'], 'post_url': 'https://www.facebook.com/MetaAI/posts/pfbid0H6EjcJTFVZGfbYAXVZfbFDNuAzW6tYDowPZCG3vnEzF72ccLHmsucsgnGkWbpNAEl?__cft__[0]=AZWYBFJpJObJ3Q-yV7L1sgmT4N-k_bge5mrMtVDFH28ggpWEot3y3UENZLPLqOjhwFUCcearMAZ8LxP0XoY24Cv1rubDcEMB8yHEnc0scLqhDKhC9iG7WNXECCgHSVtgT7VjDPS9yKno3DamTVK6qsoHQxtnsQMkg8mfMvX2WFSdU-hkW073bzAtN6fm_X55-xULkqmxofsujsbJCxs2GCq9&__tn__=%2CO%2CP-R'}, 'pfbid02Qr5BusJn1sit3oEse3Ki2TgR9bCMPBpid1R9dzaCCXamppcHwKoyLiLPeV3VeFwAl': {'name': 'Meta AI', 'shares': 25, 'reactions': {'likes': 114, 'loves': 16, 'wow': 0, 'cares': 0, 'sad': 0, 'angry': 0, 'haha': 0}, 'reaction_count': 130, 'comments': 18, 'content': ' New paper: Learning to Read Braille: Bridging the Tactile Reality Gap with Diffusion Models. Together with researchers at University of Washington, we present Tactile Diffusion, the first method to leverage probabilistic diffusion models for narrowing the sim2real gap for vision-based tactile sensing. Tactile diffusion generates from sim depth data tactile images that realistically render the complex illumination changes due to the gel deformation.On real braille reading tasks with a DIGIT sensor, a classifier trained with our diffusion model outperformed classifiers trained with simulation fine-tuned with 4x more real data.Read the full paper  https://bit.ly/3nKchxc', 'posted_on': '2023-04-04T00:00:00', 'video': ['blob:https://www.facebook.com/24cbd4d7-5b54-45e4-a809-a5ded66fe622'], 'image': ['https://scontent-iad3-2.xx.fbcdn.net/v/t15.5256-10/339792056_222330397144336_197603122201078584_n.jpg?stp=dst-jpg_p180x540&_nc_cat=100&ccb=1-7&_nc_sid=ad6a45&_nc_ohc=OjY7UpLSp-AAX9Z4LOB&_nc_ht=scontent-iad3-2.xx&oh=00_AfDc5j_4q7AWdzUbAyPZS7xm4W1Y0Ech7eMCCV5lV-yC4A&oe=645B21FA', 'https://scontent-iad3-2.xx.fbcdn.net/v/t39.1997-6/47472862_1846683478763869_5271603212267290624_n.png?stp=dst-png_p240x240&_nc_cat=1&ccb=1-7&_nc_sid=0572db&_nc_ohc=SQS69t3fgcYAX8SOpdc&_nc_ht=scontent-iad3-2.xx&oh=00_AfCmeRCquVtFvGMtygO9xbU47q1O8GCAiGLWJrYxVH17vA&oe=645B56FE'], 'post_url': 'https://www.facebook.com/MetaAI/posts/pfbid02Qr5BusJn1sit3oEse3Ki2TgR9bCMPBpid1R9dzaCCXamppcHwKoyLiLPeV3VeFwAl?__cft__[0]=AZVCMtUhb87Cop9d-VuRHL1KW_SoFfA7K46XymatzOhxs4qzWhJC41FiV1MV3b5nm6kcL30YBsvpH1uEGbvaB3Z30yMY1a6xCQZSFNNtTBsSdPgVZ9luqZt_9vaIyW_TDDR5SIrZO3VsqDwGiKbcttOzDn0VvXPWpi0cf16Ml0MLJ3QEryqmh93WvwyFahuG9AOAXrX1ROCKe0c3GGsPDTCr&__tn__=%2CO%2CP-R'}, 'pfbid031naNfoorgNx5n8npnxkRvp9pa5xq23Ny7sJ9v24hA4tN1iQHtbLHr9wzrZ1JoAPQl': {'name': 'Meta AI', 'shares': 69, 'reactions': {'likes': 379, 'loves': 0, 'wow': 0, 'cares': 0, 'sad': 0, 'angry': 0, 'haha': 0}, 'reaction_count': 379, 'comments': 25, 'content': 'We announced two major advancements in our work toward general-purpose embodied AI agents that can help form the foundation for embodied intelligence. More details on the Meta AI blog.', 'posted_on': '2023-03-31T00:00:00', 'video': ['blob:https://www.facebook.com/5425471f-0fa7-423b-9b93-ef2b1061d860'], 'image': ['https://scontent-iad3-2.xx.fbcdn.net/v/t15.5256-10/337647332_721613416420601_3031355615129340579_n.jpg?stp=dst-jpg_s960x960&_nc_cat=111&ccb=1-7&_nc_sid=ad6a45&_nc_ohc=FCsDis6hwkYAX8AkwT2&_nc_ht=scontent-iad3-2.xx&oh=00_AfD323wrAfWPL6oNCxR3voBmk2njdsvwdZPf_gzudjShng&oe=645A62CA', 'https://static.xx.fbcdn.net/rsrc.php/v3/yw/r/8iuTX4LlGZO.png', 'https://www.facebook.com/'], 'post_url': 'https://www.facebook.com/MetaAI/posts/pfbid031naNfoorgNx5n8npnxkRvp9pa5xq23Ny7sJ9v24hA4tN1iQHtbLHr9wzrZ1JoAPQl?__cft__[0]=AZUOmcEEXhZhhDOUecVKwmfxeErsQ0mXWYWXN2SkiGjH2s5xsc2xtZJOxiRHqEbD0zY7fWs2NBuDIQDN9XpL2q2k_vlYg5vhOGdLrZ_IueFv6N4He9hW_R0Ov5KZYqaxeOfO9ZprH4QcQxNpSjGTdWSsAYECGbLy9Aj7OERUoGgDMBJqc4hqrg3i28lP_ohTtkTCOYEozujRLM4FIgoH2bV8&__tn__=%2CO%2CP-R'}, 'pfbid02WoitVK3UJZyu4hwcpwYFDWoyTxikxs9FQUn4KFwLu4hwqkyLLDQ5eCiNYiQbJxoal': {'name': 'Meta AI', 'shares': 159, 'reactions': {'likes': 264, 'loves': 31, 'wow': 0, 'cares': 0, 'sad': 0, 'angry': 0, 'haha': 0}, 'reaction_count': 295, 'comments': 29, 'content': \"Today, we're announcing two major advancements in our work toward general-purpose embodied AI agents that can help form the foundation for embodied intelligence.More details on this new research  https://bit.ly/40vsKUfOptimistic science fiction typically imagines a future where humans create art and pursue fulfilling pastimes while AI-enabled robots handle dull or dangerous tasks. But while we're seeing the use of AI expand quickly in knowledge and creative tasks, robots aren't yet doing our household chores. VC-1 and ASC by Meta AI researchers are taking a step toward robots that can better generalize from human videos & simulated interactions and apply those learnings to real-world tasks.We are optimistic about how these advancements could one day serve as building blocks for AI-powered experiences where virtual assistants and physical robots can assist humans and interact seamlessly with both the virtual and physical world.\", 'posted_on': '2023-03-31T00:00:00', 'video': ['blob:https://www.facebook.com/09a4955c-d46e-464a-bb29-196c93c89414'], 'image': ['https://scontent-iad3-1.xx.fbcdn.net/v/t15.5256-10/338738933_2349371695240783_975898390803865771_n.jpg?stp=dst-jpg_p180x540&_nc_cat=107&ccb=1-7&_nc_sid=ad6a45&_nc_ohc=dT09Vy0lSWoAX9Mn_zH&_nc_ht=scontent-iad3-1.xx&oh=00_AfB-v6xLWegIT834Vkurm36fnafSY4k9agmXFe5tgfvw7w&oe=645BCF84'], 'post_url': 'https://www.facebook.com/MetaAI/posts/pfbid02WoitVK3UJZyu4hwcpwYFDWoyTxikxs9FQUn4KFwLu4hwqkyLLDQ5eCiNYiQbJxoal?__cft__[0]=AZW8qwa8QyiR_TbIQQ3OUJGnTa76eoiBwStw3UK-ZtVa65N1uKwj7xYur9zVeyho22CMgq7oR3_lrGzIYbDX4LMrY-Qd4K3Tu5Woa1A9LKYX_t9rT8aGr6ZbL8AQRhTSBgV0-yqlCzmlJ2z34ZG2tjaKytOl9EPuY27BqcoMo9EeP1PlzdF87lKOFl3ABFTtmhZnCzpJ2ty-liuWMBVmXSJV&__tn__=%2CO%2CP-R'}, 'pfbid035w5k6Ng7tX1XR52evkf37PqcHWFtPEZdbkgTxqprPoqFm3sT7ihPntCYUSQNEfDl': {'name': 'Meta AI', 'shares': 44, 'reactions': {'likes': 236, 'loves': 19, 'wow': 0, 'cares': 0, 'sad': 0, 'angry': 0, 'haha': 0}, 'reaction_count': 255, 'comments': 18, 'content': \"AI development ecosystems are increasingly complex and challenging to maintain, and companies at Meta's scale need to develop highly efficient systems to build, serve and improve AI models for production applications. We believe many of the techniques outlined in this new post on our blog can be applied broadly and we hope that sharing this work and our learnings will help others find greater efficiencies as they approach this work.\", 'posted_on': '2023-03-24T00:00:00', 'video': [], 'image': ['https://www.facebook.com/'], 'post_url': 'https://www.facebook.com/MetaAI/posts/pfbid035w5k6Ng7tX1XR52evkf37PqcHWFtPEZdbkgTxqprPoqFm3sT7ihPntCYUSQNEfDl?__cft__[0]=AZUBEj_994ImAm6XHYb0nfjA-f8JENrr6u7jL0ppYSPTYpYTfndKqtLtzqgMzeSKitWCA0uOMARjMqt4fYzGZ6Cna_XqQPGLv3tdLPuiZeP0Fm9DxC4AU38qMnJaQT94ndt3ZJZK5wmdOjLV_ztGABdoI_PovVO0sjkz6fqUcO0CeQNRhKUBRULIDpeOphVCQis6Dy_1UEM3jDfgccNGiJ6b&__tn__=%2CO%2CP-R'}, 'pfbid02MgP7UDUxLTx8hJKqi14Vj7TP7DxJedB4nMQw9dBDKx4FK86nNBknxCXK8kQPgfs3l': {'name': 'Meta AI', 'shares': 30, 'reactions': {'likes': 261, 'loves': 25, 'wow': 0, 'cares': 0, 'sad': 0, 'angry': 0, 'haha': 0}, 'reaction_count': 286, 'comments': 27, 'content': \"Newly published in Science Magazine today — Meta AI researchers developed a breakthrough model for protein folding by using a large language model that can accelerate folding by up to 60x — with the potential to aid work in medicine, green chemistry, renewable energy & more.Additionally today, using this model and thanks to the latest additions to the MGnify database by European Bioinformatics Institute (EMBL-EBI), we're excited to share that we’ve expanded the ESM Atlas from 617M predicted protein structures to 740M+ by computationally folding the additional sequences in just 6 days using spare capacity in our GPU cluster. We're excited to share these with the scientific community and can't wait to see what others in the field are able to do with this expanded resource in this ever-important space.\", 'posted_on': '2023-03-17T00:00:00', 'video': [], 'image': ['https://external-iad3-2.xx.fbcdn.net/emg1/v/t13/10056304650692282424?url=https%3A%2F%2Fwww.science.org%2Fcms%2Fasset%2F0e8a1fa5-4590-4a9b-b92e-85ca7dda4817%2Fkeyimage.gif&fb_obo=1&utld=science.org&stp=c0.5000x0.5000f_dst-jpg_flffffff_p500x261_q75&ccb=13-1&oh=06_AbGWKCeHQsfx7mHbCxkumcJPQPOzbrO_cxRWAAAkHC3_jQ&oe=6457CCAA&_nc_sid=aeaded'], 'post_url': 'https://www.facebook.com/MetaAI/posts/pfbid02MgP7UDUxLTx8hJKqi14Vj7TP7DxJedB4nMQw9dBDKx4FK86nNBknxCXK8kQPgfs3l?__cft__[0]=AZX81rxs73mLkkh0aWF26TpJrZTD64mc5mfB5zoE5IgfgAkFudIyHBPmPn8smDjBgT5vrQApyzIF8bOgiHzY59Qsi_lZ4Hp8j8o2Fzi10OzGYqtpEWeyP878v7YIjLYRLIxRhbVSz_NOefJDwQxz7_lWsrtvysqFd8DzMAtSeZhams4hm4_08H4b_7C5a6wZDN5UPUiSXwgfEy5xxkngJwIA&__tn__=%2CO%2CP-R'}, 'pfbid023KUTk14ZodAZQCP4v2xUJaeQidHZqwQttpcJ8W5yEFyNYK37N1esyCJ9aaDij2d7l': {'name': 'Meta AI', 'shares': 39, 'reactions': {'likes': 127, 'loves': 15, 'wow': 0, 'cares': 0, 'sad': 0, 'angry': 0, 'haha': 0}, 'reaction_count': 142, 'comments': 18, 'content': 'Today we’re open-sourcing Casual Conversations v2.To evaluate fairness rigorously in applications like computer vision and speech recognition, AI researchers need data that shows how well a model works for different demographic groups. We released Casual Conversations in 2021 as the first consent-driven data set that includes self-identified categories of participants having video conversations. With today’s release of Casual Conversations v2, we’re introducing a new dataset to include a broader and more granular list of self-identified and annotated categories, plus the inclusion of recordings from seven countries.With a more diverse data set, researchers can fine-tune AI models even further, with greater opportunities to evaluate fairness when it comes to categories such as language, voice timbre and more. More info on the work that went into this updated dataset in this new post on the Meta AI blog  https://bit.ly/41VFG7a', 'posted_on': '2023-03-09T00:00:00', 'video': ['blob:https://www.facebook.com/afc7695c-59e5-462f-a9c3-53b73f7074d5'], 'image': ['https://scontent-iad3-2.xx.fbcdn.net/v/t15.5256-10/334563816_167771406113734_4567055150261609340_n.jpg?stp=dst-jpg_p180x540&_nc_cat=103&ccb=1-7&_nc_sid=ad6a45&_nc_ohc=-u3YLsPNQCoAX_72kX_&_nc_ht=scontent-iad3-2.xx&oh=00_AfBm_26QLJjDL6_4WrM5hZA7T1flWrU6Dslmh6PlhNWVhA&oe=645BFEA0'], 'post_url': 'https://www.facebook.com/MetaAI/posts/pfbid023KUTk14ZodAZQCP4v2xUJaeQidHZqwQttpcJ8W5yEFyNYK37N1esyCJ9aaDij2d7l?__cft__[0]=AZWxXnsseF-utnbcgAp_Rqu3a2BmoH6QKXb3Dmksi4MMT3yRkmoSmswDJHdZCSi6H54eus7mVvd72CzY8OZX0K3eGxLgzJA1o2-SvU7hLb3zgzj93eT0kFgd2BFiov-HsPSEHjSyoKzSZRzbV5zjhQrFZF0mQdbQ-zB1mHFcn570Yn4nBBgPAP4Z--rb93RecvadbJ3E5VMtAK6oPHSt9iUc&__tn__=%2CO%2CP-R'}}\n"
          ]
        }
      ],
      "source": [
        "import json\n",
        "data = json.loads(json_data)\n",
        "print(data)"
      ]
    },
    {
      "cell_type": "code",
      "execution_count": null,
      "metadata": {
        "id": "6EDGCjdN01yZ"
      },
      "outputs": [],
      "source": [
        "contents=[]\n",
        "for id in data:\n",
        "  # print(data[id][\"content\"])\n",
        "  contents.append(data[id][\"content\"])\n",
        ""
      ]
    },
    {
      "cell_type": "code",
      "execution_count": null,
      "metadata": {
        "colab": {
          "base_uri": "https://localhost:8080/"
        },
        "id": "8DzY120a1tEy",
        "outputId": "66385ec8-effe-4a8a-b505-f826db2341d4"
      },
      "outputs": [
        {
          "output_type": "stream",
          "name": "stdout",
          "text": [
            "['Self-supervised learning, or \"the dark matter of intelligence\", is a key ingredient in many recent AI breakthroughs. In order to lower barriers and help democratize access to this important field of research, we released the SSL Cookbook, a practical guide for researchers working to navigate the intricacies of SSL research and contribute to this important space.We\\'re excited to offer this resource for the community to help more researchers access this space.', \"RSVP to join us and get notified when we go live on May 18th @ 9am PT.AI Infra @Scale is a one-day virtual event featuring a range of speakers from Meta who will unveil the latest AI infrastructure investments and innovations powering Meta's products and services.\", 'Do SSL models have a case of Déjà Vu?Read the paper  https://bit.ly/429QwpiIn a new paper, we performed a systematic study of the unintended memorization of image-specific information in SSL models. The work uncovered new, previously unknown risks in SSL models which we refer to as déjà vu memorization. This type of memorization is common to different SSL algorithms, is exacerbated by certain design choices, and cannot be detected by conventional techniques for evaluating representation quality. As part of this work Meta AI researchers suggest new, potential practical mitigation strategies for consideration by others in the field working to build new SSL models.', ' Just announced! Join us live on May 18th for AI Infra @Scale, a one-day virtual event sharing a look at the next generation of AI infrastructure and innovations powering Meta’s products and services today and in the future.RSVP ', \"Today we're releasing DINOv2 — a new state-of-the-art method by Meta AI that uses self-supervised learning to train high-performance computer vision models.Announced by Mark Zuckerberg this morning, models using the DINOv2 method can be trained on any collection of licensed images without requiring additional metadata. On top of this, DINOv2 doesn't require fine-tuning — making it suitable as a backbone for many different types of computer vision tasks.Self-supervised computer vision models like DINOv2 will be useful in a wide variety of applications. For example, Meta collaborated with the World Resources Institute to use AI to map forests, tree by tree, across areas the size of continents. Our self-supervised model was trained on data from forests in North America, but evaluations confirm that it generalizes well and delivers accurate maps in other locations around the world.Learn more about this newly released work  https://bit.ly/3oeaOPLTry the demo  https://bit.ly/3L6ke8V\", \"Drawing as a unique form of human communication is often clear to other humans, but the abstract appearance of amateur art can be challenging for AI models trained on real objects. With the new dataset we're releasing today, researchers and practitioners can build tools to more effectively analyze the contents of amateur drawings.Today, we're open-sourcing our animated drawings code + releasing a first-of-its-kind dataset of nearly 180,000 annotated amateur drawings to help researchers keep innovating in this space.More details on our blog  https://bit.ly/43qVIXqWe're excited for how this work will open new opportunities in areas ranging from storytelling, to accessibility and more.\", \"This new model by Meta AI is capable of one-click segmentation and masking any object from any photo or video. Segment Anything Model (SAM) has learned a general notion of what objects are and can generate masks for any object in any image, including types that it didn’t see during training.There's a link to the demo so you can try it yourself in the full post on our bio.We hope this work will help accelerate computer vision research and enable entirely new applications.\", \"Knowing that this work is changing the world in fields such as accessibility, sustainability, climate change and so much more is a big part of what drives us to keep pushing the boundaries of what's possible with AI.\", \"Segmentation has far-ranging use cases and implications, from creative to geological, scientific and much more. Today we're releasing Segment Anything, an important step toward the first foundation model for image segmentation — and an accompanying dataset to help progress the field.This new model is capable of one-click segmentation and masking any object from any photo or video. While typical segmentation models have been limited to highly specialized and narrow tasks, Segment Anything Model (SAM) has learned a general notion of what objects are and can generate masks for any object in any image, including types that it didn’t see during training.More details  https://bit.ly/3U8FdecTry the demo  https://bit.ly/3KaFFEjIn addition to the new model, we’re releasing a Segment Anything dataset of over 1 billion masks (SA-1B), which is 400x larger than existing segmentation datasets. It was collected using SAM and was also used to train it. Human annotators used the model to interactively annotate images, and this data was used to update the model. We repeated this cycle many times to continuously improve both the model and dataset, ultimately reaching a state where we were able to generate the final version of SA-1B automatically without human feedback.We hope this work will help accelerate computer vision research and enable entirely new applications.\", ' New paper: Learning to Read Braille: Bridging the Tactile Reality Gap with Diffusion Models. Together with researchers at University of Washington, we present Tactile Diffusion, the first method to leverage probabilistic diffusion models for narrowing the sim2real gap for vision-based tactile sensing. Tactile diffusion generates from sim depth data tactile images that realistically render the complex illumination changes due to the gel deformation.On real braille reading tasks with a DIGIT sensor, a classifier trained with our diffusion model outperformed classifiers trained with simulation fine-tuned with 4x more real data.Read the full paper  https://bit.ly/3nKchxc', 'We announced two major advancements in our work toward general-purpose embodied AI agents that can help form the foundation for embodied intelligence. More details on the Meta AI blog.', \"Today, we're announcing two major advancements in our work toward general-purpose embodied AI agents that can help form the foundation for embodied intelligence.More details on this new research  https://bit.ly/40vsKUfOptimistic science fiction typically imagines a future where humans create art and pursue fulfilling pastimes while AI-enabled robots handle dull or dangerous tasks. But while we're seeing the use of AI expand quickly in knowledge and creative tasks, robots aren't yet doing our household chores. VC-1 and ASC by Meta AI researchers are taking a step toward robots that can better generalize from human videos & simulated interactions and apply those learnings to real-world tasks.We are optimistic about how these advancements could one day serve as building blocks for AI-powered experiences where virtual assistants and physical robots can assist humans and interact seamlessly with both the virtual and physical world.\", \"AI development ecosystems are increasingly complex and challenging to maintain, and companies at Meta's scale need to develop highly efficient systems to build, serve and improve AI models for production applications. We believe many of the techniques outlined in this new post on our blog can be applied broadly and we hope that sharing this work and our learnings will help others find greater efficiencies as they approach this work.\", \"Newly published in Science Magazine today — Meta AI researchers developed a breakthrough model for protein folding by using a large language model that can accelerate folding by up to 60x — with the potential to aid work in medicine, green chemistry, renewable energy & more.Additionally today, using this model and thanks to the latest additions to the MGnify database by European Bioinformatics Institute (EMBL-EBI), we're excited to share that we’ve expanded the ESM Atlas from 617M predicted protein structures to 740M+ by computationally folding the additional sequences in just 6 days using spare capacity in our GPU cluster. We're excited to share these with the scientific community and can't wait to see what others in the field are able to do with this expanded resource in this ever-important space.\", 'Today we’re open-sourcing Casual Conversations v2.To evaluate fairness rigorously in applications like computer vision and speech recognition, AI researchers need data that shows how well a model works for different demographic groups. We released Casual Conversations in 2021 as the first consent-driven data set that includes self-identified categories of participants having video conversations. With today’s release of Casual Conversations v2, we’re introducing a new dataset to include a broader and more granular list of self-identified and annotated categories, plus the inclusion of recordings from seven countries.With a more diverse data set, researchers can fine-tune AI models even further, with greater opportunities to evaluate fairness when it comes to categories such as language, voice timbre and more. More info on the work that went into this updated dataset in this new post on the Meta AI blog  https://bit.ly/41VFG7a']\n"
          ]
        }
      ],
      "source": [
        "print(contents)"
      ]
    },
    {
      "cell_type": "code",
      "execution_count": null,
      "metadata": {
        "id": "xVw30BrE14uS"
      },
      "outputs": [],
      "source": [
        "import re\n",
        "def removeatfromTweet(tweet):\n",
        "    tweet = re.sub(r'@[A-Za-z0-9]+', '', tweet)\n",
        "    tweet = re.sub(r'http\\S+', '', tweet)\n",
        "    tweet = re.sub(r'\\W', ' ', tweet)\n",
        "    tweet = re.sub(r'\\s+[a-zA-Z]\\s+', ' ', tweet)\n",
        "    return tweet;\n",
        "def preprocessTweets(tweets):\n",
        "    output = []\n",
        "    for tweet in tweets:\n",
        "        output.append(removeatfromTweet(tweet)) ;\n",
        "    return output ;\n"
      ]
    },
    {
      "cell_type": "code",
      "execution_count": null,
      "metadata": {
        "colab": {
          "base_uri": "https://localhost:8080/"
        },
        "id": "qwzHBA9D2WL9",
        "outputId": "6a111e9c-f119-40da-f03f-05522221d747"
      },
      "outputs": [
        {
          "output_type": "stream",
          "name": "stdout",
          "text": [
            "['Self supervised learning  or  the dark matter of intelligence   is key ingredient in many recent AI breakthroughs  In order to lower barriers and help democratize access to this important field of research  we released the SSL Cookbook practical guide for researchers working to navigate the intricacies of SSL research and contribute to this important space We re excited to offer this resource for the community to help more researchers access this space ', 'RSVP to join us and get notified when we go live on May 18th   9am PT AI Infra  is one day virtual event featuring range of speakers from Meta who will unveil the latest AI infrastructure investments and innovations powering Meta products and services ', 'Do SSL models have case of Déjà Vu Read the paper new paper  we performed systematic study of the unintended memorization of image specific information in SSL models  The work uncovered new  previously unknown risks in SSL models which we refer to as déjà vu memorization  This type of memorization is common to different SSL algorithms  is exacerbated by certain design choices  and cannot be detected by conventional techniques for evaluating representation quality  As part of this work Meta AI researchers suggest new  potential practical mitigation strategies for consideration by others in the field working to build new SSL models ', ' Just announced  Join us live on May 18th for AI Infra one day virtual event sharing look at the next generation of AI infrastructure and innovations powering Meta products and services today and in the future RSVP ', 'Today we re releasing DINOv2 new state of the art method by Meta AI that uses self supervised learning to train high performance computer vision models Announced by Mark Zuckerberg this morning  models using the DINOv2 method can be trained on any collection of licensed images without requiring additional metadata  On top of this  DINOv2 doesn require fine tuning   making it suitable as backbone for many different types of computer vision tasks Self supervised computer vision models like DINOv2 will be useful in wide variety of applications  For example  Meta collaborated with the World Resources Institute to use AI to map forests  tree by tree  across areas the size of continents  Our self supervised model was trained on data from forests in North America  but evaluations confirm that it generalizes well and delivers accurate maps in other locations around the world Learn more about this newly released work   the demo  ', 'Drawing as unique form of human communication is often clear to other humans  but the abstract appearance of amateur art can be challenging for AI models trained on real objects  With the new dataset we re releasing today  researchers and practitioners can build tools to more effectively analyze the contents of amateur drawings Today  we re open sourcing our animated drawings code   releasing first of its kind dataset of nearly 180 000 annotated amateur drawings to help researchers keep innovating in this space More details on our blog   excited for how this work will open new opportunities in areas ranging from storytelling  to accessibility and more ', 'This new model by Meta AI is capable of one click segmentation and masking any object from any photo or video  Segment Anything Model  SAM  has learned general notion of what objects are and can generate masks for any object in any image  including types that it didn see during training There a link to the demo so you can try it yourself in the full post on our bio We hope this work will help accelerate computer vision research and enable entirely new applications ', 'Knowing that this work is changing the world in fields such as accessibility  sustainability  climate change and so much more is big part of what drives us to keep pushing the boundaries of what possible with AI ', 'Segmentation has far ranging use cases and implications  from creative to geological  scientific and much more  Today we re releasing Segment Anything  an important step toward the first foundation model for image segmentation   and an accompanying dataset to help progress the field This new model is capable of one click segmentation and masking any object from any photo or video  While typical segmentation models have been limited to highly specialized and narrow tasks  Segment Anything Model  SAM  has learned general notion of what objects are and can generate masks for any object in any image  including types that it didn see during training More details   the demo   addition to the new model  we re releasing Segment Anything dataset of over 1 billion masks  SA 1B   which is 400x larger than existing segmentation datasets  It was collected using SAM and was also used to train it  Human annotators used the model to interactively annotate images  and this data was used to update the model  We repeated this cycle many times to continuously improve both the model and dataset  ultimately reaching state where we were able to generate the final version of SA 1B automatically without human feedback We hope this work will help accelerate computer vision research and enable entirely new applications ', ' New paper  Learning to Read Braille  Bridging the Tactile Reality Gap with Diffusion Models  Together with researchers at University of Washington  we present Tactile Diffusion  the first method to leverage probabilistic diffusion models for narrowing the sim2real gap for vision based tactile sensing  Tactile diffusion generates from sim depth data tactile images that realistically render the complex illumination changes due to the gel deformation On real braille reading tasks with DIGIT sensor classifier trained with our diffusion model outperformed classifiers trained with simulation fine tuned with 4x more real data Read the full paper  ', 'We announced two major advancements in our work toward general purpose embodied AI agents that can help form the foundation for embodied intelligence  More details on the Meta AI blog ', 'Today  we re announcing two major advancements in our work toward general purpose embodied AI agents that can help form the foundation for embodied intelligence More details on this new research   science fiction typically imagines future where humans create art and pursue fulfilling pastimes while AI enabled robots handle dull or dangerous tasks  But while we re seeing the use of AI expand quickly in knowledge and creative tasks  robots aren yet doing our household chores  VC 1 and ASC by Meta AI researchers are taking step toward robots that can better generalize from human videos   simulated interactions and apply those learnings to real world tasks We are optimistic about how these advancements could one day serve as building blocks for AI powered experiences where virtual assistants and physical robots can assist humans and interact seamlessly with both the virtual and physical world ', 'AI development ecosystems are increasingly complex and challenging to maintain  and companies at Meta scale need to develop highly efficient systems to build  serve and improve AI models for production applications  We believe many of the techniques outlined in this new post on our blog can be applied broadly and we hope that sharing this work and our learnings will help others find greater efficiencies as they approach this work ', 'Newly published in Science Magazine today   Meta AI researchers developed breakthrough model for protein folding by using large language model that can accelerate folding by up to 60x   with the potential to aid work in medicine  green chemistry  renewable energy   more Additionally today  using this model and thanks to the latest additions to the MGnify database by European Bioinformatics Institute  EMBL EBI   we re excited to share that we ve expanded the ESM Atlas from 617M predicted protein structures to 740M  by computationally folding the additional sequences in just 6 days using spare capacity in our GPU cluster  We re excited to share these with the scientific community and can wait to see what others in the field are able to do with this expanded resource in this ever important space ', 'Today we re open sourcing Casual Conversations v2 To evaluate fairness rigorously in applications like computer vision and speech recognition  AI researchers need data that shows how well model works for different demographic groups  We released Casual Conversations in 2021 as the first consent driven data set that includes self identified categories of participants having video conversations  With today release of Casual Conversations v2  we re introducing new dataset to include broader and more granular list of self identified and annotated categories  plus the inclusion of recordings from seven countries With more diverse data set  researchers can fine tune AI models even further  with greater opportunities to evaluate fairness when it comes to categories such as language  voice timbre and more  More info on the work that went into this updated dataset in this new post on the Meta AI blog  ']\n"
          ]
        }
      ],
      "source": [
        "import numpy as np\n",
        "contents = preprocessTweets(contents);\n",
        "print(contents)\n",
        "contents = np.array(contents)"
      ]
    },
    {
      "cell_type": "code",
      "execution_count": null,
      "metadata": {
        "id": "osSl5-572oGt"
      },
      "outputs": [],
      "source": [
        " contents_c = vectorizer.transform(contents)"
      ]
    },
    {
      "cell_type": "code",
      "execution_count": null,
      "metadata": {
        "id": "YEdl1Akb21hC"
      },
      "outputs": [],
      "source": [
        "lc_pred = lrc.predict(contents_c)"
      ]
    },
    {
      "cell_type": "code",
      "execution_count": null,
      "metadata": {
        "id": "3mnicRHC24gu",
        "colab": {
          "base_uri": "https://localhost:8080/"
        },
        "outputId": "02fd1ad6-a0fa-4970-8f88-451e93d11a82"
      },
      "outputs": [
        {
          "output_type": "stream",
          "name": "stdout",
          "text": [
            "[1, 1, 1, 1, 1, 1, 1, 1, 1, 1, 1, 1, 1, 1, 1]\n",
            "['Self supervised learning  or  the dark matter of intelligence   is key ingredient in many recent AI breakthroughs  In order to lower barriers and help democratize access to this important field of research  we released the SSL Cookbook practical guide for researchers working to navigate the intricacies of SSL research and contribute to this important space We re excited to offer this resource for the community to help more researchers access this space ', 'RSVP to join us and get notified when we go live on May 18th   9am PT AI Infra  is one day virtual event featuring range of speakers from Meta who will unveil the latest AI infrastructure investments and innovations powering Meta products and services ', 'Do SSL models have case of Déjà Vu Read the paper new paper  we performed systematic study of the unintended memorization of image specific information in SSL models  The work uncovered new  previously unknown risks in SSL models which we refer to as déjà vu memorization  This type of memorization is common to different SSL algorithms  is exacerbated by certain design choices  and cannot be detected by conventional techniques for evaluating representation quality  As part of this work Meta AI researchers suggest new  potential practical mitigation strategies for consideration by others in the field working to build new SSL models ', ' Just announced  Join us live on May 18th for AI Infra one day virtual event sharing look at the next generation of AI infrastructure and innovations powering Meta products and services today and in the future RSVP ', 'Today we re releasing DINOv2 new state of the art method by Meta AI that uses self supervised learning to train high performance computer vision models Announced by Mark Zuckerberg this morning  models using the DINOv2 method can be trained on any collection of licensed images without requiring additional metadata  On top of this  DINOv2 doesn require fine tuning   making it suitable as backbone for many different types of computer vision tasks Self supervised computer vision models like DINOv2 will be useful in wide variety of applications  For example  Meta collaborated with the World Resources Institute to use AI to map forests  tree by tree  across areas the size of continents  Our self supervised model was trained on data from forests in North America  but evaluations confirm that it generalizes well and delivers accurate maps in other locations around the world Learn more about this newly released work   the demo  ', 'Drawing as unique form of human communication is often clear to other humans  but the abstract appearance of amateur art can be challenging for AI models trained on real objects  With the new dataset we re releasing today  researchers and practitioners can build tools to more effectively analyze the contents of amateur drawings Today  we re open sourcing our animated drawings code   releasing first of its kind dataset of nearly 180 000 annotated amateur drawings to help researchers keep innovating in this space More details on our blog   excited for how this work will open new opportunities in areas ranging from storytelling  to accessibility and more ', 'This new model by Meta AI is capable of one click segmentation and masking any object from any photo or video  Segment Anything Model  SAM  has learned general notion of what objects are and can generate masks for any object in any image  including types that it didn see during training There a link to the demo so you can try it yourself in the full post on our bio We hope this work will help accelerate computer vision research and enable entirely new applications ', 'Knowing that this work is changing the world in fields such as accessibility  sustainability  climate change and so much more is big part of what drives us to keep pushing the boundaries of what possible with AI ', 'Segmentation has far ranging use cases and implications  from creative to geological  scientific and much more  Today we re releasing Segment Anything  an important step toward the first foundation model for image segmentation   and an accompanying dataset to help progress the field This new model is capable of one click segmentation and masking any object from any photo or video  While typical segmentation models have been limited to highly specialized and narrow tasks  Segment Anything Model  SAM  has learned general notion of what objects are and can generate masks for any object in any image  including types that it didn see during training More details   the demo   addition to the new model  we re releasing Segment Anything dataset of over 1 billion masks  SA 1B   which is 400x larger than existing segmentation datasets  It was collected using SAM and was also used to train it  Human annotators used the model to interactively annotate images  and this data was used to update the model  We repeated this cycle many times to continuously improve both the model and dataset  ultimately reaching state where we were able to generate the final version of SA 1B automatically without human feedback We hope this work will help accelerate computer vision research and enable entirely new applications ', ' New paper  Learning to Read Braille  Bridging the Tactile Reality Gap with Diffusion Models  Together with researchers at University of Washington  we present Tactile Diffusion  the first method to leverage probabilistic diffusion models for narrowing the sim2real gap for vision based tactile sensing  Tactile diffusion generates from sim depth data tactile images that realistically render the complex illumination changes due to the gel deformation On real braille reading tasks with DIGIT sensor classifier trained with our diffusion model outperformed classifiers trained with simulation fine tuned with 4x more real data Read the full paper  ', 'We announced two major advancements in our work toward general purpose embodied AI agents that can help form the foundation for embodied intelligence  More details on the Meta AI blog ', 'Today  we re announcing two major advancements in our work toward general purpose embodied AI agents that can help form the foundation for embodied intelligence More details on this new research   science fiction typically imagines future where humans create art and pursue fulfilling pastimes while AI enabled robots handle dull or dangerous tasks  But while we re seeing the use of AI expand quickly in knowledge and creative tasks  robots aren yet doing our household chores  VC 1 and ASC by Meta AI researchers are taking step toward robots that can better generalize from human videos   simulated interactions and apply those learnings to real world tasks We are optimistic about how these advancements could one day serve as building blocks for AI powered experiences where virtual assistants and physical robots can assist humans and interact seamlessly with both the virtual and physical world ', 'AI development ecosystems are increasingly complex and challenging to maintain  and companies at Meta scale need to develop highly efficient systems to build  serve and improve AI models for production applications  We believe many of the techniques outlined in this new post on our blog can be applied broadly and we hope that sharing this work and our learnings will help others find greater efficiencies as they approach this work ', 'Newly published in Science Magazine today   Meta AI researchers developed breakthrough model for protein folding by using large language model that can accelerate folding by up to 60x   with the potential to aid work in medicine  green chemistry  renewable energy   more Additionally today  using this model and thanks to the latest additions to the MGnify database by European Bioinformatics Institute  EMBL EBI   we re excited to share that we ve expanded the ESM Atlas from 617M predicted protein structures to 740M  by computationally folding the additional sequences in just 6 days using spare capacity in our GPU cluster  We re excited to share these with the scientific community and can wait to see what others in the field are able to do with this expanded resource in this ever important space ', 'Today we re open sourcing Casual Conversations v2 To evaluate fairness rigorously in applications like computer vision and speech recognition  AI researchers need data that shows how well model works for different demographic groups  We released Casual Conversations in 2021 as the first consent driven data set that includes self identified categories of participants having video conversations  With today release of Casual Conversations v2  we re introducing new dataset to include broader and more granular list of self identified and annotated categories  plus the inclusion of recordings from seven countries With more diverse data set  researchers can fine tune AI models even further  with greater opportunities to evaluate fairness when it comes to categories such as language  voice timbre and more  More info on the work that went into this updated dataset in this new post on the Meta AI blog  ']\n"
          ]
        }
      ],
      "source": [
        "lc_pred = list(lc_pred)\n",
        "print(lc_pred)\n",
        "contents = list(contents)\n",
        "print(contents)"
      ]
    },
    {
      "cell_type": "code",
      "execution_count": null,
      "metadata": {
        "id": "TtW47TXu2wq2",
        "colab": {
          "base_uri": "https://localhost:8080/"
        },
        "outputId": "666db89f-6309-4fb9-90ba-3cfc8d01028a"
      },
      "outputs": [
        {
          "output_type": "stream",
          "name": "stdout",
          "text": [
            "+--------------------------------------------------------------------------------------------------------------------------------------------------------------------------------------------------------------------------------------------------------------------------------------------------------------------------------------------------------------------------------------------------------------------------------------------------------------------------------------------------------------------------------------------------------------------------------------------------------------------------------------------------------------------------------------------------------------------------------------------------------------------------------------------------------------------------------------------------------------------------------------------------------------------------------------------------------------------------------------------------------------------------------------------------------------------------------------------------------------------------------------------------------------------------------------------------------------------------------------------------------------------------------------------------------------------------------------------------------------------+--------+\n",
            "|                                                                                                                                                                                                                                                                                                                                                                                                                                                                                                                                                                                                                                                                           SentimentText                                                                                                                                                                                                                                                                                                                                                                                                                                                                                                                                                                                                                                                                            | Output |\n",
            "+--------------------------------------------------------------------------------------------------------------------------------------------------------------------------------------------------------------------------------------------------------------------------------------------------------------------------------------------------------------------------------------------------------------------------------------------------------------------------------------------------------------------------------------------------------------------------------------------------------------------------------------------------------------------------------------------------------------------------------------------------------------------------------------------------------------------------------------------------------------------------------------------------------------------------------------------------------------------------------------------------------------------------------------------------------------------------------------------------------------------------------------------------------------------------------------------------------------------------------------------------------------------------------------------------------------------------------------------------------------------+--------+\n",
            "|                                                                                                                                                                                                                                                                                                                                                                                                                                             Self supervised learning  or  the dark matter of intelligence   is key ingredient in many recent AI breakthroughs  In order to lower barriers and help democratize access to this important field of research  we released the SSL Cookbook practical guide for researchers working to navigate the intricacies of SSL research and contribute to this important space We re excited to offer this resource for the community to help more researchers access this space                                                                                                                                                                                                                                                                                                                                                                                                                                               |   1    |\n",
            "|                                                                                                                                                                                                                                                                                                                                                                                                                                                                                                                                                    RSVP to join us and get notified when we go live on May 18th   9am PT AI Infra  is one day virtual event featuring range of speakers from Meta who will unveil the latest AI infrastructure investments and innovations powering Meta products and services                                                                                                                                                                                                                                                                                                                                                                                                                                                                                                                                                     |   1    |\n",
            "|                                                                                                                                                                                                                                                                                                                                                   Do SSL models have case of Déjà Vu Read the paper new paper  we performed systematic study of the unintended memorization of image specific information in SSL models  The work uncovered new  previously unknown risks in SSL models which we refer to as déjà vu memorization  This type of memorization is common to different SSL algorithms  is exacerbated by certain design choices  and cannot be detected by conventional techniques for evaluating representation quality  As part of this work Meta AI researchers suggest new  potential practical mitigation strategies for consideration by others in the field working to build new SSL models                                                                                                                                                                                                                                                                                                                                                    |   1    |\n",
            "|                                                                                                                                                                                                                                                                                                                                                                                                                                                                                                                                                                       Just announced  Join us live on May 18th for AI Infra one day virtual event sharing look at the next generation of AI infrastructure and innovations powering Meta products and services today and in the future RSVP                                                                                                                                                                                                                                                                                                                                                                                                                                                                                                                                                                        |   1    |\n",
            "|                                                                                                                                                                                               Today we re releasing DINOv2 new state of the art method by Meta AI that uses self supervised learning to train high performance computer vision models Announced by Mark Zuckerberg this morning  models using the DINOv2 method can be trained on any collection of licensed images without requiring additional metadata  On top of this  DINOv2 doesn require fine tuning   making it suitable as backbone for many different types of computer vision tasks Self supervised computer vision models like DINOv2 will be useful in wide variety of applications  For example  Meta collaborated with the World Resources Institute to use AI to map forests  tree by tree  across areas the size of continents  Our self supervised model was trained on data from forests in North America  but evaluations confirm that it generalizes well and delivers accurate maps in other locations around the world Learn more about this newly released work   the demo                                                                                                                                                                                                 |   1    |\n",
            "|                                                                                                                                                                                                                                                                                                                                        Drawing as unique form of human communication is often clear to other humans  but the abstract appearance of amateur art can be challenging for AI models trained on real objects  With the new dataset we re releasing today  researchers and practitioners can build tools to more effectively analyze the contents of amateur drawings Today  we re open sourcing our animated drawings code   releasing first of its kind dataset of nearly 180 000 annotated amateur drawings to help researchers keep innovating in this space More details on our blog   excited for how this work will open new opportunities in areas ranging from storytelling  to accessibility and more                                                                                                                                                                                                                                                                                                                                         |   1    |\n",
            "|                                                                                                                                                                                                                                                                                                                                                                                                                                       This new model by Meta AI is capable of one click segmentation and masking any object from any photo or video  Segment Anything Model  SAM  has learned general notion of what objects are and can generate masks for any object in any image  including types that it didn see during training There a link to the demo so you can try it yourself in the full post on our bio We hope this work will help accelerate computer vision research and enable entirely new applications                                                                                                                                                                                                                                                                                                                                                                                                                                         |   1    |\n",
            "|                                                                                                                                                                                                                                                                                                                                                                                                                                                                                                                                                                        Knowing that this work is changing the world in fields such as accessibility  sustainability  climate change and so much more is big part of what drives us to keep pushing the boundaries of what possible with AI                                                                                                                                                                                                                                                                                                                                                                                                                                                                                                                                                                         |   1    |\n",
            "| Segmentation has far ranging use cases and implications  from creative to geological  scientific and much more  Today we re releasing Segment Anything  an important step toward the first foundation model for image segmentation   and an accompanying dataset to help progress the field This new model is capable of one click segmentation and masking any object from any photo or video  While typical segmentation models have been limited to highly specialized and narrow tasks  Segment Anything Model  SAM  has learned general notion of what objects are and can generate masks for any object in any image  including types that it didn see during training More details   the demo   addition to the new model  we re releasing Segment Anything dataset of over 1 billion masks  SA 1B   which is 400x larger than existing segmentation datasets  It was collected using SAM and was also used to train it  Human annotators used the model to interactively annotate images  and this data was used to update the model  We repeated this cycle many times to continuously improve both the model and dataset  ultimately reaching state where we were able to generate the final version of SA 1B automatically without human feedback We hope this work will help accelerate computer vision research and enable entirely new applications  |   1    |\n",
            "|                                                                                                                                                                                                                                                                                                                                              New paper  Learning to Read Braille  Bridging the Tactile Reality Gap with Diffusion Models  Together with researchers at University of Washington  we present Tactile Diffusion  the first method to leverage probabilistic diffusion models for narrowing the sim2real gap for vision based tactile sensing  Tactile diffusion generates from sim depth data tactile images that realistically render the complex illumination changes due to the gel deformation On real braille reading tasks with DIGIT sensor classifier trained with our diffusion model outperformed classifiers trained with simulation fine tuned with 4x more real data Read the full paper                                                                                                                                                                                                                                                                                                                                                |   1    |\n",
            "|                                                                                                                                                                                                                                                                                                                                                                                                                                                                                                                                                                                      We announced two major advancements in our work toward general purpose embodied AI agents that can help form the foundation for embodied intelligence  More details on the Meta AI blog                                                                                                                                                                                                                                                                                                                                                                                                                                                                                                                                                                                       |   1    |\n",
            "|                                                                                                                                                                                                               Today  we re announcing two major advancements in our work toward general purpose embodied AI agents that can help form the foundation for embodied intelligence More details on this new research   science fiction typically imagines future where humans create art and pursue fulfilling pastimes while AI enabled robots handle dull or dangerous tasks  But while we re seeing the use of AI expand quickly in knowledge and creative tasks  robots aren yet doing our household chores  VC 1 and ASC by Meta AI researchers are taking step toward robots that can better generalize from human videos   simulated interactions and apply those learnings to real world tasks We are optimistic about how these advancements could one day serve as building blocks for AI powered experiences where virtual assistants and physical robots can assist humans and interact seamlessly with both the virtual and physical world                                                                                                                                                                                                                |   1    |\n",
            "|                                                                                                                                                                                                                                                                                                                                                                                                                                                         AI development ecosystems are increasingly complex and challenging to maintain  and companies at Meta scale need to develop highly efficient systems to build  serve and improve AI models for production applications  We believe many of the techniques outlined in this new post on our blog can be applied broadly and we hope that sharing this work and our learnings will help others find greater efficiencies as they approach this work                                                                                                                                                                                                                                                                                                                                                                                                                                                          |   1    |\n",
            "|                                                                                                                                                                                                                                                                Newly published in Science Magazine today   Meta AI researchers developed breakthrough model for protein folding by using large language model that can accelerate folding by up to 60x   with the potential to aid work in medicine  green chemistry  renewable energy   more Additionally today  using this model and thanks to the latest additions to the MGnify database by European Bioinformatics Institute  EMBL EBI   we re excited to share that we ve expanded the ESM Atlas from 617M predicted protein structures to 740M  by computationally folding the additional sequences in just 6 days using spare capacity in our GPU cluster  We re excited to share these with the scientific community and can wait to see what others in the field are able to do with this expanded resource in this ever important space                                                                                                                                                                                                                                                                 |   1    |\n",
            "|                                                                                                                                                                                                             Today we re open sourcing Casual Conversations v2 To evaluate fairness rigorously in applications like computer vision and speech recognition  AI researchers need data that shows how well model works for different demographic groups  We released Casual Conversations in 2021 as the first consent driven data set that includes self identified categories of participants having video conversations  With today release of Casual Conversations v2  we re introducing new dataset to include broader and more granular list of self identified and annotated categories  plus the inclusion of recordings from seven countries With more diverse data set  researchers can fine tune AI models even further  with greater opportunities to evaluate fairness when it comes to categories such as language  voice timbre and more  More info on the work that went into this updated dataset in this new post on the Meta AI blog                                                                                                                                                                                                               |   1    |\n",
            "+--------------------------------------------------------------------------------------------------------------------------------------------------------------------------------------------------------------------------------------------------------------------------------------------------------------------------------------------------------------------------------------------------------------------------------------------------------------------------------------------------------------------------------------------------------------------------------------------------------------------------------------------------------------------------------------------------------------------------------------------------------------------------------------------------------------------------------------------------------------------------------------------------------------------------------------------------------------------------------------------------------------------------------------------------------------------------------------------------------------------------------------------------------------------------------------------------------------------------------------------------------------------------------------------------------------------------------------------------------------------+--------+\n"
          ]
        }
      ],
      "source": [
        "from prettytable import PrettyTable\n",
        "\n",
        "columns = [\"SentimentText\", \"Output\"]\n",
        "\n",
        "myTable = PrettyTable()\n",
        "\n",
        "myTable.add_column(columns[0],contents);\n",
        "myTable.add_column(columns[1],lc_pred);\n",
        "print(myTable)\n"
      ]
    },
    {
      "cell_type": "code",
      "source": [
        "text=np.array(['Today was good '])\n",
        "text_vector=vectorizer.transform(text)\n",
        "lrcop=lrc.predict(text_vector)\n",
        "print(lrcop)"
      ],
      "metadata": {
        "colab": {
          "base_uri": "https://localhost:8080/"
        },
        "id": "C9I9-6RjCy2k",
        "outputId": "18b3a068-ca1b-43dc-dd52-ff255232c289"
      },
      "execution_count": null,
      "outputs": [
        {
          "output_type": "stream",
          "name": "stdout",
          "text": [
            "[1]\n"
          ]
        }
      ]
    }
  ],
  "metadata": {
    "colab": {
      "provenance": []
    },
    "kernelspec": {
      "display_name": "Python 3",
      "name": "python3"
    },
    "language_info": {
      "name": "python"
    }
  },
  "nbformat": 4,
  "nbformat_minor": 0
}